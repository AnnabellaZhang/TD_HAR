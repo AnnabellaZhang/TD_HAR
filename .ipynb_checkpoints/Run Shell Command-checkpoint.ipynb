{
 "cells": [
  {
   "cell_type": "code",
   "execution_count": 1,
   "metadata": {
    "collapsed": false
   },
   "outputs": [
    {
     "name": "stdout",
     "output_type": "stream",
     "text": [
      "/home/hadoop/jupyter\n"
     ]
    }
   ],
   "source": [
    "import os\n",
    "import sys\n",
    "\n",
    "print(os.getcwd())"
   ]
  },
  {
   "cell_type": "code",
   "execution_count": 2,
   "metadata": {
    "collapsed": false
   },
   "outputs": [],
   "source": [
    "import subprocess\n",
    "sio = [None, os.devnull, 'stderr']\n",
    "\n",
    "def gitClone(weburl):    \n",
    "    cmd=['git', 'clone', weburl]\n",
    "    runCmd(sys._getframe().f_code.co_name, cmd)\n",
    "    \n",
    "def rm(doc):\n",
    "    if os.path.exists(doc):\n",
    "        if os.path.isfile(doc):\n",
    "            cmd=['rm', doc]\n",
    "            runCmd(sys._getframe().f_code.co_name, cmd)\n",
    "        elif os.path.isdir(doc):\n",
    "            cmd=['rm', '-rf', doc]\n",
    "            runCmd(sys._getframe().f_code.co_name, cmd)\n",
    "    else:\n",
    "        print(\"\\\"\"+ doc + \"\\\" not exist\")\n",
    "            \n",
    "def mv(src, dest):\n",
    "    if os.path.exists(src):\n",
    "        if os.path.isfile(src):\n",
    "            cmd=['mv', src, dest]\n",
    "            runCmd(sys._getframe().f_code.co_name, cmd)\n",
    "    else:\n",
    "        print(\"\\\"\"+ src + \"\\\" not exist\")\n",
    "        \n",
    "def cp(src, dest):\n",
    "    if os.path.exists(src):\n",
    "        if os.path.isfile(src):\n",
    "            cmd=['cp', src, dest]\n",
    "            runCmd(sys._getframe().f_code.co_name, cmd)\n",
    "        elif os.path.isdir(src):\n",
    "            cmd=['cp', '-r', src, dest]\n",
    "            runCmd(sys._getframe().f_code.co_name, cmd)\n",
    "    else:\n",
    "        print(\"\\\"\"+ src + \"\\\" not exist\")\n",
    "    \n",
    "def runCmd(cmdname, cmd):\n",
    "    proc=subprocess.Popen(cmd, stdout=subprocess.PIPE, stderr=subprocess.STDOUT)\n",
    "    if not proc.wait():\n",
    "        if proc.stdout.readlines():\n",
    "            print(proc.stdout.readlines())\n",
    "        print(cmdname + \" Done!\")\n",
    "        \n",
    "    "
   ]
  },
  {
   "cell_type": "markdown",
   "metadata": {},
   "source": [
    "### 函数使用示例：\n",
    "+ gitClone(\"github仓库地址\")\n",
    "+ rm(\"文件或文件夹名称\")\n"
   ]
  },
  {
   "cell_type": "code",
   "execution_count": 3,
   "metadata": {
    "collapsed": false
   },
   "outputs": [
    {
     "ename": "IndentationError",
     "evalue": "unexpected indent (<ipython-input-3-9390baa411a8>, line 10)",
     "output_type": "error",
     "traceback": [
      "\u001b[0;36m  File \u001b[0;32m\"<ipython-input-3-9390baa411a8>\"\u001b[0;36m, line \u001b[0;32m10\u001b[0m\n\u001b[0;31m    rm(\"feature_extraction\")\u001b[0m\n\u001b[0m    ^\u001b[0m\n\u001b[0;31mIndentationError\u001b[0m\u001b[0;31m:\u001b[0m unexpected indent\n"
     ]
    }
   ],
   "source": [
    "# if __name__==\"__main__\":\n",
    "#    cp(\"tsfresh/notebooks/human_activity_recognition_multi_class_example.ipynb\", os.getcwd())\n",
    "    \n",
    "#     rm(\"tsfresh\")\n",
    "#     rm(\"activityrecognition\")\n",
    "   \n",
    "#     gitClone(\"https://github.com/blue-yonder/tsfresh.git\")\n",
    "#    gitClone(\"https://github.com/jindongwang/activityrecognition.git\")\n",
    "#    cp(\"activityrecognition\", '/home/hadoop/jupyter/gz')\n",
    "#     rm(\"feature_extraction\")"
   ]
  },
  {
   "cell_type": "code",
   "execution_count": null,
   "metadata": {
    "collapsed": true
   },
   "outputs": [],
   "source": []
  }
 ],
 "metadata": {
  "anaconda-cloud": {},
  "kernelspec": {
   "display_name": "Python [default]",
   "language": "python",
   "name": "python2"
  },
  "language_info": {
   "codemirror_mode": {
    "name": "ipython",
    "version": 2
   },
   "file_extension": ".py",
   "mimetype": "text/x-python",
   "name": "python",
   "nbconvert_exporter": "python",
   "pygments_lexer": "ipython2",
   "version": "2.7.12"
  }
 },
 "nbformat": 4,
 "nbformat_minor": 1
}
