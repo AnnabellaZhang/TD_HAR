{
 "cells": [
  {
   "cell_type": "code",
   "execution_count": 3,
   "metadata": {
    "collapsed": false
   },
   "outputs": [
    {
     "name": "stdout",
     "output_type": "stream",
     "text": [
      "['bus_data_set_101', 'car_data_set_103', 'running_data_set_8', 'stationary_data_set_3', 'subway_data_set_102', 'walking_data_set_7', 'UCI HAR Dataset', 'WISDM_at_v2.0_raw.txt', 'WISDM_at_v2.0_raw_about.txt']\n"
     ]
    }
   ],
   "source": [
    "import os\n",
    "\n",
    "# Use below code to visit the folder containing the datasets.\n",
    "files = os.listdir('/home/hadoop/data/')\n",
    "print(files)"
   ]
  },
  {
   "cell_type": "markdown",
   "metadata": {},
   "source": [
    "### Below files are from TD:\n",
    "\n",
    "- walking_data_set_7\n",
    "- running_data_set_8\n",
    "- bus_data_set_101\n",
    "- subway_data_set_102\n",
    "- car_data_set_103\n",
    "- stationary_data_set_3\n",
    "\n",
    "There are 6 columns in each file, the meaning of them are:\n",
    "\n",
    "    orientation_azimath,orientation_pitch,orientation_roll,accelerometer_north,accelerometer_east,accelerometer_up\n",
    "\n",
    "### Below files are from WISDM:\n",
    "\n",
    "WISDM_at_v2.0_raw.txt\n",
    "\n",
    "Please check out the description for it in file: WISDM_at_v2.0_raw_about.txt, or visit http://www.cis.fordham.edu/wisdm/dataset.php\n",
    "\n",
    "### Below files are from UCI HAR dataset\n",
    "\n",
    "UCI HAR Dataset\n",
    "\n",
    "You can find the description in above folder, or visit: http://archive.ics.uci.edu/ml/datasets/Human+Activity+Recognition+Using+Smartphones\n"
   ]
  },
  {
   "cell_type": "code",
   "execution_count": 2,
   "metadata": {
    "collapsed": false
   },
   "outputs": [
    {
     "name": "stdout",
     "output_type": "stream",
     "text": [
      "Requirement already up-to-date: pip in /home/hadoop/anaconda2/lib/python2.7/site-packages\n",
      "\u001b[33mYou are using pip version 8.1.2, however version 9.0.1 is available.\n",
      "You should consider upgrading via the 'pip install --upgrade pip' command.\u001b[0m\n"
     ]
    }
   ],
   "source": [
    "!pip install --upgrade pip"
   ]
  },
  {
   "cell_type": "code",
   "execution_count": 3,
   "metadata": {
    "collapsed": false
   },
   "outputs": [
    {
     "name": "stdout",
     "output_type": "stream",
     "text": [
      "Collecting keras\n",
      "\u001b[31m  Could not find a version that satisfies the requirement keras (from versions: )\u001b[0m\n",
      "\u001b[31mNo matching distribution found for keras\u001b[0m\n",
      "\u001b[33mYou are using pip version 8.1.2, however version 9.0.1 is available.\n",
      "You should consider upgrading via the 'pip install --upgrade pip' command.\u001b[0m\n"
     ]
    }
   ],
   "source": [
    "!pip install keras"
   ]
  },
  {
   "cell_type": "code",
   "execution_count": 4,
   "metadata": {
    "collapsed": false
   },
   "outputs": [
    {
     "name": "stdout",
     "output_type": "stream",
     "text": [
      "Collecting keras\n",
      "  Downloading https://pypi.doubanio.com/packages/ec/45/f69527dca07582dddce1e66921484e50802f4d15095a72c793e15723bf46/Keras-2.0.6.tar.gz (228kB)\n",
      "\u001b[K    100% |████████████████████████████████| 235kB 3.0MB/s \n",
      "\u001b[?25hCollecting theano (from keras)\n",
      "  Downloading https://pypi.doubanio.com/packages/28/03/6af9ff242da966f89de6ab81164db0d1a36fd89379b7370f07043de62f10/Theano-0.9.0.tar.gz (3.1MB)\n",
      "\u001b[K    100% |████████████████████████████████| 3.1MB 7.1MB/s \n",
      "\u001b[?25hRequirement already satisfied (use --upgrade to upgrade): pyyaml in /home/hadoop/anaconda2/lib/python2.7/site-packages (from keras)\n",
      "Requirement already satisfied (use --upgrade to upgrade): six in /home/hadoop/anaconda2/lib/python2.7/site-packages (from keras)\n",
      "Requirement already satisfied (use --upgrade to upgrade): numpy>=1.9.1 in /home/hadoop/anaconda2/lib/python2.7/site-packages (from theano->keras)\n",
      "Requirement already satisfied (use --upgrade to upgrade): scipy>=0.14 in /home/hadoop/anaconda2/lib/python2.7/site-packages (from theano->keras)\n",
      "Building wheels for collected packages: keras, theano\n",
      "  Running setup.py bdist_wheel for keras ... \u001b[?25l-\b \b\\\b \b|\b \b/\b \bdone\n",
      "\u001b[?25h  Stored in directory: /home/hadoop/.cache/pip/wheels/1b/e2/72/774083c07f73f0ff8b1b3503c250414945d8aa9c4e47193515\n",
      "  Running setup.py bdist_wheel for theano ... \u001b[?25l-\b \b\\\b \b|\b \b/\b \b-\b \b\\\b \b|\b \b/\b \b-\b \b\\\b \b|\b \bdone\n",
      "\u001b[?25h  Stored in directory: /home/hadoop/.cache/pip/wheels/e8/e5/ba/78a88631ba44883d71ef52cdd0f08375c0d728c97a974ffdcb\n",
      "Successfully built keras theano\n",
      "Installing collected packages: theano, keras\n",
      "Successfully installed keras-2.0.6 theano-0.9.0\n",
      "\u001b[33mYou are using pip version 8.1.2, however version 9.0.1 is available.\n",
      "You should consider upgrading via the 'pip install --upgrade pip' command.\u001b[0m\n"
     ]
    }
   ],
   "source": [
    "!pip install keras -i https://pypi.douban.com/simple"
   ]
  },
  {
   "cell_type": "code",
   "execution_count": 1,
   "metadata": {
    "collapsed": false
   },
   "outputs": [
    {
     "name": "stderr",
     "output_type": "stream",
     "text": [
      "Using TensorFlow backend.\n"
     ]
    }
   ],
   "source": [
    "import keras"
   ]
  },
  {
   "cell_type": "code",
   "execution_count": 3,
   "metadata": {
    "collapsed": false
   },
   "outputs": [
    {
     "name": "stdout",
     "output_type": "stream",
     "text": [
      "cat: UCI HAR Dataset: No such file or directory\r\n"
     ]
    }
   ],
   "source": []
  },
  {
   "cell_type": "code",
   "execution_count": 1,
   "metadata": {
    "collapsed": false,
    "scrolled": true
   },
   "outputs": [
    {
     "name": "stdout",
     "output_type": "stream",
     "text": [
      "Collecting xgboost\n",
      "  Downloading https://pypi.doubanio.com/packages/34/85/456a1a8c762f646671043e446a59efbce02b5f408f522c4ef8793e860c5e/xgboost-0.6a2.tar.gz (1.2MB)\n",
      "\u001b[K    100% |████████████████████████████████| 1.2MB 4.0MB/s \n",
      "\u001b[?25h  Requirement already satisfied (use --upgrade to upgrade): xgboost from https://pypi.doubanio.com/packages/34/85/456a1a8c762f646671043e446a59efbce02b5f408f522c4ef8793e860c5e/xgboost-0.6a2.tar.gz#md5=c486211efa29b95771c74f5d8701ca4a in /home/hadoop/anaconda2/lib/python2.7/site-packages\n",
      "Requirement already satisfied (use --upgrade to upgrade): numpy in /home/hadoop/anaconda2/lib/python2.7/site-packages (from xgboost)\n",
      "Requirement already satisfied (use --upgrade to upgrade): scipy in /home/hadoop/anaconda2/lib/python2.7/site-packages (from xgboost)\n",
      "Requirement already satisfied (use --upgrade to upgrade): scikit-learn in /home/hadoop/anaconda2/lib/python2.7/site-packages (from xgboost)\n",
      "Building wheels for collected packages: xgboost\n",
      "  Running setup.py bdist_wheel for xgboost ... \u001b[?25l-\b \b\\\b \b|\b \b/\b \b-\b \b\\\b \b|\b \b/\b \b-\b \b\\\b \b|\b \b/\b \b-\b \b\\\b \b|\b \b/\b \b-\b \b\\\b \b|\b \b/\b \b-\b \b\\\b \b|\b \b/\b \b-\b \b\\\b \b|\b \b/\b \b-\b \b\\\b \b|\b \b/\b \b-\b \b\\\b \b|\b \b/\b \b-\b \b\\\b \b|\b \b/\b \b-\b \b\\\b \b|\b \b/\b \b-\b \b\\\b \b|\b \b/\b \b-\b \b\\\b \b|\b \b/\b \b-\b \b\\\b \b|\b \b/\b \b-\b \b\\\b \b|\b \b/\b \b-\b \b\\\b \b|\b \b/\b \b-\b \b\\\b \b|\b \b/\b \b-\b \b\\\b \b|\b \b/\b \b-\b \b\\\b \b|\b \b/\b \bdone\n",
      "\u001b[?25h  Stored in directory: /home/hadoop/.cache/pip/wheels/42/83/2d/997a6d69514446a0610371e6d0c89ba6db8689100e16157f2e\n",
      "Successfully built xgboost\n",
      "\u001b[33mYou are using pip version 8.1.2, however version 9.0.1 is available.\n",
      "You should consider upgrading via the 'pip install --upgrade pip' command.\u001b[0m\n"
     ]
    }
   ],
   "source": [
    "!pip install xgboost -i https://pypi.douban.com/simple"
   ]
  },
  {
   "cell_type": "code",
   "execution_count": 2,
   "metadata": {
    "collapsed": true
   },
   "outputs": [],
   "source": [
    "import xgboost"
   ]
  },
  {
   "cell_type": "code",
   "execution_count": 4,
   "metadata": {
    "collapsed": false
   },
   "outputs": [
    {
     "data": {
      "text/plain": [
       "'0.6'"
      ]
     },
     "execution_count": 4,
     "metadata": {},
     "output_type": "execute_result"
    }
   ],
   "source": [
    "xgboost.__version__"
   ]
  },
  {
   "cell_type": "code",
   "execution_count": null,
   "metadata": {
    "collapsed": true
   },
   "outputs": [],
   "source": []
  }
 ],
 "metadata": {
  "anaconda-cloud": {},
  "kernelspec": {
   "display_name": "Python [default]",
   "language": "python",
   "name": "python2"
  },
  "language_info": {
   "codemirror_mode": {
    "name": "ipython",
    "version": 2
   },
   "file_extension": ".py",
   "mimetype": "text/x-python",
   "name": "python",
   "nbconvert_exporter": "python",
   "pygments_lexer": "ipython2",
   "version": "2.7.12"
  }
 },
 "nbformat": 4,
 "nbformat_minor": 1
}
