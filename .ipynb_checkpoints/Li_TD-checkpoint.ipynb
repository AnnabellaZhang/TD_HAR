{
 "cells": [
  {
   "cell_type": "markdown",
   "metadata": {},
   "source": [
    "# TalkingData数据集相关代码及结果"
   ]
  },
  {
   "cell_type": "markdown",
   "metadata": {},
   "source": [
    "- 从文件中读取数据并加窗的函数"
   ]
  },
  {
   "cell_type": "code",
   "execution_count": 1,
   "metadata": {
    "collapsed": false
   },
   "outputs": [
    {
     "name": "stdout",
     "output_type": "stream",
     "text": [
      "localtsfresh_init!\n",
      "feature_extraction_init\n",
      "tsfresh_init!\n"
     ]
    }
   ],
   "source": [
    "%matplotlib inline\n",
    "import matplotlib.pylab as plt\n",
    "import matplotlib\n",
    "from tsfresh.examples.har_dataset import download_har_dataset, load_har_dataset, load_har_classes\n",
    "# import seaborn as sns\n",
    "from localtsfresh.tsfresh import extract_features, extract_relevant_features, select_features\n",
    "from localtsfresh.tsfresh.utilities.dataframe_functions import impute\n",
    "from tsfresh.feature_extraction import ComprehensiveFCParameters, EfficientFCParameters, MinimalFCParameters\n",
    "from sklearn.tree import DecisionTreeClassifier\n",
    "from sklearn.cross_validation import train_test_split\n",
    "from sklearn.metrics import classification_report\n",
    "from pandas import DataFrame\n",
    "import pandas as pd\n",
    "import numpy as np\n",
    "import os\n",
    "import math\n",
    "\n",
    "import logging\n",
    "\n",
    "from sklearn.ensemble import RandomForestClassifier\n",
    "from sklearn.metrics import accuracy_score\n",
    "from scipy.signal import butter, lfilter, lfilter_zi\n",
    "from numpy import linalg as LA\n",
    "from xgboost import XGBClassifier\n",
    "import copy\n",
    "from collections import Counter\n",
    "\n",
    "# We set the logger to Error level\n",
    "# This is not recommend for normal use as you can oversee important Warning messages\n",
    "logging.basicConfig(level=logging.ERROR)\n",
    "\n",
    "#根据Win，生成DataFrame格式中的Time列\n",
    "def getTimeColumn(win):\n",
    "    time=np.arange(win)\n",
    "    for idx in range(1, sensornum):\n",
    "        timetmp=np.arange(win)\n",
    "        time=np.concatenate((time, timetmp), axis=0)\n",
    "    time.shape=(len(time),1)\n",
    "    return time\n",
    "\n",
    "#根据Win和数据，生成DataFrame格式中的kind和value列\n",
    "def getKindValueColumn(sd, win):\n",
    "    for i in range(sensornum):\n",
    "        kind=i*np.ones((win, 1),dtype=int)\n",
    "        sensorcols=sd[i]\n",
    "        sensorcols.shape=(win, 1)\n",
    "        sdata=np.column_stack((kind, sensorcols))\n",
    "        if i==0:\n",
    "            sensorframe=sdata\n",
    "        else:\n",
    "            sensorframe=np.row_stack((sensorframe, sdata))\n",
    "    return sensorframe\n",
    "\n",
    "def getIdColumn(num, win):\n",
    "    for i in range(num):\n",
    "        if i==0:\n",
    "            idary=0*np.ones((sensornum*win, 1))\n",
    "        else:\n",
    "            idary=np.row_stack((idary, i*np.ones((sensornum*win, 1))))\n",
    "    return idary\n",
    "\n",
    "def getDataLabelColumn(dataary,label, num, win):\n",
    "    for i in range(filenum):\n",
    "        if i==0:\n",
    "            y=label[travel[i]][:num]\n",
    "            data=dataary[travel[i]][:num*win*sensornum]\n",
    "        else:\n",
    "            y=np.row_stack((y, label[travel[i]][:num]))\n",
    "            data=np.row_stack((data, dataary[travel[i]][:num*win*sensornum]))\n",
    "    y.shape=(len(y),)\n",
    "    y=pd.Series(y)\n",
    "    return data, y\n",
    "\n",
    "\n",
    "#读取所有数据，结果是字典，分别存储六种运动的传感器读数矩阵，每个矩阵的三列分别是time, kind, value\n",
    "def loadData(win, step, sampling):\n",
    "    labeldict={}\n",
    "    datadict={}\n",
    "    files = os.listdir('/home/hadoop/data')\n",
    "    if step<=win:\n",
    "        for i in range(0, filenum):\n",
    "            with open('/home/hadoop/data/%s' % files[i], 'r') as f:\n",
    "                sensordata=np.loadtxt(f, delimiter=\",\")[::2, :]\n",
    "                \n",
    "                ########## feature extraction ###########\n",
    "                sensordata = np.delete(sensordata, np.s_[:3], 1)\n",
    "                sensordata[:, 2] = sensordata[:, 2] - 9.8012\n",
    "                sensordata = resample(sensordata, sampling)\n",
    "                \n",
    "                #mi = LA.norm(sensordata, 2, axis=1)\n",
    "                #sma = np.sum(np.abs(sensordata), 1)\n",
    "                #velo = calcVelo(sensordata[:,:2], fs, win)\n",
    "                #sensordata = np.c_[sensordata, mi, sma]\n",
    "                \n",
    "                #loadDataPlot(sensordata, i)\n",
    "                \n",
    "                ########## filter ############\n",
    "                #fltr2(sensordata, cutOff=15, fs=fs, order=5)\n",
    "                #########################################\n",
    "                \n",
    "                max_num=int((len(sensordata)-win)/step)+1\n",
    "                for j in range(0, max_num):\n",
    "                    start_idx=step*j\n",
    "                    end_idx=step*j+win\n",
    "                    sd=sensordata[start_idx:end_idx,:]\n",
    "                    sd=sd.transpose()\n",
    "                        \n",
    "                    time=getTimeColumn(win)\n",
    "                    kindvalue=getKindValueColumn(sd, win)\n",
    "                    travary=np.column_stack((time, kindvalue ))\n",
    "\n",
    "                    if j == 0:\n",
    "                        dataarray=travary\n",
    "                    else:\n",
    "                        dataarray=np.concatenate((dataarray, travary), axis=0)  \n",
    "\n",
    "                labeldict[travel[i]]=i*np.ones((max_num, 1), dtype=int)\n",
    "                datadict[travel[i]]=dataarray\n",
    "                print(files[i]+\" loaded!\")\n",
    "        use_num_max=filenum*max_num\n",
    "        return datadict, labeldict, use_num_max\n",
    "    else:\n",
    "        raise IOError('\\'step\\' of slide window shoud be less than \\'win\\'')\n",
    "\n",
    "#从所有数据dataary和其标签label中，选出总数为num的样本，每个类别选num/sensornum个样本。\n",
    "def genTrainSample(dataary, label, num, win):\n",
    "    idary=getIdColumn(num, win)\n",
    "    labelnum=int(num/filenum) ;\n",
    "    data, y=getDataLabelColumn(dataary, label, labelnum, win)\n",
    "    data=np.column_stack((idary, data))\n",
    "    dataframe = DataFrame(data, columns=['id', 'time', 'kind', 'value'])\n",
    "    return dataframe, y\n",
    "\n",
    "\n",
    "#画出第idx个样本3个传感器的数据\n",
    "def plotSample(data, kind, idx, win, use_num):\n",
    "    fig = matplotlib.pyplot.gcf()\n",
    "    fig.set_size_inches(18.5, 10.5)\n",
    "    tmp=data.iloc[:, -1].values\n",
    "    for i in range(sensornum):\n",
    "        plt.subplot(3,2,i+1)\n",
    "        plt.title(sensor[i] + ' readings')\n",
    "        begin=kind*win*use_num + idx*win*sensornum + win*i\n",
    "        end=begin+win-1\n",
    "        plt.plot(tmp[begin:end])\n",
    "    plt.show()\n",
    "    \n",
    "def loadDataPlot(data, ind):\n",
    "    plt.figure(ind)\n",
    "    for i in xrange(0, data.shape[1]):\n",
    "        fig = matplotlib.pyplot.gcf()\n",
    "        fig.set_size_inches(18.5, 10.5)\n",
    "        plt.subplot(3,2,i+1)\n",
    "        plt.plot(data[:, i])\n",
    "    return\n",
    "\n",
    "################ Resampling ##################\n",
    "\n",
    "def resample(data, sampling):\n",
    "    ind = np.arange(0, data.shape[0], sampling)\n",
    "    return data[ind, :]\n",
    "\n",
    "################ Calculate Velocity ###################\n",
    "\n",
    "def calcVelo(acc, fs, win):\n",
    "    velo = np.zeros(acc.shape)\n",
    "    for i in xrange(0, acc.shape[0]):\n",
    "        if i % win: \n",
    "            velo[i] = velo[i-1] + (acc[i-1]+acc[i])/(2*fs)\n",
    "    return LA.norm(velo, 2, axis=1)\n",
    "        \n",
    "\n",
    "################ Butterworth 滤波 ###################\n",
    "\n",
    "def butter_lowpass(cutOff, fs, order=5):\n",
    "    nyq = 0.5 * fs\n",
    "    normalCutoff = cutOff / nyq\n",
    "    b, a = butter(order, normalCutoff, btype='low', analog = False)\n",
    "    return b, a\n",
    "\n",
    "def fltr(data, win, sensornum, cutOff, fs, order=5): #这个是在滑窗之后滤波的函数\n",
    "    v = data.iloc[:, -1].values\n",
    "    b, a = butter_lowpass(cutOff, fs, order)\n",
    "    zi = np.tile(lfilter_zi(b, a), (sensornum,1))\n",
    "    for i in xrange(0, v.size, win*sensornum):\n",
    "        for j in xrange(0, sensornum):\n",
    "            x = v[i+j*win: i+(j+1)*win]\n",
    "            y, zi[j]= lfilter(b, a, x, zi=zi[j])\n",
    "            data.iloc[i+j*win: i+(j+1)*win, -1] = y\n",
    "    return\n",
    "\n",
    "def fltr2(sensordata, cutOff, fs, order):  #这个是在数据读取后马上就滤波的函数\n",
    "    b, a = butter_lowpass(cutOff, fs, order)\n",
    "    for n in xrange(sensordata.shape[1]):\n",
    "        zi = lfilter_zi(b, a)\n",
    "        sensordata[:,n], zi = lfilter(b, a, sensordata[:,n], zi=zi)\n"
   ]
  },
  {
   "cell_type": "markdown",
   "metadata": {},
   "source": [
    "- 窗长，步长，降采样率设置"
   ]
  },
  {
   "cell_type": "code",
   "execution_count": 2,
   "metadata": {
    "collapsed": false
   },
   "outputs": [
    {
     "name": "stdout",
     "output_type": "stream",
     "text": [
      "bus_data_set_101 loaded!\n",
      "car_data_set_103 loaded!\n",
      "running_data_set_8 loaded!\n",
      "stationary_data_set_3 loaded!\n",
      "subway_data_set_102 loaded!\n",
      "walking_data_set_7 loaded!\n",
      "\n",
      " \u001b[1;33;48m NOTE: use_num should be less than 1818\n"
     ]
    }
   ],
   "source": [
    "#可修改常量\n",
    "# 六种出行方式\n",
    "travel=[\"bus\", \"car\", \"running\", \"stationary\", \"subway\", \"walking\"]\n",
    "# 六个传感器数据\n",
    "sensor=[\"acc_x\", \"acc_y\", \"acc_z\"]#, \"mi\", \"sma\"]\n",
    "#sensor=[\"azimath\", \"pitch\", \"roll\"]\n",
    "# 一些常量\n",
    "filenum=6\n",
    "#窗口步长大小\n",
    "sampling=5         #采样间隔，注意，win是在采样间隔基础上算的\n",
    "win=400/sampling\n",
    "step=win/2           #步长应该小于等于win\n",
    "#使用的样本数量(一个窗口的数据是一个样本)，建议设置成sensornum的倍数\n",
    "fs = 100/sampling\n",
    "\n",
    "sensornum=len(sensor)\n",
    "data, label, use_num_max = loadData(win, step, sampling)\n",
    "\n",
    "print(\"\\n \\033[1;33;48m NOTE: use_num should be less than %s\"%(use_num_max))"
   ]
  },
  {
   "cell_type": "code",
   "execution_count": 3,
   "metadata": {
    "collapsed": false
   },
   "outputs": [
    {
     "name": "stdout",
     "output_type": "stream",
     "text": [
      "(436320, 4)\n"
     ]
    }
   ],
   "source": [
    "use_num = use_num_max\n",
    "df, y=genTrainSample(data, label, use_num, win)\n",
    "\n",
    "######## Low Pass Filter ##########\n",
    "kind=0\n",
    "idx=10\n",
    "#plotSample(df, kind,idx, win, use_num)\n",
    "\n",
    "#fltr(df, win, sensornum, cutOff=8, fs=fs, order=5) #filter\n",
    "\n",
    "master_df = df\n",
    "print(master_df.shape)"
   ]
  },
  {
   "cell_type": "markdown",
   "metadata": {},
   "source": [
    "- 计算SMA特征的代码，实际上后来没有用到"
   ]
  },
  {
   "cell_type": "code",
   "execution_count": 4,
   "metadata": {
    "collapsed": false
   },
   "outputs": [],
   "source": [
    "sma = np.zeros((use_num,1))\n",
    "ind = 0\n",
    "for i in xrange(0, df.shape[0], win*sensornum):\n",
    "    sma[ind] = np.sum(np.abs(df.iloc[i: i+win*sensornum, -1].values))/win\n",
    "    ind += 1"
   ]
  },
  {
   "cell_type": "markdown",
   "metadata": {},
   "source": [
    "- 特征提取部分代码，最后提取了如下特征：\n",
    "\n",
    "> 自回归系数\n",
    "\n",
    "> 自相关系数\n",
    "\n",
    "> 分位数\n",
    "\n",
    "> 波峰数量\n",
    "\n",
    "> 最大值\n",
    "\n",
    "> 最小值\n",
    "\n",
    "> 中位数\n",
    "\n",
    "> 求和（均值）\n"
   ]
  },
  {
   "cell_type": "code",
   "execution_count": 5,
   "metadata": {
    "collapsed": false,
    "scrolled": true
   },
   "outputs": [
    {
     "name": "stdout",
     "output_type": "stream",
     "text": [
      "It is ok!\n"
     ]
    },
    {
     "name": "stderr",
     "output_type": "stream",
     "text": [
      "Feature Extraction: 100%|██████████| 5454/5454 [00:25<00:00, 214.52it/s]\n"
     ]
    },
    {
     "name": "stdout",
     "output_type": "stream",
     "text": [
      "CPU times: user 2.1 s, sys: 134 ms, total: 2.23 s\n",
      "Wall time: 26.1 s\n"
     ]
    },
    {
     "data": {
      "text/plain": [
       "(1818, 90)"
      ]
     },
     "execution_count": 5,
     "metadata": {},
     "output_type": "execute_result"
    }
   ],
   "source": [
    "# extraction_settings = ComprehensiveFCParameters()\n",
    "# extraction_settings = EfficientFCParameters()\n",
    "# extraction_settings = MinimalFCParameters()\n",
    "#extraction_settings.update({\"fft_dc\":None,\"fft_mean\":None,\"fft_var\":None,\"fft_std\":None,\"fft_kurt\":None,\"fft_shape_mean\":None,\"fft_shape_std\":None,\"fft_shape_skew\":None,\"fft_shape_kurt\":None})\n",
    "\n",
    "############## 初步选择的13大类特征 ##################\n",
    "\"\"\"\n",
    "    extraction_settings = {'ar_coefficient': [{'coeff': 0, 'k': 10},\n",
    "        {'coeff': 1, 'k': 10},\n",
    "        {'coeff': 2, 'k': 10},\n",
    "        {'coeff': 3, 'k': 10},\n",
    "        {'coeff': 4, 'k': 10}],\n",
    "              'longest_strike_above_mean': None,\n",
    "              'longest_strike_below_mean': None,\n",
    "            'mean_abs_change_quantiles': [{'qh': 0.2, 'ql': 0.0},\n",
    "                                          {'qh': 0.4, 'ql': 0.0},\n",
    "                                          {'qh': 0.6, 'ql': 0.0},\n",
    "                                          {'qh': 0.8, 'ql': 0.0},\n",
    "                                          {'qh': 1.0, 'ql': 0.0},\n",
    "                                          {'qh': 0.4, 'ql': 0.2},                                       \n",
    "                                          {'qh': 0.6, 'ql': 0.2},\n",
    "                                          {'qh': 0.8, 'ql': 0.2},\n",
    "                                          {'qh': 1.0, 'ql': 0.2},\n",
    "                                          {'qh': 0.6, 'ql': 0.4},\n",
    "                                          {'qh': 0.8, 'ql': 0.4},\n",
    "                                          {'qh': 1.0, 'ql': 0.4},\n",
    "                                          {'qh': 0.8, 'ql': 0.6},\n",
    "                                          {'qh': 1.0, 'ql': 0.6},\n",
    "                                          {'qh': 1.0, 'ql': 0.8}],\n",
    "              'autocorrelation': [{'lag': 0},{'lag': 1},{'lag': 2},{'lag': 3},{'lag': 4},\n",
    "                                  {'lag': 5},{'lag': 6},{'lag': 7},{'lag': 8},{'lag': 9}],\n",
    "              'time_reversal_asymmetry_statistic': [{'lag': 1}, {'lag': 2}, {'lag': 3}],\n",
    "              'quantile': [{'q': 0.1},{'q': 0.2},{'q': 0.3},{'q': 0.4},\n",
    "                           {'q': 0.6},{'q': 0.7},{'q': 0.8},{'q': 0.9}],\n",
    "              'number_peaks': [{'n': 1}, {'n': 3}, {'n': 5}],\n",
    "              'minimum': None,\n",
    "              'maximum': None,\n",
    "              'median': None,\n",
    "              'sum_values': None,\n",
    "              'spkt_welch_density': [{'coeff': 2}, {'coeff': 5}, {'coeff': 8}],\n",
    "    }\n",
    "\"\"\"\n",
    "\n",
    "################### 后续选择的8大类特征 #############################\n",
    "extraction_settings = {'ar_coefficient': [{'coeff': 0, 'k': 10},\n",
    "    {'coeff': 1, 'k': 10},\n",
    "    {'coeff': 2, 'k': 10},\n",
    "    {'coeff': 3, 'k': 10},\n",
    "    {'coeff': 4, 'k': 10}],\n",
    "          'autocorrelation': [{'lag': 0},{'lag': 1},{'lag': 2},{'lag': 3},{'lag': 4},\n",
    "                              {'lag': 5},{'lag': 6},{'lag': 7},{'lag': 8},{'lag': 9}],\n",
    "          'quantile': [{'q': 0.1},{'q': 0.2},{'q': 0.3},{'q': 0.4},\n",
    "                       {'q': 0.6},{'q': 0.7},{'q': 0.8},{'q': 0.9}],\n",
    "          'number_peaks': [{'n': 1}, {'n': 3}, {'n': 5}],\n",
    "          'minimum': None,\n",
    "          'maximum': None,\n",
    "          'median': None,\n",
    "          'sum_values': None}\n",
    "\n",
    "\n",
    "%time X = extract_features(master_df, default_fc_parameters=extraction_settings, column_id='id', column_sort=\"time\", column_kind=\"kind\", column_value=\"value\");\n",
    "# %time X = extract_features(master_df, column_id='id', column_sort=\"time\", column_kind=\"kind\", column_value=\"value\");\n",
    "\n",
    "# in total we have transformed the sensor data into 222 features\n",
    "impute(X)\n",
    "\n",
    "#X['SMA'] = sma\n",
    "X.shape"
   ]
  },
  {
   "cell_type": "markdown",
   "metadata": {},
   "source": [
    "- 归一化"
   ]
  },
  {
   "cell_type": "code",
   "execution_count": 6,
   "metadata": {
    "collapsed": true
   },
   "outputs": [],
   "source": [
    "for n in X.columns:\n",
    "    std = np.std(X[n])\n",
    "    X[n] = (X[n]-np.mean(X[n]))/std if std>0 else X[n]-np.mean(X[n])"
   ]
  },
  {
   "cell_type": "markdown",
   "metadata": {},
   "source": [
    "- 随机划分训练数据和测试数据"
   ]
  },
  {
   "cell_type": "code",
   "execution_count": 7,
   "metadata": {
    "collapsed": false
   },
   "outputs": [],
   "source": [
    "X_train_tmp, X_test, y_train_tmp, y_test = train_test_split(X, y, test_size=.2)\n",
    "X_train, X_val, y_train, y_val = train_test_split(X_train_tmp, y_train_tmp, test_size=.125)"
   ]
  },
  {
   "cell_type": "markdown",
   "metadata": {},
   "source": [
    "## 整体模型"
   ]
  },
  {
   "cell_type": "markdown",
   "metadata": {},
   "source": [
    "- 利用XBGoost作为分类器进行分类"
   ]
  },
  {
   "cell_type": "code",
   "execution_count": 8,
   "metadata": {
    "collapsed": false
   },
   "outputs": [
    {
     "name": "stdout",
     "output_type": "stream",
     "text": [
      "0.917582417582\n"
     ]
    }
   ],
   "source": [
    "#Using all the features as contrast\n",
    "\n",
    "cl = XGBClassifier(max_depth=5, n_estimators=300, objective='multi:softmax', reg_lambda=2)\n",
    "cl.fit(X_train, y_train)\n",
    "score = accuracy_score(y_test, cl.predict(X_test))\n",
    "print(score)\n"
   ]
  },
  {
   "cell_type": "markdown",
   "metadata": {},
   "source": [
    "- 画出排序后的XGBoost特征重要性数值"
   ]
  },
  {
   "cell_type": "code",
   "execution_count": 9,
   "metadata": {
    "collapsed": false
   },
   "outputs": [
    {
     "data": {
      "image/png": "[encoded data removed]",
      "text/plain": [
       "<matplotlib.figure.Figure at 0x7fd1713eb510>"
      ]
     },
     "metadata": {},
     "output_type": "display_data"
    }
   ],
   "source": [
    "# plot\n",
    "ind = np.argsort(-cl.feature_importances_)\n",
    "plt.bar(range(len(cl.feature_importances_)), cl.feature_importances_[ind])\n",
    "plt.title('Feature Importance')\n",
    "plt.show()"
   ]
  },
  {
   "cell_type": "markdown",
   "metadata": {},
   "source": [
    "- 混淆矩阵"
   ]
  },
  {
   "cell_type": "code",
   "execution_count": 10,
   "metadata": {
    "collapsed": false
   },
   "outputs": [
    {
     "data": {
      "image/png": "[encoded data removed]",
      "text/plain": [
       "<matplotlib.figure.Figure at 0x7fd1713adb10>"
      ]
     },
     "metadata": {},
     "output_type": "display_data"
    }
   ],
   "source": [
    "from sklearn.metrics import confusion_matrix\n",
    "\n",
    "confusion = pd.DataFrame(confusion_matrix(y_test, cl.predict(X_test)))\n",
    "\n",
    "def plot_confusion_matrix(df_confusion, title='Confusion matrix', cmap=plt.cm.Blues):\n",
    "    plt.matshow(df_confusion, cmap=cmap) # imshow\n",
    "    #plt.title(title)\n",
    "    plt.colorbar()\n",
    "    tick_marks = np.arange(len(df_confusion.columns))\n",
    "    plt.xticks(tick_marks, range(0,6))\n",
    "    plt.yticks(tick_marks, travel)\n",
    "    #plt.tight_layout()\n",
    "    plt.ylabel('Class')\n",
    "    plt.xlabel('Class')\n",
    "\n",
    "plot_confusion_matrix(confusion)"
   ]
  },
  {
   "cell_type": "markdown",
   "metadata": {},
   "source": [
    "## 分层模型"
   ]
  },
  {
   "cell_type": "code",
   "execution_count": 11,
   "metadata": {
    "collapsed": false
   },
   "outputs": [],
   "source": [
    "def firstLevelY(kind, y):\n",
    "    for i in xrange(0, kind.shape[0]):\n",
    "        for j, n in enumerate(kind[i]):\n",
    "            y[np.nonzero(y==n)] = i\n",
    "    return y\n",
    "\n",
    "kind = np.array([[0, 1, 4], [2, 3, 5]])\n",
    "y_train_hier = copy.deepcopy(y_train.values)\n",
    "y_train_hier = pd.Series(firstLevelY(kind, y_train_hier))\n",
    "y_val_hier = copy.deepcopy(y_val.values)\n",
    "y_val_hier = pd.Series(firstLevelY(kind, y_val_hier))\n",
    "y_test_hier = copy.deepcopy(y_test.values)\n",
    "y_test_hier = pd.Series(firstLevelY(kind, y_test_hier))"
   ]
  },
  {
   "cell_type": "markdown",
   "metadata": {},
   "source": [
    "### 训练第一层模型"
   ]
  },
  {
   "cell_type": "code",
   "execution_count": 12,
   "metadata": {
    "collapsed": false
   },
   "outputs": [
    {
     "name": "stdout",
     "output_type": "stream",
     "text": [
      "0.980769230769\n"
     ]
    }
   ],
   "source": [
    "eval_set = [(X_val, y_val_hier)]\n",
    "cl_1st = XGBClassifier(max_depth=6, n_estimators=200, objective='binary:logistic', reg_lambda=1)\n",
    "cl_1st.fit(X_train, y_train_hier, eval_metric='error', eval_set=eval_set, early_stopping_rounds=30, verbose=False)\n",
    "score = accuracy_score(y_test_hier, cl_1st.predict(X_test))\n",
    "print(score)"
   ]
  },
  {
   "cell_type": "markdown",
   "metadata": {},
   "source": [
    "### 训练第二层模型"
   ]
  },
  {
   "cell_type": "code",
   "execution_count": 13,
   "metadata": {
    "collapsed": false
   },
   "outputs": [
    {
     "name": "stdout",
     "output_type": "stream",
     "text": [
      "0.97461928934\n",
      "0.832335329341\n"
     ]
    }
   ],
   "source": [
    "X_train_human = X_train.iloc[np.nonzero(y_train_hier.values)[0],:]\n",
    "y_train_human = pd.Series(y_train.values[np.nonzero(y_train_hier.values)[0]])\n",
    "X_val_human = X_val.iloc[np.nonzero(y_val_hier.values)[0],:]\n",
    "y_val_human = pd.Series(y_val.values[np.nonzero(y_val_hier.values)[0]])\n",
    "X_test_human = X_test.iloc[np.nonzero(y_test_hier.values)[0],:]\n",
    "y_test_human = pd.Series(y_test.values[np.nonzero(y_test_hier.values)[0]])\n",
    "\n",
    "X_train_motor = X_train.iloc[np.nonzero(y_train_hier.values==0)[0],:]\n",
    "y_train_motor = pd.Series(y_train.values[np.nonzero(y_train_hier.values==0)[0]])\n",
    "X_val_motor = X_val.iloc[np.nonzero(y_val_hier.values==0)[0],:]\n",
    "y_val_motor = pd.Series(y_val.values[np.nonzero(y_val_hier.values==0)[0]])\n",
    "X_test_motor = X_test.iloc[np.nonzero(y_test_hier.values==0)[0],:]\n",
    "y_test_motor = pd.Series(y_test.values[np.nonzero(y_test_hier.values==0)[0]])\n",
    "\n",
    "############### Human Model ################\n",
    "eval_set = [(X_val_human, y_val_human)]\n",
    "cl_human = XGBClassifier(max_depth=6, n_estimators=200, objective='multi:softmax', reg_lambda=1)\n",
    "cl_human.fit(X_train_human, y_train_human, eval_metric='merror', eval_set=eval_set, early_stopping_rounds=30, verbose=False)\n",
    "score = accuracy_score(y_test_human, cl_human.predict(X_test_human))\n",
    "print(score)\n",
    "\n",
    "############## Motor Model #################\n",
    "eval_set = [(X_val_motor, y_val_motor)]\n",
    "cl_motor = XGBClassifier(max_depth=5, n_estimators=200, objective='multi:softmax', reg_lambda=1)\n",
    "cl_motor.fit(X_train_motor, y_train_motor, eval_metric='merror', eval_set=eval_set, early_stopping_rounds=30, verbose=False)\n",
    "score = accuracy_score(y_test_motor, cl_motor.predict(X_test_motor))\n",
    "print(score)"
   ]
  },
  {
   "cell_type": "markdown",
   "metadata": {},
   "source": [
    "### Evaluation"
   ]
  },
  {
   "cell_type": "code",
   "execution_count": 14,
   "metadata": {
    "collapsed": false
   },
   "outputs": [
    {
     "name": "stdout",
     "output_type": "stream",
     "text": [
      "Score = 0.898352\n"
     ]
    }
   ],
   "source": [
    "y_pred_1st = cl_1st.predict(X_test)\n",
    "correct = set(np.nonzero(y_pred_1st == y_test_hier.values)[0])\n",
    "error_num = y_test.shape[0] - len(correct)\n",
    "X_test_human = X_test.iloc[list(set(np.nonzero(y_test_hier.values)[0]) & correct), :]\n",
    "y_test_human = y_test.iloc[list(set(np.nonzero(y_test_hier.values)[0]) & correct)]\n",
    "X_test_motor = X_test.iloc[list(set(np.nonzero(y_test_hier.values==0)[0]) & correct), :]\n",
    "y_test_motor = y_test.iloc[list(set(np.nonzero(y_test_hier.values==0)[0]) & correct)]\n",
    "\n",
    "y_pred_human = cl_human.predict(X_test_human)\n",
    "error_num += np.nonzero(y_pred_human != y_test_human.values)[0].size\n",
    "y_pred_motor = cl_motor.predict(X_test_motor)\n",
    "error_num += np.nonzero(y_pred_motor != y_test_motor.values)[0].size\n",
    "print('Score = %f' % (1-float(error_num)/y_test.shape[0]))"
   ]
  },
  {
   "cell_type": "markdown",
   "metadata": {},
   "source": [
    "# 杂项"
   ]
  },
  {
   "cell_type": "markdown",
   "metadata": {},
   "source": [
    "- 多次划分数据集并用XBGoost分类，以求出平均准确率及其方差"
   ]
  },
  {
   "cell_type": "code",
   "execution_count": null,
   "metadata": {
    "collapsed": false
   },
   "outputs": [
    {
     "name": "stdout",
     "output_type": "stream",
     "text": [
      "0.913919413919\n",
      "0.913919413919\n",
      "0.906593406593\n",
      "0.919413919414\n",
      "0.901098901099\n",
      "0.912087912088\n",
      "0.906593406593\n",
      "0.90293040293\n",
      "0.919413919414\n",
      "0.904761904762\n",
      "0.895604395604\n",
      "0.913919413919\n",
      "0.92673992674\n",
      "0.941391941392\n",
      "0.917582417582\n",
      "0.908424908425\n",
      "0.912087912088\n",
      "0.915750915751\n"
     ]
    }
   ],
   "source": [
    "#20Hz, 4s, no validation, 0.3 test data, 0.913, std = 0.012821\n",
    "for i in xrange(3, 4):\n",
    "    score = []\n",
    "    for j in xrange(0, 100):\n",
    "        #X_train_tmp, X_test, y_train_tmp, y_test = train_test_split(X, y, test_size=.2)\n",
    "        #X_train, X_val, y_train, y_val = train_test_split(X_train_tmp, y_train_tmp, test_size=.125)\n",
    "        X_train, X_test, y_train, y_test = train_test_split(X, y, test_size=0.1*i)\n",
    "        #eval_set = [(X_val, y_val)]\n",
    "        cl = XGBClassifier(max_depth=5, n_estimators=300, objective='multi:softmax', reg_lambda=2)\n",
    "        #cl.fit(X_train, y_train, eval_metric='mlogloss', eval_set=eval_set, early_stopping_rounds=20, verbose=False)\n",
    "        cl.fit(X_train, y_train)\n",
    "        score.append(accuracy_score(y_test, cl.predict(X_test)))\n",
    "        print(score[-1])\n",
    "    print('test size = %f, Mean accuracy is %f, std = %f' % (0.1*i, np.mean(score), np.std(score)))\n",
    "    "
   ]
  },
  {
   "cell_type": "markdown",
   "metadata": {},
   "source": [
    "- 多次划分数据集并用XBGoost分类，每次保存重要性排在前100的特征，最后取出现次数超过一半循环次数的特征，以便特征分析"
   ]
  },
  {
   "cell_type": "code",
   "execution_count": null,
   "metadata": {
    "collapsed": false
   },
   "outputs": [],
   "source": [
    "cand = 100\n",
    "loop = 20\n",
    "selected_ftr = np.array([])\n",
    "mean = 0\n",
    "for i in xrange(0, loop):\n",
    "    X_train, X_test, y_train, y_test = train_test_split(X, y, test_size=.2)\n",
    "    X_train_fs, X_val, y_train_fs, y_val = train_test_split(X_train, y_train, test_size=.25)\n",
    "    \n",
    "    eval_set = [(X_val, y_val)]\n",
    "    cl = XGBClassifier(max_depth=5, n_estimators=200, objective='multi:softmax', reg_lambda=2)\n",
    "    cl.fit(X_train, y_train, eval_metric='mlogloss', eval_set=eval_set, early_stopping_rounds=20, verbose=False)\n",
    "    score = accuracy_score(y_test, cl.predict(X_test))\n",
    "\n",
    "    mean += score\n",
    "    print('Loop %d, accuracy is %f' % (i, score))\n",
    "    selected_ftr = np.append(selected_ftr, np.argsort(-cl.feature_importances_)[:cand])\n",
    "print('Mean Accuracy is %f' % (mean/loop))\n",
    "\n",
    "ftr = []\n",
    "for key, value in dict(Counter(list(selected_ftr))).iteritems():\n",
    "    if value >= loop*1/2:\n",
    "        ftr.append(key)\n",
    "ftr2 = X.columns.values[ftr]"
   ]
  },
  {
   "cell_type": "markdown",
   "metadata": {},
   "source": [
    "- SFFS"
   ]
  },
  {
   "cell_type": "code",
   "execution_count": null,
   "metadata": {
    "collapsed": false
   },
   "outputs": [],
   "source": [
    "#20Hz, 4s, no validation, 0.3 test data, 0.913, std = 0.012821\n",
    "from SFFS import SFFS\n",
    "\n",
    "selected_ftr = []\n",
    "for i in xrange(0, 20):\n",
    "    X_train_tmp, X_test, y_train_tmp, y_test = train_test_split(X, y, test_size=.2)\n",
    "    X_train, X_val, y_train, y_val = train_test_split(X_train_tmp, y_train_tmp, test_size=.125)\n",
    "    eval_set = [(X_val, y_val)]\n",
    "    SFFS_ftr = SFFS(X_train, y_train, X_val, y_val)\n",
    "    \n",
    "    for j, s in enumerate(SFFS_ftr):\n",
    "        SFFS_ftr[j] = s[3:]\n",
    "    \n",
    "    selected_ftr.extend(SFFS_ftr)\n",
    "    print('Loop = %d' % (i+1))"
   ]
  },
  {
   "cell_type": "code",
   "execution_count": null,
   "metadata": {
    "collapsed": false,
    "scrolled": true
   },
   "outputs": [],
   "source": [
    "SFFS_ftr = SFFS(X_train_fs, y_train_fs, X_val, y_val)"
   ]
  },
  {
   "cell_type": "code",
   "execution_count": null,
   "metadata": {
    "collapsed": true
   },
   "outputs": [],
   "source": []
  }
 ],
 "metadata": {
  "anaconda-cloud": {},
  "kernelspec": {
   "display_name": "Python [default]",
   "language": "python",
   "name": "python2"
  },
  "language_info": {
   "codemirror_mode": {
    "name": "ipython",
    "version": 2
   },
   "file_extension": ".py",
   "mimetype": "text/x-python",
   "name": "python",
   "nbconvert_exporter": "python",
   "pygments_lexer": "ipython2",
   "version": "2.7.12"
  }
 },
 "nbformat": 4,
 "nbformat_minor": 1
}
