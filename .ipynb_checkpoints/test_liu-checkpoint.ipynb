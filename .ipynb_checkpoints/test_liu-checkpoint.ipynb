{
 "cells": [
  {
   "cell_type": "code",
   "execution_count": 1,
   "metadata": {
    "collapsed": false
   },
   "outputs": [
    {
     "name": "stdout",
     "output_type": "stream",
     "text": [
      "['bus_data_set_101', 'car_data_set_103', 'running_data_set_8', 'stationary_data_set_3', 'subway_data_set_102', 'walking_data_set_7', 'UCI HAR Dataset', 'WISDM_at_v2.0_raw.txt', 'WISDM_at_v2.0_raw_about.txt']\n"
     ]
    }
   ],
   "source": [
    "import os\n",
    "\n",
    "files = os.listdir('/home/hadoop/data')\n",
    "print(files)"
   ]
  },
  {
   "cell_type": "code",
   "execution_count": null,
   "metadata": {
    "collapsed": true
   },
   "outputs": [],
   "source": [
    "import os\n",
    "\n",
    "files = os.listdir('/home/hadoop/data')\n",
    "files = os.listdir('/home/hadoop/data')\n",
    "for i in range(0, 6):\n",
    "    with open('/home/hadoop/data/%s' % files[i], 'r') as f:\n",
    "        data = f.readlines()\n",
    "        print(len(data))\n",
    "        print(data[0])"
   ]
  }
 ],
 "metadata": {
  "anaconda-cloud": {},
  "kernelspec": {
   "display_name": "Python [default]",
   "language": "python",
   "name": "python2"
  },
  "language_info": {
   "codemirror_mode": {
    "name": "ipython",
    "version": 2
   },
   "file_extension": ".py",
   "mimetype": "text/x-python",
   "name": "python",
   "nbconvert_exporter": "python",
   "pygments_lexer": "ipython2",
   "version": "2.7.12"
  }
 },
 "nbformat": 4,
 "nbformat_minor": 1
}
