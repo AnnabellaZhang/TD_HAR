{
 "cells": [
  {
   "cell_type": "code",
   "execution_count": 2,
   "metadata": {
    "collapsed": false
   },
   "outputs": [
    {
     "name": "stdout",
     "output_type": "stream",
     "text": [
      "['bus_data_set_101', 'car_data_set_103', 'running_data_set_8', 'stationary_data_set_3', 'subway_data_set_102', 'walking_data_set_7', 'UCI HAR Dataset', 'WISDM_at_v2.0_raw.txt', 'WISDM_at_v2.0_raw_about.txt', 'WISDM_ar_v1.1_my.txt', 'WISDM_ar_v2.0_my.txt']\n"
     ]
    }
   ],
   "source": [
    "import os\n",
    "import numpy as np\n",
    "files = os.listdir('/home/hadoop/data')\n",
    "print(files)\n"
   ]
  },
  {
   "cell_type": "code",
   "execution_count": 3,
   "metadata": {
    "collapsed": false
   },
   "outputs": [
    {
     "name": "stdout",
     "output_type": "stream",
     "text": [
      "3005411\n",
      "['1679,Walking,1370520469556,0.2941316,-0.6356053,-0.22693644\\n', '1679,Walking,1370520469606,-0.49968776,-0.6044512,-0.22602014\\n', '1679,Walking,1370520469656,-2.1783454,0.7134906,0.37201694\\n', '1679,Walking,1370520469706,-2.7977629,1.3548992,-0.27763826\\n', '1679,Walking,1370520469756,-2.1679606,-1.3277156,-0.5549711\\n']\n",
      "3005411\n",
      "['1679,Walking,1370520469556,0.2941316,-0.6356053,-0.22693644\\n', '1679,Walking,1370520469606,-0.49968776,-0.6044512,-0.22602014\\n', '1679,Walking,1370520469656,-2.1783454,0.7134906,0.37201694\\n', '1679,Walking,1370520469706,-2.7977629,1.3548992,-0.27763826\\n', '1679,Walking,1370520469756,-2.1679606,-1.3277156,-0.5549711\\n']\n",
      "3005411\n",
      "['1679,Walking,1370520469556,0.2941316,-0.6356053,-0.22693644\\n', '1679,Walking,1370520469606,-0.49968776,-0.6044512,-0.22602014\\n', '1679,Walking,1370520469656,-2.1783454,0.7134906,0.37201694\\n', '1679,Walking,1370520469706,-2.7977629,1.3548992,-0.27763826\\n', '1679,Walking,1370520469756,-2.1679606,-1.3277156,-0.5549711\\n']\n",
      "3005411\n",
      "['1679,Walking,1370520469556,0.2941316,-0.6356053,-0.22693644\\n', '1679,Walking,1370520469606,-0.49968776,-0.6044512,-0.22602014\\n', '1679,Walking,1370520469656,-2.1783454,0.7134906,0.37201694\\n', '1679,Walking,1370520469706,-2.7977629,1.3548992,-0.27763826\\n', '1679,Walking,1370520469756,-2.1679606,-1.3277156,-0.5549711\\n']\n"
     ]
    }
   ],
   "source": [
    "import os\n",
    "\n",
    "files = os.listdir('/home/hadoop/data')\n",
    "for i in range(7, 11):\n",
    "    with open('/home/hadoop/data/WISDM_ar_v2.0_my.txt', 'r') as f:\n",
    "        data = f.readlines()\n",
    "        print(len(data))\n",
    "        print(data[0:5])"
   ]
  },
  {
   "cell_type": "code",
   "execution_count": 4,
   "metadata": {
    "collapsed": false
   },
   "outputs": [
    {
     "data": {
      "text/plain": [
       "u'/home/hadoop/jupyter'"
      ]
     },
     "execution_count": 4,
     "metadata": {},
     "output_type": "execute_result"
    }
   ],
   "source": [
    "pwd"
   ]
  },
  {
   "cell_type": "code",
   "execution_count": 5,
   "metadata": {
    "collapsed": false
   },
   "outputs": [
    {
     "name": "stderr",
     "output_type": "stream",
     "text": [
      "ERROR:root:File `u'test_script/test.py'` not found.\n"
     ]
    }
   ],
   "source": [
    "%run test_script/test.py"
   ]
  },
  {
   "cell_type": "code",
   "execution_count": 6,
   "metadata": {
    "collapsed": false
   },
   "outputs": [
    {
     "name": "stdout",
     "output_type": "stream",
     "text": [
      "total 14308\r\n",
      "-rw-rw-r-- 1 hadoop hadoop    30952 Aug 18 16:55 CHEN_TD.ipynb\r\n",
      "-rw-rw-r-- 1 hadoop hadoop    30486 Aug 18 17:13 CHEN_WISDM.ipynb\r\n",
      "drwxrwxr-x 2 hadoop hadoop        6 Jul  8 23:22 data\r\n",
      "drwxrwxr-x 2 hadoop hadoop     4096 Jul 29 21:39 Document\r\n",
      "-rw-rw-r-- 1 hadoop hadoop   305693 Aug 17 16:42 Gao_TD-Copy2.ipynb\r\n",
      "-rw-rw-r-- 1 hadoop hadoop    73392 Aug  4 10:59 Gao_TD.ipynb\r\n",
      "-rw-rw-r-- 1 hadoop hadoop        0 Jul 30 17:05 __init__.py\r\n",
      "-rw-rw-r-- 1 hadoop hadoop    64544 Aug 18 15:58 Li_TD.ipynb\r\n",
      "-rw-rw-r-- 1 hadoop hadoop    17778 Aug 18 15:21 Li_TD_Sequential Divide.ipynb\r\n",
      "-rw-rw-r-- 1 hadoop hadoop   128569 Aug  9 17:56 Li_UCI.ipynb\r\n",
      "drwxrwxr-x 9 hadoop hadoop     4096 Jul 30 18:04 localtsfresh\r\n",
      "-rw------- 1 hadoop hadoop 12668049 Aug 19 08:39 nohup.out\r\n",
      "-rw-rw-r-- 1 hadoop hadoop     9375 Jul 26 16:51 Please be noted.ipynb\r\n",
      "drwxrwxr-x 3 hadoop hadoop       58 Jul 24 15:24 Qian Ren\r\n",
      "-rw-rw-r-- 1 hadoop hadoop     4184 Jul 26 21:30 Run Shell Command.ipynb\r\n",
      "drwxrwxr-x 3 hadoop hadoop     4096 Aug 14 21:51 RuobingZhang\r\n",
      "-rw-rw-r-- 1 hadoop hadoop     2361 Aug  4 11:01 SFFS.py\r\n",
      "-rw-rw-r-- 1 hadoop hadoop     1655 Aug  4 11:23 SFFS.pyc\r\n",
      "-rw-rw-r-- 1 hadoop hadoop   151031 Aug  1 13:56 TD_CHEN.ipynb\r\n",
      "-rw-rw-r-- 1 hadoop hadoop    38702 Aug 14 10:14 TD_Zhang.ipynb\r\n",
      "-rw-rw-r-- 1 hadoop hadoop    13492 Jul 28 16:00 TestFeature-RuobingZhang.ipynb\r\n",
      "-rw-rw-r-- 1 hadoop hadoop     2319 Jul  5 19:56 test_liu.ipynb\r\n",
      "-rw-rw-r-- 1 hadoop hadoop    16304 Jul  8 22:00 test_ren.ipynb\r\n",
      "-rw-rw-r-- 1 hadoop hadoop    14292 Aug  3 19:00 test_zhang.ipynb\r\n",
      "-rw-rw-r-- 1 hadoop hadoop    12751 Jul 14 01:25 tffeature.ipynb\r\n",
      "drwxrwxr-x 3 hadoop hadoop     4096 Jul 14 01:48 tsfeature\r\n",
      "-rw-rw-r-- 1 hadoop hadoop   216409 Jul 27 15:06 Tsfresh on NCI:HAR Data.ipynb\r\n",
      "-rw-rw-r-- 1 hadoop hadoop   179859 Aug  1 14:03 Tsfresh on TD Data.ipynb\r\n",
      "-rw-rw-r-- 1 hadoop hadoop   180786 Aug 16 22:40 Tsfresh on TD Data-Ren.ipynb\r\n",
      "-rw-rw-r-- 1 hadoop hadoop   191175 Jul 28 16:04 Tsfresh on TD Data-RuobingZhang.ipynb\r\n",
      "-rw-rw-r-- 1 hadoop hadoop   179581 Jul 12 19:36 Tsfresh on TD Data-yuxiao Liu.ipynb\r\n",
      "-rw-rw-r-- 1 hadoop hadoop    23914 Aug  2 09:30 Tsfresh_On_WISDM_ar_v2.0-Copy1.ipynb\r\n",
      "-rw-rw-r-- 1 hadoop hadoop    24505 Jul 19 13:27 Tsfresh_On_WISDM_ar_v2.0.ipynb\r\n",
      "drwxrwxr-x 3 hadoop hadoop      118 Aug 18 16:20 Xiaodong  Chen\r\n",
      "drwxrwxr-x 5 hadoop hadoop     4096 Aug 18 16:15 Yuxiao Liu\r\n",
      "drwxrwxr-x 3 hadoop hadoop      148 Aug 18 16:56 Zhihe Li\r\n"
     ]
    }
   ],
   "source": [
    "!cd /home/hadoop/data \n",
    "!ls -l"
   ]
  },
  {
   "cell_type": "code",
   "execution_count": 7,
   "metadata": {
    "collapsed": false
   },
   "outputs": [
    {
     "name": "stdout",
     "output_type": "stream",
     "text": [
      "/home/hadoop/data\n",
      "/home/hadoop/data\n",
      "/home/hadoop/jupyter\n",
      "/home/hadoop/jupyter\n"
     ]
    }
   ],
   "source": [
    "%cd /home/hadoop/data\n",
    "!pwd\n",
    "%cat WISDM_at_v2.0_raw.txt | awk -F \";\" '{print $1}' >WISDM_ar_v2.0_my.txt\n",
    "%cd -\n",
    "!pwd"
   ]
  },
  {
   "cell_type": "code",
   "execution_count": 8,
   "metadata": {
    "collapsed": false
   },
   "outputs": [
    {
     "name": "stdout",
     "output_type": "stream",
     "text": [
      "3005411\n",
      "['1679,Walking,1370520469556,0.2941316,-0.6356053,-0.22693644;\\n', '1679,Walking,1370520469606,-0.49968776,-0.6044512,-0.22602014;\\n', '1679,Walking,1370520469656,-2.1783454,0.7134906,0.37201694;\\n', '1679,Walking,1370520469706,-2.7977629,1.3548992,-0.27763826;\\n', '1679,Walking,1370520469756,-2.1679606,-1.3277156,-0.5549711;\\n']\n"
     ]
    }
   ],
   "source": [
    "file_name_raw='WISDM_at_v2.0_raw.txt'\n",
    "file_name_my='WISDM_ar_v2.0_my.txt'\n",
    "with open('/home/hadoop/data/%s' % file_name_raw, 'r') as f:\n",
    "    \n",
    "    sensordata=np.genfromtxt(f, delimiter=\",\", usecols=(0,2,3,4,5))\n",
    "    data = f.readlines()\n",
    "    print(len(data))\n",
    "    print(data[0:5])\n",
    "    "
   ]
  },
  {
   "cell_type": "code",
   "execution_count": 16,
   "metadata": {
    "collapsed": false
   },
   "outputs": [],
   "source": [
    "import pandas as pd\n",
    "fields=[\"user\", \"activity\", \"timestamp\", \"x-accel\", \"y-accel\", \"z-accel\"]\n",
    "df=pd.read_csv('/home/hadoop/data/WISDM_ar_v2.0_my.txt', header=None, \n",
    "                   names=fields,\n",
    "                   skip_blank_lines=True)"
   ]
  },
  {
   "cell_type": "code",
   "execution_count": 27,
   "metadata": {
    "collapsed": false
   },
   "outputs": [
    {
     "data": {
      "text/plain": [
       "set"
      ]
     },
     "execution_count": 27,
     "metadata": {},
     "output_type": "execute_result"
    }
   ],
   "source": [
    "type(set(df.user.values))"
   ]
  },
  {
   "cell_type": "code",
   "execution_count": 24,
   "metadata": {
    "collapsed": false
   },
   "outputs": [
    {
     "data": {
      "text/plain": [
       "1802"
      ]
     },
     "execution_count": 24,
     "metadata": {},
     "output_type": "execute_result"
    }
   ],
   "source": [
    "df.user.max()"
   ]
  },
  {
   "cell_type": "code",
   "execution_count": 73,
   "metadata": {
    "collapsed": false
   },
   "outputs": [
    {
     "data": {
      "text/plain": [
       "194"
      ]
     },
     "execution_count": 73,
     "metadata": {},
     "output_type": "execute_result"
    }
   ],
   "source": [
    "df.user.min()"
   ]
  },
  {
   "cell_type": "code",
   "execution_count": 128,
   "metadata": {
    "collapsed": false
   },
   "outputs": [],
   "source": [
    "data=pd.Series(df.user).value_counts().reset_index()"
   ]
  },
  {
   "cell_type": "code",
   "execution_count": 174,
   "metadata": {
    "collapsed": false
   },
   "outputs": [],
   "source": [
    "a=list(np.array(data[\"index\"]))"
   ]
  },
  {
   "cell_type": "code",
   "execution_count": 180,
   "metadata": {
    "collapsed": false
   },
   "outputs": [
    {
     "data": {
      "text/plain": [
       "1603"
      ]
     },
     "execution_count": 180,
     "metadata": {},
     "output_type": "execute_result"
    }
   ],
   "source": [
    "a[0]"
   ]
  },
  {
   "cell_type": "code",
   "execution_count": 2,
   "metadata": {
    "collapsed": false,
    "scrolled": false
   },
   "outputs": [
    {
     "name": "stdout",
     "output_type": "stream",
     "text": [
      "\u001b[?1h\u001b=\u001b[H\u001b[2J\u001b[mtop - 15:39:25 up 24 days, 21:26,  0 users,  load average: 1.08, 1.41, 1.98\u001b[m\u001b[m\u001b[m\u001b[m\u001b[K\n",
      "Tasks:\u001b[m\u001b[m\u001b[1m 158 \u001b[m\u001b[mtotal,\u001b[m\u001b[m\u001b[1m   2 \u001b[m\u001b[mrunning,\u001b[m\u001b[m\u001b[1m 154 \u001b[m\u001b[msleeping,\u001b[m\u001b[m\u001b[1m   0 \u001b[m\u001b[mstopped,\u001b[m\u001b[m\u001b[1m   2 \u001b[m\u001b[mzombie\u001b[m\u001b[m\u001b[m\u001b[m\u001b[K\n",
      "%Cpu(s):\u001b[m\u001b[m\u001b[1m 19.2 \u001b[m\u001b[mus,\u001b[m\u001b[m\u001b[1m  0.4 \u001b[m\u001b[msy,\u001b[m\u001b[m\u001b[1m  0.0 \u001b[m\u001b[mni,\u001b[m\u001b[m\u001b[1m 80.4 \u001b[m\u001b[mid,\u001b[m\u001b[m\u001b[1m  0.1 \u001b[m\u001b[mwa,\u001b[m\u001b[m\u001b[1m  0.0 \u001b[m\u001b[mhi,\u001b[m\u001b[m\u001b[1m  0.0 \u001b[m\u001b[msi,\u001b[m\u001b[m\u001b[1m  0.0 \u001b[m\u001b[mst\u001b[m\u001b[m\u001b[m\u001b[m\u001b[K\n",
      "KiB Mem :\u001b[m\u001b[m\u001b[1m  7231688 \u001b[m\u001b[mtotal,\u001b[m\u001b[m\u001b[1m  3644508 \u001b[m\u001b[mfree,\u001b[m\u001b[m\u001b[1m  3410732 \u001b[m\u001b[mused,\u001b[m\u001b[m\u001b[1m   176448 \u001b[m\u001b[mbuff/cache\u001b[m\u001b[m\u001b[m\u001b[m\u001b[K\n",
      "KiB Swap:\u001b[m\u001b[m\u001b[1m 15625212 \u001b[m\u001b[mtotal,\u001b[m\u001b[m\u001b[1m   922852 \u001b[m\u001b[mfree,\u001b[m\u001b[m\u001b[1m 14702360 \u001b[m\u001b[mused.\u001b[m\u001b[m\u001b[1m  3631520 \u001b[m\u001b[mavail Mem \u001b[m\u001b[m\u001b[m\u001b[m\u001b[K\n",
      "\u001b[K\n",
      "\u001b[7m  PID USER      PR  NI    VIRT    RES    SHR S  %CPU %MEM     TIME+ COMMAND     \u001b[m\u001b[m\u001b[K\n",
      "\u001b[m\u001b[1m 1052 hadoop    20   0 3162400 274292     72 R  93.8  3.8   3933:04 python      \u001b[m\u001b[m\u001b[K\n",
      "\u001b[m\u001b[1m23601 hadoop    20   0  157680   2116   1496 R   6.2  0.0   0:00.07 top         \u001b[m\u001b[m\u001b[K\n",
      "\u001b[m    1 root      20   0  125288    932    568 S   0.0  0.0   0:41.62 systemd     \u001b[m\u001b[m\u001b[K\n",
      "\u001b[m    2 root      20   0       0      0      0 S   0.0  0.0   0:00.12 kthreadd    \u001b[m\u001b[m\u001b[K\n",
      "\u001b[m    3 root      20   0       0      0      0 S   0.0  0.0   0:00.70 ksoftirqd/0 \u001b[m\u001b[m\u001b[K\n",
      "\u001b[m    5 root       0 -20       0      0      0 S   0.0  0.0   0:00.00 kworker/0:+ \u001b[m\u001b[m\u001b[K\n",
      "\u001b[m    7 root      rt   0       0      0      0 S   0.0  0.0   0:01.65 migration/0 \u001b[m\u001b[m\u001b[K\n",
      "\u001b[m    8 root      20   0       0      0      0 S   0.0  0.0   0:00.00 rcu_bh      \u001b[m\u001b[m\u001b[K\n",
      "\u001b[m    9 root      20   0       0      0      0 S   0.0  0.0   0:00.00 rcuob/0     \u001b[m\u001b[m\u001b[K\n",
      "\u001b[m   10 root      20   0       0      0      0 S   0.0  0.0   0:00.00 rcuob/1     \u001b[m\u001b[m\u001b[K\n",
      "\u001b[m   11 root      20   0       0      0      0 S   0.0  0.0   0:00.00 rcuob/2     \u001b[m\u001b[m\u001b[K\n",
      "\u001b[m   12 root      20   0       0      0      0 S   0.0  0.0   0:00.00 rcuob/3     \u001b[m\u001b[m\u001b[K\n",
      "\u001b[m   13 root      20   0       0      0      0 S   0.0  0.0   0:00.00 rcuob/4     \u001b[m\u001b[m\u001b[K\n",
      "\u001b[m   14 root      20   0       0      0      0 S   0.0  0.0   0:00.00 rcuob/5     \u001b[m\u001b[m\u001b[K\n",
      "\u001b[m   15 root      20   0       0      0      0 S   0.0  0.0   0:00.00 rcuob/6     \u001b[m\u001b[m\u001b[K\n",
      "\u001b[m   16 root      20   0       0      0      0 S   0.0  0.0   0:00.00 rcuob/7     \u001b[m\u001b[m\u001b[K\n",
      "\u001b[m   17 root      20   0       0      0      0 S   0.0  0.0   0:00.00 rcuob/8     \u001b[m\u001b[m\u001b[K\u001b[?1l\u001b>\u001b[25;1H\n",
      "\u001b[K\n"
     ]
    }
   ],
   "source": [
    "!top"
   ]
  },
  {
   "cell_type": "code",
   "execution_count": 3,
   "metadata": {
    "collapsed": false
   },
   "outputs": [
    {
     "name": "stdout",
     "output_type": "stream",
     "text": [
      "localtsfresh_init!\n"
     ]
    }
   ],
   "source": [
    "import localtsfresh"
   ]
  },
  {
   "cell_type": "code",
   "execution_count": 1,
   "metadata": {
    "collapsed": false,
    "scrolled": false
   },
   "outputs": [
    {
     "name": "stdout",
     "output_type": "stream",
     "text": [
      "localtsfresh_init!\n",
      "feature_extraction_init\n",
      "tsfresh_init!\n"
     ]
    }
   ],
   "source": [
    "from RuobingZhang.test import *"
   ]
  },
  {
   "cell_type": "code",
   "execution_count": null,
   "metadata": {
    "collapsed": true
   },
   "outputs": [],
   "source": []
  }
 ],
 "metadata": {
  "anaconda-cloud": {},
  "kernelspec": {
   "display_name": "Python [default]",
   "language": "python",
   "name": "python2"
  },
  "language_info": {
   "codemirror_mode": {
    "name": "ipython",
    "version": 2
   },
   "file_extension": ".py",
   "mimetype": "text/x-python",
   "name": "python",
   "nbconvert_exporter": "python",
   "pygments_lexer": "ipython2",
   "version": "2.7.12"
  }
 },
 "nbformat": 4,
 "nbformat_minor": 1
}
