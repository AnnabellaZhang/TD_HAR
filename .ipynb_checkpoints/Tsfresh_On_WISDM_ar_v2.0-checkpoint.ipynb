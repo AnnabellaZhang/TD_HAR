{
 "cells": [
  {
   "cell_type": "markdown",
   "metadata": {
    "deletable": true,
    "editable": true
   },
   "source": [
    "# TSFRESH Activity Recognition on WISDM Data"
   ]
  },
  {
   "cell_type": "code",
   "execution_count": 1,
   "metadata": {
    "collapsed": false,
    "deletable": true,
    "editable": true,
    "scrolled": true
   },
   "outputs": [],
   "source": [
    "%matplotlib inline\n",
    "import matplotlib.pylab as plt\n",
    "import matplotlib\n",
    "from tsfresh.examples.har_dataset import download_har_dataset, load_har_dataset, load_har_classes\n",
    "# import seaborn as sns\n",
    "from tsfresh import extract_features, extract_relevant_features, select_features\n",
    "from tsfresh.utilities.dataframe_functions import impute\n",
    "from tsfresh.feature_extraction import ComprehensiveFCParameters, EfficientFCParameters, MinimalFCParameters\n",
    "from sklearn.tree import DecisionTreeClassifier\n",
    "from sklearn.cross_validation import train_test_split\n",
    "from sklearn.metrics import classification_report\n",
    "from pandas import DataFrame\n",
    "import pandas as pd\n",
    "import numpy as np\n",
    "import os\n",
    "import math\n",
    "\n",
    "import logging"
   ]
  },
  {
   "cell_type": "code",
   "execution_count": 2,
   "metadata": {
    "collapsed": true
   },
   "outputs": [],
   "source": [
    "# We set the logger to Error level\n",
    "# This is not recommend for normal use as you can oversee important Warning messages\n",
    "logging.basicConfig(level=logging.ERROR)"
   ]
  },
  {
   "cell_type": "markdown",
   "metadata": {},
   "source": [
    "## Data Preprocessing for tsfresh\n",
    "for tsfresh指通过为了tsfresh能提取特征，需要做些格式处理。\n",
    "tsfresh能接受的pandas.DataFrame有三种，这里使用了Stack DataFrame形式，格式详情可以见[Data Formats](http://tsfresh.readthedocs.io/en/latest/text/data_formats.html)\n",
    "下面，首先定义一些常量和函数："
   ]
  },
  {
   "cell_type": "code",
   "execution_count": 3,
   "metadata": {
    "collapsed": false
   },
   "outputs": [],
   "source": [
    "# 六种行为\n",
    "activity=[\"Walking\", \"Sitting\", \"Jogging\", \"Standing\", \"LyingDown\", \"Stairs\"]\n",
    "# 六个传感器数据\n",
    "fields=[\"user\", \"activity\", \"timestamp\", \"x-accel\", \"y-accel\", \"z-accel\"]\n",
    "type(fields)\n",
    "# 一些常量\n",
    "file_name='WISDM_at_v2.0_my.txt'\n",
    "sensornum=3\n",
    "#窗口大小\n",
    "win=40\n",
    "#使用的样本数量(一个窗口的数据是一个样本)，建议设置陈6的倍数\n",
    "use_num=600\n",
    "datatmp=np.array"
   ]
  },
  {
   "cell_type": "code",
   "execution_count": 47,
   "metadata": {
    "collapsed": false
   },
   "outputs": [],
   "source": [
    "#根据Win，生成DataFrame格式中的Time列\n",
    "def getTimeColumn(win):\n",
    "    time=np.arange(win)\n",
    "    for idx in range(1, sensornum):\n",
    "        timetmp=np.arange(win)\n",
    "        time=np.concatenate((time, timetmp), axis=0)\n",
    "    time.shape=(len(time),1)\n",
    "    return time\n",
    "\n",
    "#根据Win和数据，生成DataFrame格式中的kind和value列\n",
    "def getKindValueColumn(sd, win):\n",
    "    for i in range(sensornum):\n",
    "        kind=i*np.ones((win, 1),dtype=int)\n",
    "        sensorcols=sd[i]\n",
    "        sensorcols.shape=(win, 1)\n",
    "        sdata=np.column_stack((kind, sensorcols))\n",
    "        if i==0:\n",
    "            sensorframe=sdata\n",
    "        else:\n",
    "            sensorframe=np.row_stack((sensorframe, sdata))\n",
    "    return sensorframe\n",
    "\n",
    "def getIdColumn(num, win):\n",
    "    for i in range(num):\n",
    "        if i==0:\n",
    "            idarry=0*np.ones((sensornum*win, 1))\n",
    "        else:\n",
    "            idarry=np.row_stack((idarry, i*np.ones((sensornum*win, 1))))\n",
    "    return idarry\n",
    "\n",
    "def getDataLabelColumn(dataarry, label, df):\n",
    "    y=np.array([])\n",
    "    data=np.array([])\n",
    "    users=pd.Series(df.user).value_counts().reset_index()\n",
    "    userlist=list(np.array(users[\"index\"]))\n",
    "    for i in range(pd.Series(df.user).value_counts().size):\n",
    "        if label.has_key(userlist[i]) and dataarry.has_key(userlist[i]):\n",
    "            if y.size==0:\n",
    "                y=label[userlist[i]]\n",
    "                data=dataarry[userlist[i]]\n",
    "            else:\n",
    "                y=np.row_stack((y, label[userlist[i]]))\n",
    "                data=np.row_stack((data, dataarry[userlist[i]]))\n",
    "    y.shape=(len(y),)\n",
    "    y=pd.Series(y)\n",
    "    return data, y\n",
    "\n",
    "def getSampleOneActivity(win, sensordata):\n",
    "    global datatmp\n",
    "    for j in range(0, int(math.floor(len(sensordata)/win))):\n",
    "        sd=sensordata[win*j:win*(j+1),:]\n",
    "        sd=sd.transpose()\n",
    "        time=getTimeColumn(win)\n",
    "        kindvalue=getKindValueColumn(sd, win)\n",
    "        travary=np.column_stack((time, kindvalue ))                \n",
    "        if j == 0:\n",
    "            datatmp=travary\n",
    "        else:\n",
    "            datatmp=np.concatenate((datatmp, travary), axis=0)  \n",
    "    return datatmp\n",
    "\n",
    "def getSampleOneUser(win, df, user_id):\n",
    "    label_user=np.array([])\n",
    "    dataarray=np.array([])\n",
    "    for i in range(len(activity)):#提取测试者一种行为数据的所有采样\n",
    "        sensordata=df[df.user==user_id][df.activity==activity[i]].iloc[:,3:].values\n",
    "        if sensordata.size>0:\n",
    "            data = getSampleOneActivity(win, sensordata)\n",
    "            label_act = i*np.ones((math.floor(len(sensordata)/win), 1), dtype=int)\n",
    "            if label_act.size>0:\n",
    "                if label_user.size == 0:\n",
    "                    label_user=label_act\n",
    "                    dataarray = data\n",
    "                else:\n",
    "                    label_user=np.concatenate((label_user, label_act), axis=0)\n",
    "                    dataarray=np.concatenate((dataarray, data), axis=0)\n",
    "    return label_user,dataarray\n",
    "        "
   ]
  },
  {
   "cell_type": "code",
   "execution_count": 48,
   "metadata": {
    "collapsed": false
   },
   "outputs": [],
   "source": [
    "#读取所有数据，结果是字典，分别存储六种运动的传感器读数矩阵，每个矩阵的三列分别是time, kind, value\n",
    "def loadData(win, df):\n",
    "    labeldict={}\n",
    "    datadict={}\n",
    "    users=pd.Series(df.user).value_counts().reset_index()\n",
    "    userlist=list(np.array(users[\"index\"]))\n",
    "    for i in range(pd.Series(df.user).value_counts().size): #根据测试者ID逐个读取每个测试者的数据\n",
    "        label_user,dataarray = getSampleOneUser(win,df,userlist[i])\n",
    "        if label_user.size>0 and dataarray.size>0:\n",
    "            labeldict[userlist[i]]=label_user\n",
    "            datadict[userlist[i]]=dataarray\n",
    "        #print(\"user:%d\" % userlist[i] + \" loaded!\")\n",
    "    print(\"Done!\")\n",
    "    return datadict, labeldict\n",
    "\n",
    "#从所有数据dataary和其标签label中，选出总数为num的样本，每个类别选num/sensornum个样本。\n",
    "def genTrainSample(dataarry, label, df):\n",
    "    #labelnum=int(num/sensornum)\n",
    "    data, y=getDataLabelColumn(dataarry, label, df)\n",
    "    idarry=getIdColumn(len(y), win)\n",
    "    print(idarry.shape)\n",
    "    print(data.shape)\n",
    "    data=np.column_stack((idarry, data))\n",
    "    dataframe = DataFrame(data, columns=['id', 'time', 'kind', 'value'])\n",
    "    return dataframe, y"
   ]
  },
  {
   "cell_type": "markdown",
   "metadata": {
    "deletable": true,
    "editable": true
   },
   "source": [
    "## Load and visualize data\n",
    "读取6个文件中的数据，先存在一个dict里面，然后根据tsfresh的格式要求转化陈pandas.DataFrame形式。"
   ]
  },
  {
   "cell_type": "code",
   "execution_count": 39,
   "metadata": {
    "collapsed": false,
    "deletable": true,
    "editable": true
   },
   "outputs": [
    {
     "name": "stderr",
     "output_type": "stream",
     "text": [
      "/home/hadoop/anaconda2/lib/python2.7/site-packages/ipykernel/__main__.py:67: UserWarning: Boolean Series key will be reindexed to match DataFrame index.\n"
     ]
    },
    {
     "name": "stdout",
     "output_type": "stream",
     "text": [
      "Done!\n"
     ]
    }
   ],
   "source": [
    "df=pd.read_csv('/home/hadoop/data/WISDM_ar_v2.0_my.txt', header=None, names=fields,skip_blank_lines=True)\n",
    "df.shape\n",
    "data, label = loadData(win, df)"
   ]
  },
  {
   "cell_type": "code",
   "execution_count": 40,
   "metadata": {
    "collapsed": false,
    "scrolled": true
   },
   "outputs": [],
   "source": [
    "#print(data[0].shape)        #data[\"bus]矩阵三列分别是time, kind, value\n",
    "#print(label[0].shape)       #只有一列，因为sensornum*win条读数才是一个样本，所以label的行数是data的1/(sensornum*win)"
   ]
  },
  {
   "cell_type": "code",
   "execution_count": 50,
   "metadata": {
    "collapsed": false
   },
   "outputs": [
    {
     "name": "stdout",
     "output_type": "stream",
     "text": [
      "(7917720, 1)\n",
      "(7917720, 3)\n"
     ]
    }
   ],
   "source": [
    "#取出use_num个样本，并将data转化成tsfresh需要的pandas.DataFrame类型，存储为df；将label转化为特征过滤需要的pandas.Series类型，存储为y\n",
    "df, y=genTrainSample(data, label, df)    \n"
   ]
  },
  {
   "cell_type": "code",
   "execution_count": 52,
   "metadata": {
    "collapsed": false
   },
   "outputs": [
    {
     "data": {
      "text/plain": [
       "(65981,)"
      ]
     },
     "execution_count": 52,
     "metadata": {},
     "output_type": "execute_result"
    }
   ],
   "source": [
    "df.shape\n",
    "y.shape"
   ]
  },
  {
   "cell_type": "code",
   "execution_count": 49,
   "metadata": {
    "collapsed": false
   },
   "outputs": [],
   "source": [
    "#画出第idx个样本3个传感器的数据\n",
    "def plotSample(data, kind, idx, win):\n",
    "    fig = matplotlib.pyplot.gcf()\n",
    "    fig.set_size_inches(18.5, 10.5)\n",
    "    data=data[kind]\n",
    "    for i in range(sensornum):\n",
    "        plt.subplot(3,2,i+1)\n",
    "        plt.title(sensor[i] + ' readings')\n",
    "        begin=idx*win*sensornum + win*i\n",
    "        end=begin+win-1\n",
    "        plt.plot(data[begin:end, 2])\n",
    "    plt.show()"
   ]
  },
  {
   "cell_type": "code",
   "execution_count": null,
   "metadata": {
    "collapsed": false,
    "deletable": true,
    "editable": true
   },
   "outputs": [],
   "source": [
    "#展示bus数据，第idx条数据的传感器读数，注意这里的纵轴范围还没有统一，不能直接跨样本对比\n",
    "kind=\"bus\"; idx=0\n",
    "plotSample(data, kind, idx, win)"
   ]
  },
  {
   "cell_type": "markdown",
   "metadata": {
    "deletable": true,
    "editable": true
   },
   "source": [
    "## Extract Features"
   ]
  },
  {
   "cell_type": "code",
   "execution_count": 53,
   "metadata": {
    "collapsed": false
   },
   "outputs": [
    {
     "name": "stdout",
     "output_type": "stream",
     "text": [
      "(7917720, 4)\n",
      "              id  time  kind      value\n",
      "0            0.0   0.0   0.0  -2.683209\n",
      "1            0.0   1.0   0.0  -2.315459\n",
      "2            0.0   2.0   0.0  -3.023717\n",
      "3            0.0   3.0   0.0  -3.541290\n",
      "4            0.0   4.0   0.0  -2.601486\n",
      "5            0.0   5.0   0.0  -0.858082\n",
      "6            0.0   6.0   0.0  -1.661682\n",
      "7            0.0   7.0   0.0  -2.315459\n",
      "8            0.0   8.0   0.0  -2.152015\n",
      "9            0.0   9.0   0.0  -2.247357\n",
      "10           0.0  10.0   0.0  -2.451662\n",
      "11           0.0  11.0   0.0  -3.445948\n",
      "12           0.0  12.0   0.0  -1.797886\n",
      "13           0.0  13.0   0.0  -2.860273\n",
      "14           0.0  14.0   0.0  -2.152015\n",
      "15           0.0  15.0   0.0  -3.309745\n",
      "16           0.0  16.0   0.0  -1.253072\n",
      "17           0.0  17.0   0.0  -1.212211\n",
      "18           0.0  18.0   0.0  -1.293933\n",
      "19           0.0  19.0   0.0   2.519764\n",
      "20           0.0  20.0   0.0  -3.922660\n",
      "21           0.0  21.0   0.0  -5.311935\n",
      "22           0.0  22.0   0.0   0.013620\n",
      "23           0.0  23.0   0.0  -2.383561\n",
      "24           0.0  24.0   0.0  -5.380037\n",
      "25           0.0  25.0   0.0  -1.021526\n",
      "26           0.0  26.0   0.0  -0.054481\n",
      "27           0.0  27.0   0.0  -2.138395\n",
      "28           0.0  28.0   0.0  -1.620821\n",
      "29           0.0  29.0   0.0  -1.729784\n",
      "...          ...   ...   ...        ...\n",
      "7917690  65980.0  10.0   2.0   1.225831\n",
      "7917691  65980.0  11.0   2.0  -0.612916\n",
      "7917692  65980.0  12.0   2.0  -3.217807\n",
      "7917693  65980.0  13.0   2.0   8.427590\n",
      "7917694  65980.0  14.0   2.0  14.403518\n",
      "7917695  65980.0  15.0   2.0 -12.411542\n",
      "7917696  65980.0  16.0   2.0  -2.298433\n",
      "7917697  65980.0  17.0   2.0  -1.991976\n",
      "7917698  65980.0  18.0   2.0   4.290410\n",
      "7917699  65980.0  19.0   2.0   1.379060\n",
      "7917700  65980.0  20.0   2.0   1.991976\n",
      "7917701  65980.0  21.0   2.0   0.766145\n",
      "7917702  65980.0  22.0   2.0  -0.153229\n",
      "7917703  65980.0  23.0   2.0   8.734048\n",
      "7917704  65980.0  24.0   2.0   8.734048\n",
      "7917705  65980.0  25.0   2.0 -11.798626\n",
      "7917706  65980.0  26.0   2.0  -1.685518\n",
      "7917707  65980.0  27.0   2.0   0.612916\n",
      "7917708  65980.0  28.0   2.0   1.838747\n",
      "7917709  65980.0  29.0   2.0 -10.726024\n",
      "7917710  65980.0  30.0   2.0  -4.596867\n",
      "7917711  65980.0  31.0   2.0   1.838747\n",
      "7917712  65980.0  32.0   2.0  11.951855\n",
      "7917713  65980.0  33.0   2.0 -13.330915\n",
      "7917714  65980.0  34.0   2.0   2.604891\n",
      "7917715  65980.0  35.0   2.0   1.225831\n",
      "7917716  65980.0  36.0   2.0   3.371036\n",
      "7917717  65980.0  37.0   2.0   3.524265\n",
      "7917718  65980.0  38.0   2.0  -1.379060\n",
      "7917719  65980.0  39.0   2.0  -1.379060\n",
      "\n",
      "[7917720 rows x 4 columns]\n"
     ]
    }
   ],
   "source": [
    "master_df = df\n",
    "\n",
    "print(master_df.shape)\n",
    "print(master_df)"
   ]
  },
  {
   "cell_type": "code",
   "execution_count": 54,
   "metadata": {
    "collapsed": true
   },
   "outputs": [],
   "source": [
    "# extraction_settings = ComprehensiveFCParameters()\n",
    "extraction_settings = EfficientFCParameters()\n",
    "# extraction_settings = MinimalFCParameters()"
   ]
  },
  {
   "cell_type": "code",
   "execution_count": null,
   "metadata": {
    "collapsed": false,
    "deletable": true,
    "editable": true
   },
   "outputs": [
    {
     "name": "stderr",
     "output_type": "stream",
     "text": [
      "\r",
      "Feature Extraction:   0%|          | 0/3 [00:00<?, ?it/s]"
     ]
    }
   ],
   "source": [
    "%time X = extract_features(master_df, default_fc_parameters=extraction_settings, column_id='id', column_sort=\"time\", column_kind=\"kind\", column_value=\"value\");\n",
    "# %time X = extract_features(master_df, column_id='id', column_sort=\"time\", column_kind=\"kind\", column_value=\"value\");"
   ]
  },
  {
   "cell_type": "code",
   "execution_count": null,
   "metadata": {
    "collapsed": false,
    "deletable": true,
    "editable": true
   },
   "outputs": [],
   "source": [
    "# in total we have transformed the sensor data into 222 features\n",
    "impute(X)\n",
    "X.shape"
   ]
  },
  {
   "cell_type": "code",
   "execution_count": null,
   "metadata": {
    "collapsed": false
   },
   "outputs": [],
   "source": [
    "X.columns"
   ]
  },
  {
   "cell_type": "markdown",
   "metadata": {
    "collapsed": true,
    "deletable": true,
    "editable": true
   },
   "source": [
    "## Train and evaluate classifier"
   ]
  },
  {
   "cell_type": "code",
   "execution_count": null,
   "metadata": {
    "collapsed": false,
    "deletable": true,
    "editable": true
   },
   "outputs": [],
   "source": [
    "X_train, X_test, y_train, y_test = train_test_split(X, y, test_size=.2)\n",
    "print(X.dtype)\n",
    "print(y.dtype)"
   ]
  },
  {
   "cell_type": "code",
   "execution_count": null,
   "metadata": {
    "collapsed": false,
    "deletable": true,
    "editable": true,
    "scrolled": true
   },
   "outputs": [],
   "source": [
    "cl = DecisionTreeClassifier()\n",
    "cl.fit(X_train, y_train)\n",
    "print(classification_report(y_test, cl.predict(X_test)))"
   ]
  },
  {
   "cell_type": "markdown",
   "metadata": {},
   "source": [
    "# Multiclass feature selection"
   ]
  },
  {
   "cell_type": "markdown",
   "metadata": {},
   "source": [
    "+ 若extraction_settings=EfficientFCParameters()\n",
    "计算的是所有特征中计算速度较快，time cost较小的特征，考虑所有传感器序列，共得到1614个特征。\n",
    "+ 若extraction_settings=MinimalFCParameters()\n",
    "只计算最少的特征，共得到48个"
   ]
  },
  {
   "cell_type": "markdown",
   "metadata": {},
   "source": [
    "考虑使用tsfresh的select_features来筛选，但是该函数只对二分类或者回归任务有作用。对于这个6分类问题，需要将其转化成6个二分类问题，然后对每个问题进行特征选择。"
   ]
  },
  {
   "cell_type": "code",
   "execution_count": null,
   "metadata": {
    "collapsed": false
   },
   "outputs": [],
   "source": [
    "relevant_features = set()\n",
    "\n",
    "for label in y.unique():\n",
    "    y_train_binary = y_train == label\n",
    "    X_train_filtered = select_features(X_train, y_train_binary)\n",
    "    print(\"Number of relevant features for class {}: {}/{}\".format(label, X_train_filtered.shape[1], X_train.shape[1]))\n",
    "    relevant_features = relevant_features.union(set(X_train_filtered.columns))"
   ]
  },
  {
   "cell_type": "code",
   "execution_count": null,
   "metadata": {
    "collapsed": false
   },
   "outputs": [],
   "source": [
    "len(relevant_features)"
   ]
  },
  {
   "cell_type": "markdown",
   "metadata": {},
   "source": [
    "于是特征数量从1614降到了878"
   ]
  },
  {
   "cell_type": "code",
   "execution_count": null,
   "metadata": {
    "collapsed": false
   },
   "outputs": [],
   "source": [
    "cl = DecisionTreeClassifier()\n",
    "cl.fit(X_train, y_train)\n",
    "print(classification_report(y_test, cl.predict(X_test)))"
   ]
  },
  {
   "cell_type": "markdown",
   "metadata": {},
   "source": [
    "测试精度也有一定降低"
   ]
  },
  {
   "cell_type": "markdown",
   "metadata": {
    "deletable": true,
    "editable": true
   },
   "source": [
    "## Compare against naive classification accuracy"
   ]
  },
  {
   "cell_type": "markdown",
   "metadata": {},
   "source": [
    "### Data Preprocessing for Native method\n",
    "Native method指不提取特征，直接用所有传感器读数进行训练"
   ]
  },
  {
   "cell_type": "code",
   "execution_count": null,
   "metadata": {
    "collapsed": true
   },
   "outputs": [],
   "source": [
    "def loadNative(win):\n",
    "    labeldict={}\n",
    "    datadict={}\n",
    "    files = os.listdir('/home/hadoop/data')\n",
    "    for i in range(0, filenum):\n",
    "        with open('/home/hadoop/data/%s' % files[i], 'r') as f:\n",
    "            sensordata=np.loadtxt(f, delimiter=\",\")\n",
    "            for j in range(0, math.ceil(len(sensordata)/win)):\n",
    "                sd=sensordata[win*j:win*(j+1),:]\n",
    "                sd=sd.transpose()\n",
    "                \n",
    "                sdary=sd[0]\n",
    "                for idx in range(1, sensornum):\n",
    "                    sdary=np.concatenate((sdary, sd[idx]), axis=0)\n",
    "                sdary.shape=(len(sdary), 1)\n",
    "                if j == 0:\n",
    "                    dataarray=sdary\n",
    "                else:\n",
    "                    dataarray=np.concatenate((dataarray, sdary), axis=1)\n",
    "            \n",
    "            dataarray=np.transpose(dataarray)\n",
    "            labeldict[travel[i]]=i*np.ones((math.ceil(len(sensordata)/win), 1), dtype=int)\n",
    "            datadict[travel[i]]=dataarray\n",
    "            print(files[i]+\" loaded!\")\n",
    "    print(\"Finished!\") \n",
    "    return datadict, labeldict\n",
    "\n",
    "def genNativeSample(dataary, label, num, win): \n",
    "    num=int(num/sensornum)\n",
    "    for i in range(filenum):\n",
    "        if i==0:\n",
    "#             idary=0*np.ones((num, 1))\n",
    "            y=label[travel[i]][:num]\n",
    "            data=dataary[travel[i]][:num]\n",
    "        else:\n",
    "            y=np.row_stack((y, label[travel[i]][:num]))\n",
    "            data=np.row_stack((data, dataary[travel[i]][:num]))\n",
    "#             idary=np.row_stack((idary, i*np.ones((num, 1))))\n",
    "#     data=np.column_stack((idary, data))\n",
    "    dataframe = DataFrame(data)\n",
    "    y.shape=(len(y),)\n",
    "    y=pd.Series(y)\n",
    "    return dataframe, y"
   ]
  },
  {
   "cell_type": "code",
   "execution_count": null,
   "metadata": {
    "collapsed": false
   },
   "outputs": [],
   "source": [
    "data_1, label_1 = loadNative(win)"
   ]
  },
  {
   "cell_type": "code",
   "execution_count": null,
   "metadata": {
    "collapsed": false
   },
   "outputs": [],
   "source": [
    "# print(data_1[\"bus\"].shape)\n",
    "print(data_1[\"bus\"])"
   ]
  },
  {
   "cell_type": "code",
   "execution_count": null,
   "metadata": {
    "collapsed": false
   },
   "outputs": [],
   "source": [
    "X_1, y=genNativeSample(data_1, label_1, use_num, win)"
   ]
  },
  {
   "cell_type": "code",
   "execution_count": null,
   "metadata": {
    "collapsed": false,
    "deletable": true,
    "editable": true
   },
   "outputs": [],
   "source": [
    "X_1.shape"
   ]
  },
  {
   "cell_type": "code",
   "execution_count": null,
   "metadata": {
    "collapsed": false,
    "deletable": true,
    "editable": true
   },
   "outputs": [],
   "source": [
    "X_train, X_test, y_train, y_test = train_test_split(X_1, y, test_size=.2)\n",
    "\n",
    "# print(X_train.head())\n",
    "# print(X_test.head())\n",
    "# print(y_train.head())\n",
    "# print(y_test.head())"
   ]
  },
  {
   "cell_type": "code",
   "execution_count": null,
   "metadata": {
    "collapsed": false,
    "deletable": true,
    "editable": true
   },
   "outputs": [],
   "source": [
    "cl = DecisionTreeClassifier()\n",
    "cl.fit(X_train, y_train)\n",
    "\n",
    "# print(cl.predict(X_train))\n",
    "# print(cl.predict(X_test))\n",
    "print(classification_report(y_test, cl.predict(X_test)))"
   ]
  },
  {
   "cell_type": "markdown",
   "metadata": {},
   "source": []
  },
  {
   "cell_type": "code",
   "execution_count": null,
   "metadata": {
    "collapsed": true
   },
   "outputs": [],
   "source": []
  },
  {
   "cell_type": "code",
   "execution_count": null,
   "metadata": {
    "collapsed": true
   },
   "outputs": [],
   "source": []
  }
 ],
 "metadata": {
  "anaconda-cloud": {},
  "kernelspec": {
   "display_name": "Python [default]",
   "language": "python",
   "name": "python2"
  },
  "language_info": {
   "codemirror_mode": {
    "name": "ipython",
    "version": 2
   },
   "file_extension": ".py",
   "mimetype": "text/x-python",
   "name": "python",
   "nbconvert_exporter": "python",
   "pygments_lexer": "ipython2",
   "version": "2.7.12"
  }
 },
 "nbformat": 4,
 "nbformat_minor": 1
}
