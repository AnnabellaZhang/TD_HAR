{
 "cells": [
  {
   "cell_type": "markdown",
   "metadata": {},
   "source": [
    "该部分代码是在Li_TD.ipynb基础上，调整时间窗与采样频率组合，做相应适应性分析。"
   ]
  },
  {
   "cell_type": "markdown",
   "metadata": {},
   "source": [
    "从文件中读取数据，加载函数库"
   ]
  },
  {
   "cell_type": "code",
   "execution_count": 2,
   "metadata": {
    "collapsed": false
   },
   "outputs": [
    {
     "name": "stdout",
     "output_type": "stream",
     "text": [
      "4\n"
     ]
    }
   ],
   "source": [
    "%matplotlib inline\n",
    "import matplotlib.pylab as plt\n",
    "import matplotlib\n",
    "from tsfresh.examples.har_dataset import download_har_dataset, load_har_dataset, load_har_classes\n",
    "# import seaborn as sns\n",
    "from localtsfresh.tsfresh import extract_features, extract_relevant_features, select_features\n",
    "from localtsfresh.tsfresh.utilities.dataframe_functions import impute\n",
    "from tsfresh.feature_extraction import ComprehensiveFCParameters, EfficientFCParameters, MinimalFCParameters\n",
    "from sklearn.tree import DecisionTreeClassifier\n",
    "from sklearn.cross_validation import train_test_split\n",
    "from sklearn.metrics import classification_report\n",
    "from pandas import DataFrame\n",
    "import pandas as pd\n",
    "import numpy as np\n",
    "import os\n",
    "import math\n",
    "\n",
    "import logging\n",
    "\n",
    "from sklearn.ensemble import RandomForestClassifier\n",
    "from sklearn.metrics import accuracy_score\n",
    "from scipy.signal import butter, lfilter, lfilter_zi\n",
    "from numpy import linalg as LA\n",
    "from xgboost import XGBClassifier\n",
    "import copy\n",
    "from collections import Counter\n",
    "from sklearn import neighbors\n",
    "from sklearn.svm import SVC \n",
    "\n",
    "import datetime\n",
    "import time\n",
    "\n",
    "from multiprocessing import cpu_count\n",
    "print(cpu_count())\n",
    "\n",
    "#根据Win，生成DataFrame格式中的Time列\n",
    "def getTimeColumn(win):\n",
    "    time=np.arange(win)\n",
    "    for idx in range(1, sensornum):\n",
    "        timetmp=np.arange(win)\n",
    "        time=np.concatenate((time, timetmp), axis=0)\n",
    "    time.shape=(len(time),1)\n",
    "    return time\n",
    "\n",
    "#根据Win和数据，生成DataFrame格式中的kind和value列\n",
    "def getKindValueColumn(sd, win):\n",
    "    for i in range(sensornum):\n",
    "        kind=i*np.ones((win, 1),dtype=int)\n",
    "        sensorcols=sd[i]\n",
    "        #print(\"size of sensorcol is %d\" %sensorcols.size)\n",
    "        sensorcols.shape=(win, 1)\n",
    "        sdata=np.column_stack((kind, sensorcols))\n",
    "        if i==0:\n",
    "            sensorframe=sdata\n",
    "        else:\n",
    "            sensorframe=np.row_stack((sensorframe, sdata))\n",
    "    return sensorframe\n",
    "\n",
    "def getIdColumn(num, win):\n",
    "    for i in range(num):\n",
    "        if i==0:\n",
    "            idarry=0*np.ones((sensornum*win, 1))\n",
    "        else:\n",
    "            idarry=np.row_stack((idarry, i*np.ones((sensornum*win, 1))))\n",
    "    return idarry\n",
    "\n",
    "def getDataLabelColumn(dataary,label, num, win):\n",
    "    for i in range(len(activity)):\n",
    "        if i==0:\n",
    "            y=label[activity[i]][:num]\n",
    "            data=dataary[activity[i]][:num*win*sensornum]\n",
    "        else:\n",
    "            y=np.row_stack((y, label[activity[i]][:num]))\n",
    "            data=np.row_stack((data, dataary[activity[i]][:num*win*sensornum]))\n",
    "    y.shape=(len(y),)\n",
    "    y=pd.Series(y)\n",
    "    return data, y\n",
    "\n",
    "def getSampleOneUser(win, sensordata, step):\n",
    "    global datatmp\n",
    "    \n",
    "    dataLen = len(sensordata)\n",
    "    j = 0\n",
    "    step_num = 0\n",
    "    while j < dataLen - win:\n",
    "        sd=sensordata[j:j+win,:]\n",
    "        sd=sd.transpose()\n",
    "        time=getTimeColumn(win)\n",
    "        kindvalue=getKindValueColumn(sd, win)\n",
    "        travary=np.column_stack((time, kindvalue))                \n",
    "        if j == 0:\n",
    "            datatmp=travary\n",
    "        else:\n",
    "            datatmp=np.concatenate((datatmp, travary), axis=0)\n",
    "        j += step\n",
    "        step_num +=1\n",
    "    return datatmp, step_num\n",
    "\n",
    "def getSampleOneActivity(win, df, act, step):\n",
    "    label_user=np.array([])\n",
    "    dataarray=np.array([])\n",
    "    users=pd.Series(df.user).value_counts().reset_index()\n",
    "    userlist=list(np.array(users[\"index\"]))\n",
    "    for i in range(pd.Series(df.user).value_counts().size):#提取测试者一种行为数据的所有采样\n",
    "        sensordata=df[df.user==userlist[i]][df.activity==activity[act]].iloc[:,3:].values\n",
    "        if sensordata.size>win*sensornum:\n",
    "            data, step_num = getSampleOneUser(win, sensordata, step)\n",
    "            label_act = act*np.ones((step_num, 1), dtype=int)\n",
    "            if label_act.size>0 and data.size>0:\n",
    "                if label_user.size == 0:\n",
    "                    label_user=label_act\n",
    "                    dataarray = data\n",
    "                else:\n",
    "                    label_user=np.concatenate((label_user, label_act), axis=0)\n",
    "                    dataarray=np.concatenate((dataarray, data), axis=0)\n",
    "    return label_user,dataarray\n",
    "        \n",
    "\n",
    "##读取所有数据，结果是字典，分别存储六种运动的传感器读数矩阵，每个矩阵的三列分别是time, kind, value\n",
    "def loadData(win, df, step,sampling):\n",
    "    labeldict={}\n",
    "    datadict={}\n",
    "    resample_df = df[::sampling]\n",
    "    for i in range(len(activity)): #收集每种行为数据\n",
    "        label_user,dataarray = getSampleOneActivity(win,resample_df,i,step)\n",
    "        if label_user.size>0 and dataarray.size>0:\n",
    "            labeldict[activity[i]]=label_user\n",
    "            datadict[activity[i]]=dataarray\n",
    "        #print(\"user:%d\" % userlist[i] + \" loaded!\")\n",
    "    print(\"Done!\")\n",
    "    return datadict, labeldict\n",
    "\n",
    "#从所有数据dataary和其标签label中，选出总数为num的样本，每个类别选num/sensornum个样本。\n",
    "def genTrainSample(dataary, label, num, win):\n",
    "    idary=getIdColumn(num, win)\n",
    "    labelnum=int(num/len(activity)) ;\n",
    "    data, y=getDataLabelColumn(dataary, label, labelnum, win)\n",
    "    print(idary.shape)\n",
    "    print(data.shape)\n",
    "    data=np.column_stack((idary, data))\n",
    "    dataframe = DataFrame(data, columns=['id', 'time', 'kind', 'value'])\n",
    "    return dataframe, y\n",
    "\n",
    "#画出第idx个样本3个传感器的数据\n",
    "def plotSample(data, kind, idx, win, use_num):\n",
    "    fig = matplotlib.pyplot.gcf()\n",
    "    fig.set_size_inches(18.5, 10.5)\n",
    "    tmp=data.iloc[:, -1].values\n",
    "    for i in range(sensornum):\n",
    "        plt.subplot(3,2,i+1)\n",
    "        plt.title(sensor[i] + ' readings')\n",
    "        begin=kind*win*sensornum*use_num/6 + idx*win*sensornum + win*i\n",
    "        end=begin+win-1\n",
    "        plt.plot(tmp[begin:end])\n",
    "    plt.show()\n",
    "\n",
    "################## 人工提取特征 #####################\n",
    "\n",
    "def ftrExt(data, fs, win):\n",
    "    v = data.iloc[:,3:].values\n",
    "    mi = np.sqrt(np.sum(np.power(v, 2), 1)) #加速度的模\n",
    "    sma = np.sum(np.abs(v), 1)              #SMA\n",
    "    data['MI'] = mi \n",
    "    data['SMA'] = sma\n",
    "    data['velo'] = calcVelo(v, fs, win)\n",
    "    return data\n",
    "\n",
    "################ Calculate Velocity ###################\n",
    "\n",
    "def calcVelo(acc, fs, win):\n",
    "    velo = np.zeros(acc.shape)\n",
    "    for i in xrange(0, acc.shape[0]):\n",
    "        if i % win: \n",
    "            velo[i] = velo[i-1] + (acc[i-1]+acc[i])/(2*fs)\n",
    "    return LA.norm(velo, 2, axis=1)\n",
    "\n",
    "################ Butterworth 滤波 ###################\n",
    "\n",
    "def butter_lowpass(cutOff, fs, order=5):\n",
    "    nyq = 0.5 * fs\n",
    "    normalCutoff = cutOff / nyq\n",
    "    b, a = butter(order, normalCutoff, btype='low', analog = False)\n",
    "    return b, a\n",
    "\n",
    "def fltr(data, win, sensornum, cutOff, fs, order=5):\n",
    "    v = data.iloc[:, -1].values\n",
    "    b, a = butter_lowpass(cutOff, fs, order)\n",
    "    zi = np.tile(lfilter_zi(b, a), (sensornum,1))\n",
    "    for i in xrange(0, v.size, win*sensornum):\n",
    "        for j in xrange(0, sensornum):\n",
    "            x = v[i+j*win: i+(j+1)*win]\n",
    "            y, zi[j]= lfilter(b, a, x, zi=zi[j])\n",
    "            data.iloc[i+j*win: i+(j+1)*win, -1] = y\n",
    "    return"
   ]
  },
  {
   "cell_type": "markdown",
   "metadata": {},
   "source": [
    "经过XGBoost特征提取确定的13大类特征，因考虑不同窗口，采样频率的试验情况，并未采取后续有所缩减的8类特征。"
   ]
  },
  {
   "cell_type": "code",
   "execution_count": 3,
   "metadata": {
    "collapsed": true
   },
   "outputs": [],
   "source": [
    "extraction_settings = {'ar_coefficient': [{'coeff': 0, 'k': 10},\n",
    "    {'coeff': 1, 'k': 10},\n",
    "    {'coeff': 2, 'k': 10},\n",
    "    {'coeff': 3, 'k': 10},\n",
    "    {'coeff': 4, 'k': 10}],\n",
    "          'longest_strike_above_mean': None,\n",
    "          'longest_strike_below_mean': None,\n",
    "          'mean_abs_change_quantiles': [{'qh': 0.2, 'ql': 0.0},\n",
    "                                        {'qh': 0.4, 'ql': 0.0},\n",
    "                                        {'qh': 0.6, 'ql': 0.0},\n",
    "                                        {'qh': 0.8, 'ql': 0.0},\n",
    "                                        {'qh': 1.0, 'ql': 0.0},\n",
    "                                        {'qh': 0.4, 'ql': 0.2},\n",
    "                                        {'qh': 0.6, 'ql': 0.2},\n",
    "                                        {'qh': 0.8, 'ql': 0.2},\n",
    "                                        {'qh': 1.0, 'ql': 0.2},\n",
    "                                        {'qh': 0.6, 'ql': 0.4},\n",
    "                                        {'qh': 0.8, 'ql': 0.4},\n",
    "                                        {'qh': 1.0, 'ql': 0.4},\n",
    "                                        {'qh': 0.8, 'ql': 0.6},\n",
    "                                        {'qh': 1.0, 'ql': 0.6},\n",
    "                                        {'qh': 1.0, 'ql': 0.8}],\n",
    "          'autocorrelation': [{'lag': 0},{'lag': 1},{'lag': 2},{'lag': 3},{'lag': 4},\n",
    "                              {'lag': 5},{'lag': 6},{'lag': 7},{'lag': 8},{'lag': 9}],\n",
    "          'time_reversal_asymmetry_statistic': [{'lag': 1}, {'lag': 2}, {'lag': 3}],\n",
    "          'quantile': [{'q': 0.1},{'q': 0.2},{'q': 0.3},{'q': 0.4},\n",
    "                       {'q': 0.6},{'q': 0.7},{'q': 0.8},{'q': 0.9}],\n",
    "          'number_peaks': [{'n': 1}, {'n': 3}, {'n': 5}],\n",
    "          'minimum': None,\n",
    "          'maximum': None,\n",
    "          'median': None,\n",
    "          'sum_values': None,\n",
    "          'spkt_welch_density': [{'coeff': 2}, {'coeff': 5}, {'coeff': 8}],\n",
    "                    \"fft_dc\":None,\n",
    "                    \"fft_mean\":None,\n",
    "                    #\"fft_var\":None,\n",
    "                    \"fft_std\":None,\n",
    "                    \"fft_kurt\":None,\n",
    "                    \"fft_shape_mean\":None,\n",
    "                    \"fft_shape_std\":None,\n",
    "                    \"fft_shape_skew\":None,\n",
    "                    \"fft_shape_kurt\":None\n",
    "                      }"
   ]
  },
  {
   "cell_type": "markdown",
   "metadata": {},
   "source": [
    "时间窗口，（降）采样频率的设定"
   ]
  },
  {
   "cell_type": "code",
   "execution_count": 4,
   "metadata": {
    "collapsed": false
   },
   "outputs": [],
   "source": [
    "# 六种行为\n",
    "activity=[\"Walking\", \"Sitting\", \"Jogging\", \"Standing\", \"LyingDown\", \"Stairs\"]\n",
    "# 六个传感器数据\n",
    "fields=[\"user\", \"activity\", \"timestamp\", \"x-accel\", \"y-accel\", \"z-accel\"]\n",
    "sensor=[\"x-accel\", \"y-accel\", \"z-accel\"]\n",
    "type(fields)\n",
    "# 一些常量\n",
    "file_name='WISDM_at_v2.0_my.txt'\n",
    "sensornum=len(sensor)\n",
    "#窗口步长大小\n",
    "#win = [20，40,60,80,100,120]/sample,注意win是在采样间隔基础上算的\n",
    "win=120\n",
    "#步长为时间窗口的一半\n",
    "step=math.ceil(win/2)\n",
    "#sampling = [1,2,3,4] ,分别对应20hz,10hz,7hz,5hz\n",
    "sampling=1  #采样间隔\n",
    "datatmp=np.array\n",
    "\n",
    "df=pd.read_csv('/home/hadoop/data/WISDM_ar_v2.0_my.txt', header=None, names=fields,skip_blank_lines=True)\n",
    "##################"
   ]
  },
  {
   "cell_type": "code",
   "execution_count": 5,
   "metadata": {
    "collapsed": false
   },
   "outputs": [
    {
     "name": "stderr",
     "output_type": "stream",
     "text": [
      "/home/hadoop/anaconda2/lib/python2.7/site-packages/ipykernel/__main__.py:105: UserWarning: Boolean Series key will be reindexed to match DataFrame index.\n"
     ]
    },
    {
     "name": "stdout",
     "output_type": "stream",
     "text": [
      "Done!\n",
      "(1296000, 1)\n",
      "(1296000, 3)\n",
      "(1296000, 4)\n"
     ]
    }
   ],
   "source": [
    "#使用的样本数量(一个窗口的数据是一个样本)，建议设置陈6的倍数\n",
    "use_num=3600\n",
    "data, label = loadData(win, df, step,sampling)\n",
    "#取出use_num个样本，并将data转化成tsfresh需要的pandas.DataFrame类型，存储为df；将label转化为特征过滤需要的pandas.Series类型，存储为y\n",
    "df, y=genTrainSample(data, label, use_num, win)  \n",
    "\n",
    "master_df = df\n",
    "print(master_df.shape)"
   ]
  },
  {
   "cell_type": "markdown",
   "metadata": {},
   "source": [
    "总特征提取时间"
   ]
  },
  {
   "cell_type": "code",
   "execution_count": 6,
   "metadata": {
    "collapsed": false,
    "scrolled": true
   },
   "outputs": [
    {
     "name": "stdout",
     "output_type": "stream",
     "text": [
      "It is ok!\n"
     ]
    },
    {
     "name": "stderr",
     "output_type": "stream",
     "text": [
      "Feature Extraction: 100%|██████████| 10800/10800 [02:08<00:00, 84.34it/s]\n"
     ]
    },
    {
     "name": "stdout",
     "output_type": "stream",
     "text": [
      "CPU times: user 5.48 s, sys: 283 ms, total: 5.77 s\n",
      "Wall time: 2min 10s\n"
     ]
    }
   ],
   "source": [
    "# extraction_settings = ComprehensiveFCParameters()\n",
    "# extraction_settings = EfficientFCParameters()\n",
    "# extraction_settings = MinimalFCParameters()\n",
    "#extraction_settings.update({\"fft_dc\":None,\"fft_mean\":None,\"fft_var\":None,\"fft_std\":None,\"fft_kurt\":None,\"fft_shape_mean\":None,\"fft_shape_std\":None,\"fft_shape_skew\":None,\"fft_shape_kurt\":None})\n",
    "%time X = extract_features(master_df, default_fc_parameters=extraction_settings, column_id='id', column_sort=\"time\", column_kind=\"kind\", column_value=\"value\");\n",
    "# %time X = extract_features(master_df, column_id='id', column_sort=\"time\", column_kind=\"kind\", column_value=\"value\");"
   ]
  },
  {
   "cell_type": "markdown",
   "metadata": {},
   "source": [
    "多次重复计算100个窗口特征时间，因为timeit魔术命令总是取三次作为均值，后续并未采用这一数据"
   ]
  },
  {
   "cell_type": "code",
   "execution_count": 7,
   "metadata": {
    "collapsed": false
   },
   "outputs": [
    {
     "name": "stdout",
     "output_type": "stream",
     "text": [
      "It is ok!\n"
     ]
    },
    {
     "name": "stderr",
     "output_type": "stream",
     "text": [
      "Feature Extraction: 100%|██████████| 300/300 [00:03<00:00, 84.09it/s]"
     ]
    },
    {
     "name": "stdout",
     "output_type": "stream",
     "text": [
      "It is ok!\n"
     ]
    },
    {
     "name": "stderr",
     "output_type": "stream",
     "text": [
      "\n",
      "Feature Extraction: 100%|██████████| 300/300 [00:03<00:00, 88.72it/s]\n"
     ]
    },
    {
     "name": "stdout",
     "output_type": "stream",
     "text": [
      "It is ok!\n"
     ]
    },
    {
     "name": "stderr",
     "output_type": "stream",
     "text": [
      "Feature Extraction: 100%|██████████| 300/300 [00:03<00:00, 88.71it/s]"
     ]
    },
    {
     "name": "stdout",
     "output_type": "stream",
     "text": [
      "It is ok!\n"
     ]
    },
    {
     "name": "stderr",
     "output_type": "stream",
     "text": [
      "\n",
      "Feature Extraction: 100%|██████████| 300/300 [00:03<00:00, 89.41it/s]"
     ]
    },
    {
     "name": "stdout",
     "output_type": "stream",
     "text": [
      "1 loop, best of 3: 3.48 s per loop\n"
     ]
    },
    {
     "name": "stderr",
     "output_type": "stream",
     "text": [
      "\n"
     ]
    }
   ],
   "source": [
    "%timeit Y = extract_features(master_df.ix[0:(win*3*100-1)], default_fc_parameters=extraction_settings, column_id='id', column_sort=\"time\", column_kind=\"kind\", column_value=\"value\");"
   ]
  },
  {
   "cell_type": "markdown",
   "metadata": {},
   "source": [
    "100个窗口cpu计算时间，重复多次取均值"
   ]
  },
  {
   "cell_type": "code",
   "execution_count": 8,
   "metadata": {
    "collapsed": false
   },
   "outputs": [
    {
     "name": "stdout",
     "output_type": "stream",
     "text": [
      "It is ok!\n"
     ]
    },
    {
     "name": "stderr",
     "output_type": "stream",
     "text": [
      "Feature Extraction: 100%|██████████| 300/300 [00:03<00:00, 77.76it/s]"
     ]
    },
    {
     "name": "stdout",
     "output_type": "stream",
     "text": [
      "It is ok!\n"
     ]
    },
    {
     "name": "stderr",
     "output_type": "stream",
     "text": [
      "\n",
      "Feature Extraction: 100%|██████████| 300/300 [00:03<00:00, 79.24it/s]"
     ]
    },
    {
     "name": "stdout",
     "output_type": "stream",
     "text": [
      "It is ok!\n"
     ]
    },
    {
     "name": "stderr",
     "output_type": "stream",
     "text": [
      "\n",
      "Feature Extraction: 100%|██████████| 300/300 [00:03<00:00, 89.63it/s]"
     ]
    },
    {
     "name": "stdout",
     "output_type": "stream",
     "text": [
      "It is ok!\n"
     ]
    },
    {
     "name": "stderr",
     "output_type": "stream",
     "text": [
      "\n",
      "Feature Extraction: 100%|██████████| 300/300 [00:03<00:00, 86.17it/s]"
     ]
    },
    {
     "name": "stdout",
     "output_type": "stream",
     "text": [
      "It is ok!\n"
     ]
    },
    {
     "name": "stderr",
     "output_type": "stream",
     "text": [
      "\n",
      "Feature Extraction: 100%|██████████| 300/300 [00:03<00:00, 90.67it/s]"
     ]
    },
    {
     "name": "stdout",
     "output_type": "stream",
     "text": [
      "100 window CPU time for extract_features is 0.244000 s \n"
     ]
    },
    {
     "name": "stderr",
     "output_type": "stream",
     "text": [
      "\n"
     ]
    }
   ],
   "source": [
    "##100次窗口计算时间\n",
    "cpu_time = 0 #cpu时间\n",
    "for i in xrange(0,5):\n",
    "    start = time.clock()\n",
    "    Y = extract_features(master_df.ix[0:(win*3*100-1)], default_fc_parameters=extraction_settings, column_id='id', column_sort=\"time\", column_kind=\"kind\", column_value=\"value\");\n",
    "    end = time.clock()\n",
    "    cpu_time +=end-start\n",
    "print('100 window CPU time for extract_features is %f s '%(cpu_time/5))"
   ]
  },
  {
   "cell_type": "markdown",
   "metadata": {},
   "source": [
    "100个窗口程序执行时间，考虑了IO时间。重复多次取均值"
   ]
  },
  {
   "cell_type": "code",
   "execution_count": 9,
   "metadata": {
    "collapsed": false
   },
   "outputs": [
    {
     "name": "stdout",
     "output_type": "stream",
     "text": [
      "It is ok!\n"
     ]
    },
    {
     "name": "stderr",
     "output_type": "stream",
     "text": [
      "Feature Extraction: 100%|██████████| 300/300 [00:03<00:00, 75.80it/s]"
     ]
    },
    {
     "name": "stdout",
     "output_type": "stream",
     "text": [
      "It is ok!\n"
     ]
    },
    {
     "name": "stderr",
     "output_type": "stream",
     "text": [
      "\n",
      "Feature Extraction: 100%|██████████| 300/300 [00:03<00:00, 88.28it/s]"
     ]
    },
    {
     "name": "stdout",
     "output_type": "stream",
     "text": [
      "It is ok!\n"
     ]
    },
    {
     "name": "stderr",
     "output_type": "stream",
     "text": [
      "\n",
      "Feature Extraction: 100%|██████████| 300/300 [00:03<00:00, 77.93it/s]"
     ]
    },
    {
     "name": "stdout",
     "output_type": "stream",
     "text": [
      "It is ok!\n"
     ]
    },
    {
     "name": "stderr",
     "output_type": "stream",
     "text": [
      "\n",
      "Feature Extraction: 100%|██████████| 300/300 [00:03<00:00, 77.88it/s]"
     ]
    },
    {
     "name": "stdout",
     "output_type": "stream",
     "text": [
      "It is ok!\n"
     ]
    },
    {
     "name": "stderr",
     "output_type": "stream",
     "text": [
      "\n",
      "Feature Extraction: 100%|██████████| 300/300 [00:03<00:00, 89.71it/s]"
     ]
    },
    {
     "name": "stdout",
     "output_type": "stream",
     "text": [
      "100 window execute time for extract_features is 3.000000 s\n"
     ]
    },
    {
     "name": "stderr",
     "output_type": "stream",
     "text": [
      "\n"
     ]
    }
   ],
   "source": [
    "execute_time = 0 #程序执行时间\n",
    "for i in xrange(0,5):\n",
    "    start = datetime.datetime.now()\n",
    "    Y = extract_features(master_df.ix[0:(win*3*100-1)], default_fc_parameters=extraction_settings, column_id='id', column_sort=\"time\", column_kind=\"kind\", column_value=\"value\");\n",
    "    end = datetime.datetime.now()\n",
    "    execute_time+= (end-start).seconds\n",
    "print('100 window execute time for extract_features is %f s'%(execute_time/5))"
   ]
  },
  {
   "cell_type": "markdown",
   "metadata": {},
   "source": [
    "显示计算时间"
   ]
  },
  {
   "cell_type": "code",
   "execution_count": 10,
   "metadata": {
    "collapsed": false
   },
   "outputs": [
    {
     "data": {
      "text/plain": [
       "(3600, 183)"
      ]
     },
     "execution_count": 10,
     "metadata": {},
     "output_type": "execute_result"
    }
   ],
   "source": [
    "impute(X)\n",
    "X.shape"
   ]
  },
  {
   "cell_type": "markdown",
   "metadata": {},
   "source": [
    "数据的归一化"
   ]
  },
  {
   "cell_type": "code",
   "execution_count": 11,
   "metadata": {
    "collapsed": true
   },
   "outputs": [],
   "source": [
    "for n in X.columns:\n",
    "    std = np.std(X[n])\n",
    "    X[n] = (X[n]-np.mean(X[n]))/std if std>0 else X[n]-np.mean(X[n])"
   ]
  },
  {
   "cell_type": "markdown",
   "metadata": {},
   "source": [
    "# 分类XGBoost,Random Forest,Decision Tree,KNN"
   ]
  },
  {
   "cell_type": "markdown",
   "metadata": {},
   "source": [
    "XGBoost20次随机划分数据集，计算均值及平均混淆矩阵"
   ]
  },
  {
   "cell_type": "code",
   "execution_count": 16,
   "metadata": {
    "collapsed": false,
    "scrolled": true
   },
   "outputs": [
    {
     "name": "stdout",
     "output_type": "stream",
     "text": [
      "Loop 0, accuracy=0.986111\n",
      "Loop 1, accuracy=0.988889\n",
      "Loop 2, accuracy=0.981944\n",
      "Loop 3, accuracy=0.983333\n",
      "Loop 4, accuracy=0.980556\n",
      "Loop 5, accuracy=0.981944\n",
      "Loop 6, accuracy=0.987500\n",
      "Loop 7, accuracy=0.987500\n",
      "Loop 8, accuracy=0.986111\n",
      "Loop 9, accuracy=0.976389\n",
      "Loop 10, accuracy=0.984722\n",
      "Loop 11, accuracy=0.988889\n",
      "Loop 12, accuracy=0.979167\n",
      "Loop 13, accuracy=0.983333\n",
      "Loop 14, accuracy=0.976389\n",
      "Loop 15, accuracy=0.980556\n",
      "Loop 16, accuracy=0.986111\n",
      "Loop 17, accuracy=0.986111\n",
      "Loop 18, accuracy=0.988889\n",
      "Loop 19, accuracy=0.986111\n",
      "Mean accuracy is 0.984028\n",
      "preds        0       1       2       3       4       5\n",
      "actual                                                \n",
      "0       119.90    0.00    0.00    0.10    0.00    0.10\n",
      "1         0.00  115.70    0.15    0.90    2.70    0.00\n",
      "2         0.05    0.15  119.10    0.00    0.00    0.00\n",
      "3         0.15    0.40    0.00  118.60    0.35    0.00\n",
      "4         0.00    4.45    0.00    0.00  116.75    0.00\n",
      "5         1.10    0.15    0.00    0.75    0.00  118.45\n"
     ]
    }
   ],
   "source": [
    "mean = 0\n",
    "for i in xrange(0, 20):\n",
    "    X_train_tmp, X_test, y_train_tmp, y_test = train_test_split(X, y, test_size=.2)\n",
    "    X_train, X_val, y_train, y_val = train_test_split(X_train_tmp, y_train_tmp, test_size=.125)\n",
    "    eval_set = [(X_val, y_val)]\n",
    "    cl = XGBClassifier(max_depth=5, n_estimators=200, objective='multi:softmax', reg_lambda=2)\n",
    "    cl.fit(X_train, y_train, eval_metric='mlogloss', eval_set=eval_set, early_stopping_rounds=30, verbose=False)\n",
    "    score = accuracy_score(y_test, cl.predict(X_test))\n",
    "    tempcross=pd.crosstab(cl.predict(X_test), y_test, rownames=['actual'], colnames=['preds'])\n",
    "    print('Loop %d, accuracy=%f' % (i, score))\n",
    "    mean += score\n",
    "    if i==0:\n",
    "        crosstab = tempcross\n",
    "    else:\n",
    "        crosstab = crosstab+tempcross\n",
    "print('Mean accuracy is %f' % (mean/20))\n",
    "print(crosstab/20)"
   ]
  },
  {
   "cell_type": "markdown",
   "metadata": {},
   "source": [
    "选取随机森林，决策树，KNN三种分类器，同样随机划分20次，取精度均值"
   ]
  },
  {
   "cell_type": "code",
   "execution_count": 13,
   "metadata": {
    "collapsed": false
   },
   "outputs": [
    {
     "name": "stdout",
     "output_type": "stream",
     "text": [
      "Loop 0, accuracy=0.981944,0.962500,0.970833\n",
      "Loop 1, accuracy=0.965278,0.955556,0.970833\n",
      "Loop 2, accuracy=0.986111,0.961111,0.969444\n",
      "Loop 3, accuracy=0.976389,0.950000,0.965278\n",
      "Loop 4, accuracy=0.987500,0.963889,0.972222\n",
      "Loop 5, accuracy=0.969444,0.954167,0.956944\n",
      "Loop 6, accuracy=0.969444,0.954167,0.958333\n",
      "Loop 7, accuracy=0.983333,0.943056,0.969444\n",
      "Loop 8, accuracy=0.976389,0.951389,0.969444\n",
      "Loop 9, accuracy=0.980556,0.955556,0.959722\n",
      "Loop 10, accuracy=0.981944,0.968056,0.976389\n",
      "Loop 11, accuracy=0.977778,0.952778,0.973611\n",
      "Loop 12, accuracy=0.983333,0.952778,0.969444\n",
      "Loop 13, accuracy=0.987500,0.969444,0.976389\n",
      "Loop 14, accuracy=0.979167,0.950000,0.969444\n",
      "Loop 15, accuracy=0.988889,0.962500,0.970833\n",
      "Loop 16, accuracy=0.976389,0.951389,0.966667\n",
      "Loop 17, accuracy=0.980556,0.962500,0.965278\n",
      "Loop 18, accuracy=0.976389,0.951389,0.968056\n",
      "Loop 19, accuracy=0.976389,0.952778,0.970833\n",
      "RF Mean accuracy is 0.979236\n",
      "DT Mean accuracy is 0.956250\n",
      "KNN Mean accuracy is 0.968472\n"
     ]
    }
   ],
   "source": [
    "mean1 = 0\n",
    "mean2 = 0\n",
    "mean3 = 0\n",
    "for i in xrange(0, 20):\n",
    "    X_train_tmp, X_test, y_train_tmp, y_test = train_test_split(X, y, test_size=.2)\n",
    "    X_train, X_val, y_train, y_val = train_test_split(X_train_tmp, y_train_tmp, test_size=.125)\n",
    "    cl1 = RandomForestClassifier()\n",
    "    cl1.fit(X_train, y_train)\n",
    "    score1 = accuracy_score(y_test, cl1.predict(X_test))\n",
    "    cl2 = DecisionTreeClassifier()\n",
    "    cl2.fit(X_train, y_train)\n",
    "    score2 = accuracy_score(y_test, cl2.predict(X_test))\n",
    "    cl3 = neighbors.KNeighborsClassifier()  \n",
    "    cl3.fit(X_train, y_train)\n",
    "    score3 = accuracy_score(y_test, cl3.predict(X_test))\n",
    "    print('Loop %d, accuracy=%f,%f,%f' % (i, score1,score2,score3))\n",
    "    mean1 += score1\n",
    "    mean2 += score2\n",
    "    mean3 += score3\n",
    "print('RF Mean accuracy is %f' % (mean1/20))\n",
    "print('DT Mean accuracy is %f' % (mean2/20))\n",
    "print('KNN Mean accuracy is %f' % (mean3/20))"
   ]
  },
  {
   "cell_type": "markdown",
   "metadata": {},
   "source": [
    "评估100个窗口多次预测的平均时间"
   ]
  },
  {
   "cell_type": "code",
   "execution_count": 14,
   "metadata": {
    "collapsed": false
   },
   "outputs": [
    {
     "name": "stdout",
     "output_type": "stream",
     "text": [
      "100 loops, best of 3: 4.35 ms per loop\n",
      "1000 loops, best of 3: 966 µs per loop\n",
      "1000 loops, best of 3: 204 µs per loop\n",
      "10 loops, best of 3: 53.9 ms per loop\n"
     ]
    }
   ],
   "source": [
    "%timeit cl.predict(X_test.iloc[0:99])\n",
    "%timeit cl1.predict(X_test.iloc[0:99])\n",
    "%timeit cl2.predict(X_test.iloc[0:99])\n",
    "%timeit cl3.predict(X_test.iloc[0:99])"
   ]
  }
 ],
 "metadata": {
  "anaconda-cloud": {},
  "kernelspec": {
   "display_name": "Python [default]",
   "language": "python",
   "name": "python2"
  },
  "language_info": {
   "codemirror_mode": {
    "name": "ipython",
    "version": 2
   },
   "file_extension": ".py",
   "mimetype": "text/x-python",
   "name": "python",
   "nbconvert_exporter": "python",
   "pygments_lexer": "ipython2",
   "version": "2.7.12"
  }
 },
 "nbformat": 4,
 "nbformat_minor": 1
}
