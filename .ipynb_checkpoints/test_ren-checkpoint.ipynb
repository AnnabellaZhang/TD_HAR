{
 "cells": [
  {
   "cell_type": "code",
   "execution_count": 1,
   "metadata": {
    "collapsed": false
   },
   "outputs": [],
   "source": [
    "import os\n",
    "import sys\n",
    "import tsfresh\n",
    "import numpy as np\n",
    "import pandas as pd\n",
    "from pandas import Series, DataFrame"
   ]
  },
  {
   "cell_type": "code",
   "execution_count": 2,
   "metadata": {
    "collapsed": false
   },
   "outputs": [],
   "source": [
    "def getTsfreshVersion():\n",
    "    print(tsfresh.__version__)"
   ]
  },
  {
   "cell_type": "markdown",
   "metadata": {},
   "source": [
    "+ 读取数据："
   ]
  },
  {
   "cell_type": "code",
   "execution_count": 3,
   "metadata": {
    "collapsed": true
   },
   "outputs": [],
   "source": [
    "# 六种出行方式\n",
    "travel=[\"bus\", \"car\", \"running\", \"stationary\", \"subway\", \"walking\"]\n",
    "# 六个传感器数据\n",
    "sensor=[\"azimath\", \"pitch\", \"roll\", \"north\", \"east\", \"up\"]\n",
    "# 存储数据的字典{出行方式：pandas.Dataframe数据}"
   ]
  },
  {
   "cell_type": "code",
   "execution_count": 4,
   "metadata": {
    "collapsed": false
   },
   "outputs": [],
   "source": [
    "# 这里的DataFrame各列的设置，对应tsfresh要求的三种输入格式之一的Stacked DataFrame，前三列分别是id,time,kind，后面是数据\n",
    "def readData():\n",
    "    dataarray=0\n",
    "    files = os.listdir('/home/hadoop/data')\n",
    "    for i in range(0, 6):\n",
    "        with open('/home/hadoop/data/%s' % files[i], 'r') as f:\n",
    "            sensordata=np.loadtxt(f, delimiter=\",\")\n",
    "            sensordata=sensordata[1:10,:]\n",
    "            length, sensornum=sensordata.shape\n",
    "            sensordata=sensordata.transpose()\n",
    "\n",
    "            idarray=i*np.ones((sensordata.size,1),dtype=int)\n",
    "                    \n",
    "            time=np.arange(length)\n",
    "            for idx in range(1, 6):\n",
    "                timetmp=np.arange(length)\n",
    "                time=np.concatenate((time, timetmp), axis=0)\n",
    "            time.shape=(len(time),1)\n",
    "            \n",
    "            for idx in range(6):\n",
    "                kind=idx*np.ones((length, 1),dtype=int)\n",
    "                sensorcols=sensordata[idx]\n",
    "                sensorcols.shape=(length, 1)\n",
    "                sdata=np.concatenate((kind, sensorcols), axis=1)\n",
    "                if idx==0:\n",
    "                    sensorframe=sdata\n",
    "                else:\n",
    "                    sensorframe=np.concatenate((sensorframe, sdata), axis=0)\n",
    "            \n",
    "            travelarray=np.concatenate((idarray, time, sensorframe ), axis=1)\n",
    "            \n",
    "#             print(idarray.shape)\n",
    "#             print(time.shape)\n",
    "#             print(sensorframe.shape)\n",
    "#             print(travelarray.shape)\n",
    "\n",
    "            if i == 0:\n",
    "                dataarray=travelarray\n",
    "            else:\n",
    "                dataarray=np.concatenate((dataarray, travelarray), axis=0)\n",
    "    \n",
    "    dataframe = DataFrame(dataarray, columns=['id', 'time', 'kind', 'value']) \n",
    "    return dataframe"
   ]
  },
  {
   "cell_type": "code",
   "execution_count": null,
   "metadata": {
    "collapsed": true
   },
   "outputs": [],
   "source": [
    "def gety()\n",
    "    id=np.arange(len(travel))\n",
    "    print(id.shape)\n",
    "    "
   ]
  },
  {
   "cell_type": "code",
   "execution_count": 5,
   "metadata": {
    "collapsed": true
   },
   "outputs": [],
   "source": [
    "from tsfresh import extract_features, select_features"
   ]
  },
  {
   "cell_type": "code",
   "execution_count": 6,
   "metadata": {
    "collapsed": false
   },
   "outputs": [
    {
     "name": "stdout",
     "output_type": "stream",
     "text": [
      "      id  time  kind      value\n",
      "0    0.0   0.0   0.0   1.200916\n",
      "1    0.0   1.0   0.0   1.191972\n",
      "2    0.0   2.0   0.0   1.186100\n",
      "3    0.0   3.0   0.0   1.181217\n",
      "4    0.0   4.0   0.0   1.191511\n",
      "5    0.0   5.0   0.0   1.197771\n",
      "6    0.0   6.0   0.0   1.205506\n",
      "7    0.0   7.0   0.0   1.201536\n",
      "8    0.0   8.0   0.0   1.206752\n",
      "9    0.0   0.0   1.0  -0.352036\n",
      "10   0.0   1.0   1.0  -0.351980\n",
      "11   0.0   2.0   1.0  -0.348452\n",
      "12   0.0   3.0   1.0  -0.347043\n",
      "13   0.0   4.0   1.0  -0.345502\n",
      "14   0.0   5.0   1.0  -0.344494\n",
      "15   0.0   6.0   1.0  -0.342699\n",
      "16   0.0   7.0   1.0  -0.341691\n",
      "17   0.0   8.0   1.0  -0.338629\n",
      "18   0.0   0.0   2.0   0.036314\n",
      "19   0.0   1.0   2.0   0.037856\n",
      "20   0.0   2.0   2.0   0.036277\n",
      "21   0.0   3.0   2.0   0.034305\n",
      "22   0.0   4.0   2.0   0.031640\n",
      "23   0.0   5.0   2.0   0.030718\n",
      "24   0.0   6.0   2.0   0.031295\n",
      "25   0.0   7.0   2.0   0.029713\n",
      "26   0.0   8.0   2.0   0.027096\n",
      "27   0.0   0.0   3.0   0.029368\n",
      "28   0.0   1.0   3.0  -0.098848\n",
      "29   0.0   2.0   3.0   0.066162\n",
      "..   ...   ...   ...        ...\n",
      "294  5.0   6.0   2.0  -0.005509\n",
      "295  5.0   7.0   2.0  -0.014918\n",
      "296  5.0   8.0   2.0  -0.025793\n",
      "297  5.0   0.0   3.0   0.463660\n",
      "298  5.0   1.0   3.0   1.923373\n",
      "299  5.0   2.0   3.0   1.799934\n",
      "300  5.0   3.0   3.0   1.251969\n",
      "301  5.0   4.0   3.0   0.607772\n",
      "302  5.0   5.0   3.0  -0.042603\n",
      "303  5.0   6.0   3.0  -0.806782\n",
      "304  5.0   7.0   3.0  -0.941527\n",
      "305  5.0   8.0   3.0  -1.059731\n",
      "306  5.0   0.0   4.0   2.092474\n",
      "307  5.0   1.0   4.0   0.655005\n",
      "308  5.0   2.0   4.0  -0.608055\n",
      "309  5.0   3.0   4.0  -1.000012\n",
      "310  5.0   4.0   4.0  -1.137928\n",
      "311  5.0   5.0   4.0  -0.918581\n",
      "312  5.0   6.0   4.0  -0.618800\n",
      "313  5.0   7.0   4.0  -0.405838\n",
      "314  5.0   8.0   4.0   0.041542\n",
      "315  5.0   0.0   5.0   8.331766\n",
      "316  5.0   1.0   5.0  11.008509\n",
      "317  5.0   2.0   5.0  10.769857\n",
      "318  5.0   3.0   5.0  10.306575\n",
      "319  5.0   4.0   5.0   9.665052\n",
      "320  5.0   5.0   5.0   8.747042\n",
      "321  5.0   6.0   5.0   7.650823\n",
      "322  5.0   7.0   5.0   7.299423\n",
      "323  5.0   8.0   5.0   7.318701\n",
      "\n",
      "[324 rows x 4 columns]\n"
     ]
    },
    {
     "name": "stderr",
     "output_type": "stream",
     "text": [
      "Feature Extraction: 100%|██████████| 6/6 [00:02<00:00,  2.95it/s]"
     ]
    },
    {
     "name": "stdout",
     "output_type": "stream",
     "text": [
      "     0.0__mean_abs_change_quantiles__qh_1.0__ql_0.8  0.0__mean  \\\n",
      "id                                                               \n",
      "0.0                                        0.000000   1.195920   \n",
      "1.0                                        0.000000   3.087736   \n",
      "2.0                                        0.000000  -2.231737   \n",
      "3.0                                        0.005067   0.983320   \n",
      "4.0                                        0.000000  -1.531945   \n",
      "5.0                                        0.029688  -1.332037   \n",
      "\n",
      "     0.0__large_standard_deviation__r_0.35  \\\n",
      "id                                           \n",
      "0.0                                    0.0   \n",
      "1.0                                    1.0   \n",
      "2.0                                    0.0   \n",
      "3.0                                    1.0   \n",
      "4.0                                    0.0   \n",
      "5.0                                    0.0   \n",
      "\n",
      "     0.0__mean_abs_change_quantiles__qh_1.0__ql_0.4  \\\n",
      "id                                                    \n",
      "0.0                                        0.005640   \n",
      "1.0                                        0.006594   \n",
      "2.0                                        2.022342   \n",
      "3.0                                        0.005629   \n",
      "4.0                                        0.018063   \n",
      "5.0                                        0.019405   \n",
      "\n",
      "     0.0__mean_abs_change_quantiles__qh_1.0__ql_0.6  \\\n",
      "id                                                    \n",
      "0.0                                        0.004593   \n",
      "1.0                                        0.002832   \n",
      "2.0                                        2.991437   \n",
      "3.0                                        0.005629   \n",
      "4.0                                        0.011509   \n",
      "5.0                                        0.022911   \n",
      "\n",
      "     0.0__mean_abs_change_quantiles__qh_1.0__ql_0.0  \\\n",
      "id                                                    \n",
      "0.0                                        0.006647   \n",
      "1.0                                        0.010404   \n",
      "2.0                                        1.573277   \n",
      "3.0                                        0.009123   \n",
      "4.0                                        0.017344   \n",
      "5.0                                        0.012394   \n",
      "\n",
      "     0.0__mean_abs_change_quantiles__qh_1.0__ql_0.2  \\\n",
      "id                                                    \n",
      "0.0                                        0.006425   \n",
      "1.0                                        0.012570   \n",
      "2.0                                        1.239810   \n",
      "3.0                                        0.008498   \n",
      "4.0                                        0.016557   \n",
      "5.0                                        0.014237   \n",
      "\n",
      "     0.0__mean_abs_change_quantiles__qh_0.6__ql_0.8  0.0__count_above_mean  \\\n",
      "id                                                                           \n",
      "0.0                                             0.0                    5.0   \n",
      "1.0                                             0.0                    5.0   \n",
      "2.0                                             0.0                    1.0   \n",
      "3.0                                             0.0                    4.0   \n",
      "4.0                                             0.0                    5.0   \n",
      "5.0                                             0.0                    3.0   \n",
      "\n",
      "     0.0__mean_abs_change_quantiles__qh_0.6__ql_0.2  \\\n",
      "id                                                    \n",
      "0.0                                        0.006260   \n",
      "1.0                                        0.010268   \n",
      "2.0                                        0.058297   \n",
      "3.0                                        0.008007   \n",
      "4.0                                        0.002025   \n",
      "5.0                                        0.003902   \n",
      "\n",
      "                 ...                5.0__fft_coefficient__coeff_0  \\\n",
      "id               ...                                                \n",
      "0.0              ...                                    90.891587   \n",
      "1.0              ...                                    -4.503712   \n",
      "2.0              ...                                   164.132658   \n",
      "3.0              ...                                    88.565281   \n",
      "4.0              ...                                    86.124872   \n",
      "5.0              ...                                    81.097748   \n",
      "\n",
      "     5.0__fft_coefficient__coeff_1  5.0__fft_coefficient__coeff_2  \\\n",
      "id                                                                  \n",
      "0.0                      -1.114552                      -0.866715   \n",
      "1.0                      -0.270974                       0.513349   \n",
      "2.0                       9.533138                      13.886310   \n",
      "3.0                       0.097265                       0.001009   \n",
      "4.0                      -0.242186                      -0.199488   \n",
      "5.0                      -0.771487                      -0.339533   \n",
      "\n",
      "     5.0__fft_coefficient__coeff_3  5.0__fft_coefficient__coeff_4  \\\n",
      "id                                                                  \n",
      "0.0                      -0.900541                      -0.940321   \n",
      "1.0                       0.520748                       0.471369   \n",
      "2.0                       5.338403                      -0.633427   \n",
      "3.0                      -0.015641                      -0.019487   \n",
      "4.0                      -0.128696                      -0.029350   \n",
      "5.0                      -1.115128                      -0.829779   \n",
      "\n",
      "     5.0__fft_coefficient__coeff_5  5.0__fft_coefficient__coeff_6  \\\n",
      "id                                                                  \n",
      "0.0                            0.0                            0.0   \n",
      "1.0                            0.0                            0.0   \n",
      "2.0                            0.0                            0.0   \n",
      "3.0                            0.0                            0.0   \n",
      "4.0                            0.0                            0.0   \n",
      "5.0                            0.0                            0.0   \n",
      "\n",
      "     5.0__fft_coefficient__coeff_7  5.0__fft_coefficient__coeff_8  \\\n",
      "id                                                                  \n",
      "0.0                            0.0                            0.0   \n",
      "1.0                            0.0                            0.0   \n",
      "2.0                            0.0                            0.0   \n",
      "3.0                            0.0                            0.0   \n",
      "4.0                            0.0                            0.0   \n",
      "5.0                            0.0                            0.0   \n",
      "\n",
      "     5.0__fft_coefficient__coeff_9  \n",
      "id                                  \n",
      "0.0                            0.0  \n",
      "1.0                            0.0  \n",
      "2.0                            0.0  \n",
      "3.0                            0.0  \n",
      "4.0                            0.0  \n",
      "5.0                            0.0  \n",
      "\n",
      "[6 rows x 1650 columns]\n"
     ]
    },
    {
     "name": "stderr",
     "output_type": "stream",
     "text": [
      "\n"
     ]
    }
   ],
   "source": [
    "if __name__==\"__main__\":\n",
    "    data=readData()\n",
    "    print(data)\n",
    "    features = extract_features(data, column_id=\"id\", column_sort=\"time\", column_kind=\"kind\", column_value=\"value\")\n",
    "#     features = select_features(data, column_id=\"id\", column_sort=\"time\", column_kind=\"kind\", column_value=\"value\")\n",
    "    print(features)"
   ]
  },
  {
   "cell_type": "code",
   "execution_count": null,
   "metadata": {
    "collapsed": true
   },
   "outputs": [],
   "source": []
  }
 ],
 "metadata": {
  "anaconda-cloud": {},
  "kernelspec": {
   "display_name": "Python [default]",
   "language": "python",
   "name": "python2"
  },
  "language_info": {
   "codemirror_mode": {
    "name": "ipython",
    "version": 2
   },
   "file_extension": ".py",
   "mimetype": "text/x-python",
   "name": "python",
   "nbconvert_exporter": "python",
   "pygments_lexer": "ipython2",
   "version": "2.7.12"
  }
 },
 "nbformat": 4,
 "nbformat_minor": 1
}
