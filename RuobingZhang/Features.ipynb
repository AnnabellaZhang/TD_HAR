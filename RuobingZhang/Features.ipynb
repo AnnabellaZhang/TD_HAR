{
 "cells": [
  {
   "cell_type": "markdown",
   "metadata": {},
   "source": [
    "# Feature calculator\n",
    "\n",
    "特征抽取见feature_calculators.py，共有55个特征，其中有2个（显著）频域特征，2个high cost特征"
   ]
  },
  {
   "cell_type": "markdown",
   "metadata": {},
   "source": [
    "- 子列长度:对于0-1或者0-True序列，给出全True或者全1子列长度的一个list\n",
    "\n",
    "> _get_length_sequences_where(x)\n",
    "\n",
    ">>x = [0,1,0,0,1,1,1,0,0,1,0,1,1]\n",
    "\n",
    ">>_get_length_sequences_where(x)\n",
    " \n",
    ">>[1, 3, 1, 2]"
   ]
  },
  {
   "cell_type": "markdown",
   "metadata": {},
   "source": [
    "- Friedrich系数：多项式函数$h(x)$的系数，$\\dot{x}(t) = h(x(t)) + \\mathcal{N}(0,R)$\n",
    "> _estimate_friedrich_coefficients(x, m, r)"
   ]
  },
  {
   "cell_type": "markdown",
   "metadata": {},
   "source": [
    "- 数据块聚合：利用聚合函数对时间序列降采样\n",
    "> _aggregate_on_chunks(x, f_agg, chunk_len)"
   ]
  },
  {
   "cell_type": "markdown",
   "metadata": {},
   "source": [
    "## Simple特征 （45个，其中1个high cost）"
   ]
  },
  {
   "cell_type": "markdown",
   "metadata": {},
   "source": [
    "- 方差是否大于标准差：大于输出True\n",
    "\n",
    "> variance_larger_than_standard_deviation(x)"
   ]
  },
  {
   "cell_type": "markdown",
   "metadata": {},
   "source": [
    "- 大标准差：$ std(x) > r * (max(X)-min(X))$\n",
    "\n",
    "> large_standard_deviation(x, r)"
   ]
  },
  {
   "cell_type": "markdown",
   "metadata": {},
   "source": [
    "- 峰值出现次数：峰值是否出现多次\n",
    "\n",
    "> has_duplicate_max(x)"
   ]
  },
  {
   "cell_type": "markdown",
   "metadata": {},
   "source": [
    "- 谷值出现次数：谷值是否出现多次\n",
    "\n",
    "> has_duplicate_min(x)"
   ]
  },
  {
   "cell_type": "markdown",
   "metadata": {},
   "source": [
    "- 序列中是否有重复出现的数\n",
    "\n",
    ">has_duplicate(x)"
   ]
  },
  {
   "cell_type": "markdown",
   "metadata": {},
   "source": [
    "- 求和：对时间序列取值求和\n",
    "\n",
    ">sum_values(x)"
   ]
  },
  {
   "cell_type": "markdown",
   "metadata": {},
   "source": [
    "- 峰值数是否大于n\n",
    "\n",
    "> large_number_of_peaks(x, n)"
   ]
  },
  {
   "cell_type": "markdown",
   "metadata": {},
   "source": [
    "- 不同延迟下平均自相关：$\\frac{1}{n} \\sum_{l=1,\\ldots, n} \\frac{1}{(n-l)\\sigma^{2}} \\sum_{t=1}^{n-l}(X_{t}-\\mu )(X_{t+l}-\\mu)$，其中n是序列$X_i$长度，$\\sigma^2$和$\\mu$分布是均值和方差\n",
    "\n",
    "> mean_autocorrelation(x)"
   ]
  },
  {
   "cell_type": "markdown",
   "metadata": {},
   "source": [
    "- 增广Dickey-Fuller检验：假设检验，时间序列中是否是单根\n",
    "\n",
    ">augmented_dickey_fuller(x)"
   ]
  },
  {
   "cell_type": "markdown",
   "metadata": {},
   "source": [
    "- 绝对能量：$E = \\sum_{i=1,\\ldots, n} x_i^2$\n",
    "\n",
    ">abs_energy(x)"
   ]
  },
  {
   "cell_type": "markdown",
   "metadata": {},
   "source": [
    "- 平均绝对误差：$\\frac{1}{n} \\sum_{i=1,\\ldots, n-1} | x_{i+1} - x_{i}|$\n",
    "\n",
    ">mean_abs_change(x)"
   ]
  },
  {
   "cell_type": "markdown",
   "metadata": {},
   "source": [
    "- 平均误差：$\\frac{1}{n} \\sum_{i=1,\\ldots, n-1}  x_{i+1} - x_{i}$\n",
    "\n",
    ">mean_change(x)"
   ]
  },
  {
   "cell_type": "markdown",
   "metadata": {},
   "source": [
    "- 二阶差分中值估计：$ \\frac{1}{n} \\sum_{i=1,\\ldots, n-1}  \\frac{1}{2} (x_{i+2} - 2 \\cdot x_{i+1} + x_i)$\n",
    "\n",
    ">mean_second_derivate_central(x)"
   ]
  },
  {
   "cell_type": "markdown",
   "metadata": {},
   "source": [
    "- 中值：时间序列X的中值\n",
    "\n",
    ">median(x)"
   ]
  },
  {
   "cell_type": "markdown",
   "metadata": {},
   "source": [
    "- 均值\n",
    "\n",
    "> mean(x)"
   ]
  },
  {
   "cell_type": "markdown",
   "metadata": {},
   "source": [
    "- 长度\n",
    "\n",
    ">length(x)"
   ]
  },
  {
   "cell_type": "markdown",
   "metadata": {},
   "source": [
    "- 标准差\n",
    "\n",
    ">standard_deviation(x)"
   ]
  },
  {
   "cell_type": "markdown",
   "metadata": {},
   "source": [
    "- 方差\n",
    "\n",
    ">variance(x)"
   ]
  },
  {
   "cell_type": "markdown",
   "metadata": {},
   "source": [
    "- 偏度\n",
    "\n",
    ">skewness(x)"
   ]
  },
  {
   "cell_type": "markdown",
   "metadata": {},
   "source": [
    "- 峰度\n",
    "\n",
    ">kurtosis(x)"
   ]
  },
  {
   "cell_type": "markdown",
   "metadata": {},
   "source": [
    "- 序列连续变化绝对值：$\\sum_{i=1, \\ldots, n-1} \\mid x_{i+1}- x_i \\mid$\n",
    "\n",
    ">absolute_sum_of_changes(x)"
   ]
  },
  {
   "cell_type": "markdown",
   "metadata": {},
   "source": [
    "- 低于均值的最长子序列\n",
    "\n",
    ">longest_strike_below_mean(x)"
   ]
  },
  {
   "cell_type": "markdown",
   "metadata": {},
   "source": [
    "- 高于均值的最长子序列\n",
    "\n",
    ">longest_strike_above_mean(x)"
   ]
  },
  {
   "cell_type": "markdown",
   "metadata": {},
   "source": [
    "- 高于均值的值数\n",
    "\n",
    ">count_above_mean(x)"
   ]
  },
  {
   "cell_type": "markdown",
   "metadata": {},
   "source": [
    "- 低于均值的值数\n",
    "\n",
    ">count_below_mean(x)"
   ]
  },
  {
   "cell_type": "markdown",
   "metadata": {},
   "source": [
    "- 最大值的最后相对位置\n",
    "\n",
    ">last_location_of_maximum(x)"
   ]
  },
  {
   "cell_type": "markdown",
   "metadata": {},
   "source": [
    "- 最大值的首个位置\n",
    "\n",
    ">first_location_of_maximum(x)"
   ]
  },
  {
   "cell_type": "markdown",
   "metadata": {},
   "source": [
    "- 多次出现的值的比例(长度）： len(different values occurring more than once) / len(different values)\n",
    "\n",
    ">percentage_of_reoccurring_datapoints_to_all_datapoints(x)"
   ]
  },
  {
   "cell_type": "markdown",
   "metadata": {},
   "source": [
    "- 多次出现的值的比例(数量）：# of data points occurring more than once / # of all data points\n",
    "\n",
    ">percentage_of_reoccurring_values_to_all_values(x)"
   ]
  },
  {
   "cell_type": "markdown",
   "metadata": {},
   "source": [
    "- 出现多次的值的和\n",
    "\n",
    ">sum_of_reoccurring_values(x)"
   ]
  },
  {
   "cell_type": "markdown",
   "metadata": {},
   "source": [
    "- 多次出现数据点的和\n",
    "\n",
    ">sum_of_reoccurring_data_points(x)"
   ]
  },
  {
   "cell_type": "markdown",
   "metadata": {},
   "source": [
    "- 仅出现一次的值的比例\n",
    "\n",
    ">ratio_value_number_to_time_series_length(x)"
   ]
  },
  {
   "cell_type": "markdown",
   "metadata": {},
   "source": [
    "- 序列中n近邻峰值的个数：n近邻峰值指某点比左n个和右n个点都大\n",
    "\n",
    ">number_peaks(x, n)"
   ]
  },
  {
   "cell_type": "markdown",
   "metadata": {},
   "source": [
    "- 经Ricker小波平滑后的高信噪比的尖峰\n",
    "\n",
    "> number_cwt_peaks(x, n)"
   ]
  },
  {
   "cell_type": "markdown",
   "metadata": {},
   "source": [
    "- 时间翻转不对称统计量：$\\frac{1}{n-2lag} \\sum_{i=0}^{n-2lag} x_{i + 2 \\cdot lag}^2 \\cdot x_{i + lag} - x_{i + lag} \\cdot  x_{i}^2$，即$\\mathbb{E}[L^2(X)^2 \\cdot L(X) - L(X) \\cdot X^2]$，其中$\\mathbb{E}$是均值，$L$是延迟操作\n",
    "\n",
    ">time_reversal_asymmetry_statistic(x, lag)"
   ]
  },
  {
   "cell_type": "markdown",
   "metadata": {},
   "source": [
    "- 分箱后的熵：先将x等距分箱，再计算$- \\sum_{k=0}^{min(max\\_bins, len(x))} p_k log(p_k) \\cdot \\mathbf{1}_{(p_k > 0)}$，其中$p_k$是样本在k箱中的比例\n",
    "\n",
    "> binned_entropy(x, max_bins)"
   ]
  },
  {
   "cell_type": "markdown",
   "metadata": {},
   "source": [
    "- 在lag延迟下的自相关\n",
    "\n",
    ">autocorrelation(x, lag)"
   ]
  },
  {
   "cell_type": "markdown",
   "metadata": {},
   "source": [
    "- 分位数：计算x的q分位数\n",
    "\n",
    ">quantile(x, q)"
   ]
  },
  {
   "cell_type": "markdown",
   "metadata": {},
   "source": [
    "- 最大值\n",
    "\n",
    "> maximum(x)"
   ]
  },
  {
   "cell_type": "markdown",
   "metadata": {},
   "source": [
    "- 最小值\n",
    "\n",
    ">minimum(x)"
   ]
  },
  {
   "cell_type": "markdown",
   "metadata": {},
   "source": [
    "- 值为value的点数\n",
    "\n",
    "> value_count(x, value)"
   ]
  },
  {
   "cell_type": "markdown",
   "metadata": {},
   "source": [
    "- 值在max和min间的点数\n",
    "\n",
    ">range_count(x, min, max)"
   ]
  },
  {
   "cell_type": "markdown",
   "metadata": {},
   "source": [
    "- 估计熵（high cost）：矢量化近似熵算法， https://en.wikipedia.org/wiki/Approximate_entropy\n",
    "，其中m是比较的数据长度，r是过滤等级（>0）\n",
    "\n",
    ">approximate_entropy(x, m, r)"
   ]
  },
  {
   "cell_type": "markdown",
   "metadata": {},
   "source": [
    "- 最大的Langevin模型拟合点：$argmax_x {h(x)=0}$，Langevin模型为$\\dot(x)(t) = h(x(t)) + R \\mathcal(N)(0,1)$\n",
    "\n",
    ">max_langevin_fixed_point(x, r, m)"
   ]
  },
  {
   "cell_type": "markdown",
   "metadata": {},
   "source": [
    "- 样本熵（high cost）：计算x的样本熵\n",
    "\n",
    ">sample_entropy(x)"
   ]
  },
  {
   "cell_type": "markdown",
   "metadata": {},
   "source": [
    "## Combiner特征 （9个）"
   ]
  },
  {
   "cell_type": "markdown",
   "metadata": {},
   "source": [
    "- 对称相似性： $| mean(X)-median(X)| < r * (max(X)-min(X))$\n",
    "\n",
    "> symmetry_looking(x, param)\n",
    "\n",
    ">>  :param r: the percentage of the range to compare with\n",
    "\n",
    ">> :type r: float"
   ]
  },
  {
   "cell_type": "markdown",
   "metadata": {},
   "source": [
    "- **FFT后的一维离散傅里叶变换得到的傅里叶系数**\n",
    "\n",
    ">fft_coefficient(x, param)"
   ]
  },
  {
   "cell_type": "markdown",
   "metadata": {
    "collapsed": true
   },
   "source": [
    "- q%分位数的下标i:param -> contains dictionaries {\"q\": x} with x float\n",
    "\n",
    ">index_mass_quantile(x, param)"
   ]
  },
  {
   "cell_type": "markdown",
   "metadata": {},
   "source": [
    "- 对时间序列做最小二乘回归：假设信号被均匀采样，param表示希望返回的参数，例如 \"pvalue\", \"rvalue\", \"intercept\", \"slope\", \"stderr\"等\n",
    "\n",
    ">linear_trend(x, param)"
   ]
  },
  {
   "cell_type": "markdown",
   "metadata": {},
   "source": [
    "- 连续小波变换系数：$\\frac{2}{\\sqrt{3a} \\pi^{\\frac{1}{4}}} (1 - \\frac{x^2}{a^2}) exp(-\\frac{x^2}{2a^2})$，其中a是小波函数宽度参数。计算不同宽度矩阵下小波变换，并返回系数coeff和宽度w\n",
    "\n",
    ">cwt_coefficients(x, param)"
   ]
  },
  {
   "cell_type": "markdown",
   "metadata": {},
   "source": [
    "- **估计交叉功率谱密度：先从时域转换为频域，返回不同频率下的功率谱**\n",
    "\n",
    ">spkt_welch_density(x, param)"
   ]
  },
  {
   "cell_type": "markdown",
   "metadata": {},
   "source": [
    "- 自回归系数：自回归操作的无条件最大似然，$X_{t}=\\varphi_0 +\\sum _{{i=1}}^{k}\\varphi_{i}X_{{t-i}}+\\varepsilon_{t}$,param->coefficients$\\varphi_{i}$,最大延迟过程k\n",
    "\n",
    ">ar_coefficient(x, param)"
   ]
  },
  {
   "cell_type": "markdown",
   "metadata": {},
   "source": [
    "- 确定轴上ql分位数与qh分位数间的平均绝对连续变化值\n",
    "\n",
    ">mean_abs_change_quantiles(x, ql, qh)"
   ]
  },
  {
   "cell_type": "markdown",
   "metadata": {},
   "source": [
    "- Friedrich系数：$h(x)$的多项式系数，其中多项式拟合到朗之万的确定性动力学模型，$\\dot{x}(t) = h(x(t)) + \\mathcal{N}(0,R)$，短时时间序列时该模型非常依赖参数。param是系数集。\n",
    "\n",
    ">friedrich_coefficients(x, param)"
   ]
  },
  {
   "cell_type": "markdown",
   "metadata": {},
   "source": [
    "- 聚成块后的线性最小二乘回归：param指定返回的参数，并给定分块的大小chunk_len（每个chunk中时间序列的个数），聚合参数（ \"max\", \"min\" or , \"mean\", \"median\"）\n",
    "\n",
    ">agg_linear_trend(x, param)"
   ]
  }
 ],
 "metadata": {
  "anaconda-cloud": {},
  "kernelspec": {
   "display_name": "Python [default]",
   "language": "python",
   "name": "python2"
  },
  "language_info": {
   "codemirror_mode": {
    "name": "ipython",
    "version": 2
   },
   "file_extension": ".py",
   "mimetype": "text/x-python",
   "name": "python",
   "nbconvert_exporter": "python",
   "pygments_lexer": "ipython2",
   "version": "2.7.12"
  }
 },
 "nbformat": 4,
 "nbformat_minor": 1
}
