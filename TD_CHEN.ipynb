{
 "cells": [
  {
   "cell_type": "code",
   "execution_count": 1,
   "metadata": {
    "collapsed": false
   },
   "outputs": [
    {
     "name": "stdout",
     "output_type": "stream",
     "text": [
      "localtsfresh_init!\n",
      "feature_extraction_init\n",
      "tsfresh_init!\n"
     ]
    }
   ],
   "source": [
    "%matplotlib inline\n",
    "import matplotlib.pylab as plt\n",
    "import matplotlib\n",
    "from tsfresh.examples.har_dataset import download_har_dataset, load_har_dataset, load_har_classes\n",
    "# import seaborn as sns\n",
    "from localtsfresh.tsfresh import extract_features, extract_relevant_features, select_features\n",
    "from localtsfresh.tsfresh.utilities.dataframe_functions import impute\n",
    "from tsfresh.feature_extraction import ComprehensiveFCParameters, EfficientFCParameters, MinimalFCParameters\n",
    "from sklearn.tree import DecisionTreeClassifier\n",
    "from sklearn.cross_validation import train_test_split\n",
    "from sklearn.metrics import classification_report\n",
    "from pandas import DataFrame\n",
    "import pandas as pd\n",
    "import numpy as np\n",
    "import os\n",
    "import math\n",
    "\n",
    "import logging\n",
    "\n",
    "from sklearn.ensemble import RandomForestClassifier\n",
    "from sklearn.metrics import accuracy_score\n",
    "from scipy.signal import butter, lfilter, lfilter_zi\n",
    "from numpy import linalg as LA\n",
    "from xgboost import XGBClassifier\n",
    "import copy\n",
    "from collections import Counter\n",
    "from sklearn import neighbors\n",
    "from sklearn.svm import SVC \n",
    "\n",
    "# We set the logger to Error level\n",
    "# This is not recommend for normal use as you can oversee important Warning messages\n",
    "logging.basicConfig(level=logging.ERROR)\n",
    "\n",
    "#根据Win，生成DataFrame格式中的Time列\n",
    "def getTimeColumn(win):\n",
    "    time=np.arange(win)\n",
    "    for idx in range(1, sensornum):\n",
    "        timetmp=np.arange(win)\n",
    "        time=np.concatenate((time, timetmp), axis=0)\n",
    "    time.shape=(len(time),1)\n",
    "    return time\n",
    "\n",
    "#根据Win和数据，生成DataFrame格式中的kind和value列\n",
    "def getKindValueColumn(sd, win):\n",
    "    for i in range(sensornum):\n",
    "        kind=i*np.ones((win, 1),dtype=int)\n",
    "        sensorcols=sd[i]\n",
    "        sensorcols.shape=(win, 1)\n",
    "        sdata=np.column_stack((kind, sensorcols))\n",
    "        if i==0:\n",
    "            sensorframe=sdata\n",
    "        else:\n",
    "            sensorframe=np.row_stack((sensorframe, sdata))\n",
    "    return sensorframe\n",
    "\n",
    "def getIdColumn(num, win):\n",
    "    for i in range(num):\n",
    "        if i==0:\n",
    "            idary=0*np.ones((sensornum*win, 1))\n",
    "        else:\n",
    "            idary=np.row_stack((idary, i*np.ones((sensornum*win, 1))))\n",
    "    return idary\n",
    "\n",
    "def getDataLabelColumn(dataary,label, num, win):\n",
    "    for i in range(filenum):\n",
    "        if i==0:\n",
    "            y=label[travel[i]][:num]\n",
    "            data=dataary[travel[i]][:num*win*sensornum]\n",
    "        else:\n",
    "            y=np.row_stack((y, label[travel[i]][:num]))\n",
    "            data=np.row_stack((data, dataary[travel[i]][:num*win*sensornum]))\n",
    "    y.shape=(len(y),)\n",
    "    y=pd.Series(y)\n",
    "    return data, y\n",
    "\n",
    "\n",
    "#读取所有数据，结果是字典，分别存储六种运动的传感器读数矩阵，每个矩阵的三列分别是time, kind, value\n",
    "def loadData(win, step, fs):\n",
    "    labeldict={}\n",
    "    datadict={}\n",
    "    files = os.listdir('/home/hadoop/data')\n",
    "    if step<=win:\n",
    "        for i in range(0, filenum):\n",
    "            with open('/home/hadoop/data/%s' % files[i], 'r') as f:\n",
    "                sensordata=np.loadtxt(f, delimiter=\",\")[::2, :]\n",
    "                max_num=int((len(sensordata)-win)/step)+1\n",
    "                \n",
    "                ########## feature extraction ###########\n",
    "                sensordata = np.delete(sensordata, np.s_[:3], 1)\n",
    "                sensordata[:, 2] = sensordata[:, 2] - 9.8\n",
    "                #mi = LA.norm(sensordata, 2, axis=1)\n",
    "                #sma = np.sum(np.abs(sensordata), 1)\n",
    "                #velo = calcVelo(sensordata[:,:2], fs, win)\n",
    "                #sensordata = np.c_[sensordata, mi, sma]\n",
    "                \n",
    "                #loadDataPlot(sensordata, i)\n",
    "\n",
    "                ########## filter ############\n",
    "                #fltr2(sensordata, cutOff=15, fs=fs, order=5)\n",
    "                #########################################\n",
    "                \n",
    "                for j in range(0, max_num):\n",
    "                    start_idx=step*j\n",
    "                    end_idx=step*j+win\n",
    "                    sd=sensordata[start_idx:end_idx,:]\n",
    "                    sd=sd.transpose()\n",
    "                        \n",
    "                    time=getTimeColumn(win)\n",
    "                    kindvalue=getKindValueColumn(sd, win)\n",
    "                    travary=np.column_stack((time, kindvalue ))\n",
    "\n",
    "                    if j == 0:\n",
    "                        dataarray=travary\n",
    "                    else:\n",
    "                        dataarray=np.concatenate((dataarray, travary), axis=0)  \n",
    "\n",
    "                labeldict[travel[i]]=i*np.ones((max_num, 1), dtype=int)\n",
    "                datadict[travel[i]]=dataarray\n",
    "                print(files[i]+\" loaded!\")\n",
    "        use_num_max=filenum*max_num\n",
    "        return datadict, labeldict, use_num_max\n",
    "    else:\n",
    "        raise IOError('\\'step\\' of slide window shoud be less than \\'win\\'')\n",
    "\n",
    "#从所有数据dataary和其标签label中，选出总数为num的样本，每个类别选num/sensornum个样本。\n",
    "def genTrainSample(dataary, label, num, win):\n",
    "    idary=getIdColumn(num, win)\n",
    "    labelnum=int(num/filenum) ;\n",
    "    data, y=getDataLabelColumn(dataary, label, labelnum, win)\n",
    "    data=np.column_stack((idary, data))\n",
    "    dataframe = DataFrame(data, columns=['id', 'time', 'kind', 'value'])\n",
    "    return dataframe, y\n",
    "\n",
    "\n",
    "\n",
    "#画出第idx个样本3个传感器的数据\n",
    "def plotSample(data, kind, idx, win, use_num):\n",
    "    fig = matplotlib.pyplot.gcf()\n",
    "    fig.set_size_inches(18.5, 10.5)\n",
    "    tmp=data.iloc[:, -1].values\n",
    "    for i in range(sensornum):\n",
    "        plt.subplot(3,2,i+1)\n",
    "        plt.title(sensor[i] + ' readings')\n",
    "        begin=kind*win*use_num + idx*win*sensornum + win*i\n",
    "        end=begin+win-1\n",
    "        plt.plot(tmp[begin:end])\n",
    "    plt.show()\n",
    "    \n",
    "def loadDataPlot(data, ind):\n",
    "    plt.figure(ind)\n",
    "    for i in xrange(0, data.shape[1]):\n",
    "        fig = matplotlib.pyplot.gcf()\n",
    "        fig.set_size_inches(18.5, 10.5)\n",
    "        plt.subplot(3,2,i+1)\n",
    "        plt.plot(data[:, i])\n",
    "    return\n",
    "\n",
    "################ Calculate Velocity ###################\n",
    "\n",
    "def calcVelo(acc, fs, win):\n",
    "    velo = np.zeros(acc.shape)\n",
    "    for i in xrange(0, acc.shape[0]):\n",
    "        if i % win: \n",
    "            velo[i] = velo[i-1] + (acc[i-1]+acc[i])/(2*fs)\n",
    "    return LA.norm(velo, 2, axis=1)\n",
    "        \n",
    "\n",
    "################ Butterworth 滤波 ###################\n",
    "\n",
    "def butter_lowpass(cutOff, fs, order=5):\n",
    "    nyq = 0.5 * fs\n",
    "    normalCutoff = cutOff / nyq\n",
    "    b, a = butter(order, normalCutoff, btype='low', analog = False)\n",
    "    return b, a\n",
    "\n",
    "def fltr(data, win, sensornum, cutOff, fs, order=5): #这个是在滑窗之后滤波的函数\n",
    "    v = data.iloc[:, -1].values\n",
    "    b, a = butter_lowpass(cutOff, fs, order)\n",
    "    zi = np.tile(lfilter_zi(b, a), (sensornum,1))\n",
    "    for i in xrange(0, v.size, win*sensornum):\n",
    "        for j in xrange(0, sensornum):\n",
    "            x = v[i+j*win: i+(j+1)*win]\n",
    "            y, zi[j]= lfilter(b, a, x, zi=zi[j])\n",
    "            data.iloc[i+j*win: i+(j+1)*win, -1] = y\n",
    "    return\n",
    "\n",
    "def fltr2(sensordata, cutOff, fs, order):  #这个是在数据读取后马上就滤波的函数\n",
    "    b, a = butter_lowpass(cutOff, fs, order)\n",
    "    for n in xrange(sensordata.shape[1]):\n",
    "        zi = lfilter_zi(b, a)\n",
    "        sensordata[:,n], zi = lfilter(b, a, sensordata[:,n], zi=zi)\n"
   ]
  },
  {
   "cell_type": "code",
   "execution_count": 102,
   "metadata": {
    "collapsed": false
   },
   "outputs": [
    {
     "name": "stdout",
     "output_type": "stream",
     "text": [
      "bus_data_set_101 loaded!\n",
      "car_data_set_103 loaded!\n",
      "running_data_set_8 loaded!\n",
      "stationary_data_set_3 loaded!\n",
      "subway_data_set_102 loaded!\n",
      "walking_data_set_7 loaded!\n",
      "\n",
      " \u001b[1;33;48m NOTE: use_num should be less than 7290\n"
     ]
    }
   ],
   "source": [
    "#可修改常量\n",
    "# 六种出行方式\n",
    "travel=[\"bus\", \"car\", \"running\", \"stationary\", \"subway\", \"walking\"]\n",
    "# 六个传感器数据\n",
    "#sensor=[\"azimath\", \"pitch\", \"roll\", \"mi\", \"sma\"]\n",
    "sensor=[\"azimath\", \"pitch\", \"roll\"]\n",
    "# 一些常量\n",
    "filenum=6\n",
    "#窗口步长大小\n",
    "#win = [100，200,300,400,500]/sample\n",
    "win=100\n",
    "step=win/2            #步长应该小于等于win\n",
    "#sample = [1,2,3,4,5] \n",
    "sampling=2         #采样间隔，注意，win是在采样间隔基础上算的\n",
    "#使用的样本数量(一个窗口的数据是一个样本)，建议设置成sensornum的倍数\n",
    "fs = math.ceil(100/sampling)\n",
    "\n",
    "sensornum=len(sensor)\n",
    "data, label, use_num_max = loadData(win, step, fs)\n",
    "\n",
    "print(\"\\n \\033[1;33;48m NOTE: use_num should be less than %s\"%(use_num_max))"
   ]
  },
  {
   "cell_type": "code",
   "execution_count": 127,
   "metadata": {
    "collapsed": false
   },
   "outputs": [],
   "source": [
    "# 重采样的数据集\n",
    "data_sr2 = {}\n",
    "data_sr3 = {}\n",
    "data_sr4 = {}\n",
    "data_sr5 = {}\n",
    "for i in travel:\n",
    "    data_sr2[i] = data[i][::2]\n",
    "    data_sr3[i] = data[i][::3]\n",
    "    data_sr4[i] = data[i][::4]\n",
    "    data_sr5[i] = data[i][::5]"
   ]
  },
  {
   "cell_type": "code",
   "execution_count": 128,
   "metadata": {
    "collapsed": false
   },
   "outputs": [
    {
     "ename": "ValueError",
     "evalue": "all the input array dimensions except for the concatenation axis must match exactly",
     "output_type": "error",
     "traceback": [
      "\u001b[0;31m\u001b[0m",
      "\u001b[0;31mValueError\u001b[0mTraceback (most recent call last)",
      "\u001b[0;32m<ipython-input-128-5d089f05e9c2>\u001b[0m in \u001b[0;36m<module>\u001b[0;34m()\u001b[0m\n\u001b[1;32m      3\u001b[0m \u001b[0;31m# print(label[\"bus\"].shape)       #只有一列，因为sensornum*win条读数才是一个样本，所以label的行数是data的1/(sensornum*win)\u001b[0m\u001b[0;34m\u001b[0m\u001b[0;34m\u001b[0m\u001b[0m\n\u001b[1;32m      4\u001b[0m \u001b[0muse_num\u001b[0m \u001b[0;34m=\u001b[0m \u001b[0;36m7200\u001b[0m\u001b[0;34m\u001b[0m\u001b[0m\n\u001b[0;32m----> 5\u001b[0;31m \u001b[0mdf\u001b[0m\u001b[0;34m,\u001b[0m \u001b[0my\u001b[0m\u001b[0;34m=\u001b[0m\u001b[0mgenTrainSample\u001b[0m\u001b[0;34m(\u001b[0m\u001b[0mdata_sr2\u001b[0m\u001b[0;34m,\u001b[0m \u001b[0mlabel\u001b[0m\u001b[0;34m,\u001b[0m \u001b[0muse_num\u001b[0m\u001b[0;34m,\u001b[0m \u001b[0mwin\u001b[0m\u001b[0;34m)\u001b[0m\u001b[0;34m\u001b[0m\u001b[0m\n\u001b[0m\u001b[1;32m      6\u001b[0m \u001b[0;34m\u001b[0m\u001b[0m\n\u001b[1;32m      7\u001b[0m \u001b[0;31m######## Low Pass Filter ##########\u001b[0m\u001b[0;34m\u001b[0m\u001b[0;34m\u001b[0m\u001b[0m\n",
      "\u001b[0;32m<ipython-input-1-5e7f8dacb3ab>\u001b[0m in \u001b[0;36mgenTrainSample\u001b[0;34m(dataary, label, num, win)\u001b[0m\n\u001b[1;32m    128\u001b[0m     \u001b[0mlabelnum\u001b[0m\u001b[0;34m=\u001b[0m\u001b[0mint\u001b[0m\u001b[0;34m(\u001b[0m\u001b[0mnum\u001b[0m\u001b[0;34m/\u001b[0m\u001b[0mfilenum\u001b[0m\u001b[0;34m)\u001b[0m \u001b[0;34m;\u001b[0m\u001b[0;34m\u001b[0m\u001b[0m\n\u001b[1;32m    129\u001b[0m     \u001b[0mdata\u001b[0m\u001b[0;34m,\u001b[0m \u001b[0my\u001b[0m\u001b[0;34m=\u001b[0m\u001b[0mgetDataLabelColumn\u001b[0m\u001b[0;34m(\u001b[0m\u001b[0mdataary\u001b[0m\u001b[0;34m,\u001b[0m \u001b[0mlabel\u001b[0m\u001b[0;34m,\u001b[0m \u001b[0mlabelnum\u001b[0m\u001b[0;34m,\u001b[0m \u001b[0mwin\u001b[0m\u001b[0;34m)\u001b[0m\u001b[0;34m\u001b[0m\u001b[0m\n\u001b[0;32m--> 130\u001b[0;31m     \u001b[0mdata\u001b[0m\u001b[0;34m=\u001b[0m\u001b[0mnp\u001b[0m\u001b[0;34m.\u001b[0m\u001b[0mcolumn_stack\u001b[0m\u001b[0;34m(\u001b[0m\u001b[0;34m(\u001b[0m\u001b[0midary\u001b[0m\u001b[0;34m,\u001b[0m \u001b[0mdata\u001b[0m\u001b[0;34m)\u001b[0m\u001b[0;34m)\u001b[0m\u001b[0;34m\u001b[0m\u001b[0m\n\u001b[0m\u001b[1;32m    131\u001b[0m     \u001b[0mdataframe\u001b[0m \u001b[0;34m=\u001b[0m \u001b[0mDataFrame\u001b[0m\u001b[0;34m(\u001b[0m\u001b[0mdata\u001b[0m\u001b[0;34m,\u001b[0m \u001b[0mcolumns\u001b[0m\u001b[0;34m=\u001b[0m\u001b[0;34m[\u001b[0m\u001b[0;34m'id'\u001b[0m\u001b[0;34m,\u001b[0m \u001b[0;34m'time'\u001b[0m\u001b[0;34m,\u001b[0m \u001b[0;34m'kind'\u001b[0m\u001b[0;34m,\u001b[0m \u001b[0;34m'value'\u001b[0m\u001b[0;34m]\u001b[0m\u001b[0;34m)\u001b[0m\u001b[0;34m\u001b[0m\u001b[0m\n\u001b[1;32m    132\u001b[0m     \u001b[0;32mreturn\u001b[0m \u001b[0mdataframe\u001b[0m\u001b[0;34m,\u001b[0m \u001b[0my\u001b[0m\u001b[0;34m\u001b[0m\u001b[0m\n",
      "\u001b[0;32m/home/hadoop/anaconda2/lib/python2.7/site-packages/numpy/lib/shape_base.pyc\u001b[0m in \u001b[0;36mcolumn_stack\u001b[0;34m(tup)\u001b[0m\n\u001b[1;32m    315\u001b[0m             \u001b[0marr\u001b[0m \u001b[0;34m=\u001b[0m \u001b[0marray\u001b[0m\u001b[0;34m(\u001b[0m\u001b[0marr\u001b[0m\u001b[0;34m,\u001b[0m \u001b[0mcopy\u001b[0m\u001b[0;34m=\u001b[0m\u001b[0mFalse\u001b[0m\u001b[0;34m,\u001b[0m \u001b[0msubok\u001b[0m\u001b[0;34m=\u001b[0m\u001b[0mTrue\u001b[0m\u001b[0;34m,\u001b[0m \u001b[0mndmin\u001b[0m\u001b[0;34m=\u001b[0m\u001b[0;36m2\u001b[0m\u001b[0;34m)\u001b[0m\u001b[0;34m.\u001b[0m\u001b[0mT\u001b[0m\u001b[0;34m\u001b[0m\u001b[0m\n\u001b[1;32m    316\u001b[0m         \u001b[0marrays\u001b[0m\u001b[0;34m.\u001b[0m\u001b[0mappend\u001b[0m\u001b[0;34m(\u001b[0m\u001b[0marr\u001b[0m\u001b[0;34m)\u001b[0m\u001b[0;34m\u001b[0m\u001b[0m\n\u001b[0;32m--> 317\u001b[0;31m     \u001b[0;32mreturn\u001b[0m \u001b[0m_nx\u001b[0m\u001b[0;34m.\u001b[0m\u001b[0mconcatenate\u001b[0m\u001b[0;34m(\u001b[0m\u001b[0marrays\u001b[0m\u001b[0;34m,\u001b[0m \u001b[0;36m1\u001b[0m\u001b[0;34m)\u001b[0m\u001b[0;34m\u001b[0m\u001b[0m\n\u001b[0m\u001b[1;32m    318\u001b[0m \u001b[0;34m\u001b[0m\u001b[0m\n\u001b[1;32m    319\u001b[0m \u001b[0;32mdef\u001b[0m \u001b[0mdstack\u001b[0m\u001b[0;34m(\u001b[0m\u001b[0mtup\u001b[0m\u001b[0;34m)\u001b[0m\u001b[0;34m:\u001b[0m\u001b[0;34m\u001b[0m\u001b[0m\n",
      "\u001b[0;31mValueError\u001b[0m: all the input array dimensions except for the concatenation axis must match exactly"
     ]
    }
   ],
   "source": [
    "#取出use_num个样本，并将data转化成tsfresh需要的pandas.DataFrame类型，存储为df；将label转化为特征过滤需要的pandas.Series类型，存储为y\n",
    "# print(data[\"bus\"].shape)        #data[\"bus]矩阵三列分别是time, kind, value\n",
    "# print(label[\"bus\"].shape)       #只有一列，因为sensornum*win条读数才是一个样本，所以label的行数是data的1/(sensornum*win)\n",
    "use_num = 7200\n",
    "df, y=genTrainSample(data_sr2, label, use_num, win)\n",
    "\n",
    "######## Low Pass Filter ##########\n",
    "#kind=0\n",
    "#idx=10\n",
    "#plotSample(df, kind,idx, win, use_num)\n",
    "#fltr(df, win, sensornum, cutOff=4, fs=fs, order=5) #filter\n",
    "\n",
    "master_df = df\n",
    "print(master_df.shape)"
   ]
  },
  {
   "cell_type": "code",
   "execution_count": 104,
   "metadata": {
    "collapsed": false
   },
   "outputs": [
    {
     "data": {
      "image/png": "[encoded data removed]",
      "text/plain": [
       "<matplotlib.figure.Figure at 0x7f8bc49ca290>"
      ]
     },
     "metadata": {},
     "output_type": "display_data"
    }
   ],
   "source": [
    "kind=2\n",
    "idx=100\n",
    "plotSample(df, kind, idx, win, use_num)"
   ]
  },
  {
   "cell_type": "code",
   "execution_count": 105,
   "metadata": {
    "collapsed": true
   },
   "outputs": [],
   "source": [
    "# extraction_settings = ComprehensiveFCParameters()\n",
    "#extraction_settings = EfficientFCParameters()\n",
    "# extraction_settings = MinimalFCParameters()\n",
    "#extraction_settings.update({\"fft_dc\":None,\"fft_mean\":None,\"fft_var\":None,\"fft_std\":None,\"fft_kurt\":None,\"fft_shape_mean\":None,\"fft_shape_std\":None,\"fft_shape_skew\":None,\"fft_shape_kurt\":None})\n",
    "\n",
    "extraction_settings = {'ar_coefficient': [{'coeff': 0, 'k': 10},\n",
    "    {'coeff': 1, 'k': 10},\n",
    "    {'coeff': 2, 'k': 10},\n",
    "    {'coeff': 3, 'k': 10},\n",
    "    {'coeff': 4, 'k': 10}],\n",
    "          'longest_strike_above_mean': None,\n",
    "          'longest_strike_below_mean': None,\n",
    "         'mean_abs_change_quantiles': [{'qh': 0.2, 'ql': 0.0},\n",
    "                                        {'qh': 0.4, 'ql': 0.0},\n",
    "                                        {'qh': 0.6, 'ql': 0.0},\n",
    "                                        {'qh': 0.8, 'ql': 0.0},\n",
    "                                        {'qh': 1.0, 'ql': 0.0},\n",
    "                                        {'qh': 0.4, 'ql': 0.2},\n",
    "                                        {'qh': 0.6, 'ql': 0.2},\n",
    "                                        {'qh': 0.8, 'ql': 0.2},\n",
    "                                        {'qh': 1.0, 'ql': 0.2},\n",
    "                                        {'qh': 0.6, 'ql': 0.4},\n",
    "                                        {'qh': 0.8, 'ql': 0.4},\n",
    "                                        {'qh': 1.0, 'ql': 0.4},\n",
    "                                        {'qh': 0.8, 'ql': 0.6},\n",
    "                                        {'qh': 1.0, 'ql': 0.6},\n",
    "                                        {'qh': 1.0, 'ql': 0.8}],\n",
    "          'autocorrelation': [{'lag': 0},{'lag': 1},{'lag': 2},{'lag': 3},{'lag': 4},\n",
    "                              {'lag': 5},{'lag': 6},{'lag': 7},{'lag': 8},{'lag': 9}],\n",
    "          'time_reversal_asymmetry_statistic': [{'lag': 1}, {'lag': 2}, {'lag': 3}],\n",
    "          'quantile': [{'q': 0.1},{'q': 0.2},{'q': 0.3},{'q': 0.4},\n",
    "                       {'q': 0.6},{'q': 0.7},{'q': 0.8},{'q': 0.9}],\n",
    "          'number_peaks': [{'n': 1}, {'n': 3}, {'n': 5}],\n",
    "          'minimum': None,\n",
    "          'maximum': None,\n",
    "          'median': None,\n",
    "          'sum_values': None,\n",
    "          'spkt_welch_density': [{'coeff': 2}, {'coeff': 5}, {'coeff': 8}],\n",
    "                    \"fft_dc\":None,\n",
    "                    \"fft_mean\":None,\n",
    "                    #\"fft_var\":None,\n",
    "                    \"fft_std\":None,\n",
    "                    \"fft_kurt\":None,\n",
    "                    \"fft_shape_mean\":None,\n",
    "                    \"fft_shape_std\":None,\n",
    "                    \"fft_shape_skew\":None,\n",
    "                    \"fft_shape_kurt\":None\n",
    "                      }\n",
    "\n"
   ]
  },
  {
   "cell_type": "code",
   "execution_count": 106,
   "metadata": {
    "collapsed": false
   },
   "outputs": [
    {
     "name": "stdout",
     "output_type": "stream",
     "text": [
      "It is ok!\n"
     ]
    },
    {
     "name": "stderr",
     "output_type": "stream",
     "text": [
      "Feature Extraction: 100%|██████████| 21600/21600 [04:18<00:00, 83.47it/s]\n"
     ]
    },
    {
     "name": "stdout",
     "output_type": "stream",
     "text": [
      "CPU times: user 13.4 s, sys: 1.04 s, total: 14.4 s\n",
      "Wall time: 4min 27s\n"
     ]
    }
   ],
   "source": [
    "%time X = extract_features(master_df, default_fc_parameters=extraction_settings, column_id='id', column_sort=\"time\", column_kind=\"kind\", column_value=\"value\");"
   ]
  },
  {
   "cell_type": "code",
   "execution_count": 107,
   "metadata": {
    "collapsed": false
   },
   "outputs": [
    {
     "name": "stdout",
     "output_type": "stream",
     "text": [
      "It is ok!\n"
     ]
    },
    {
     "name": "stderr",
     "output_type": "stream",
     "text": [
      "Feature Extraction: 100%|██████████| 300/300 [00:07<00:00, 39.44it/s]"
     ]
    },
    {
     "name": "stdout",
     "output_type": "stream",
     "text": [
      "It is ok!\n"
     ]
    },
    {
     "name": "stderr",
     "output_type": "stream",
     "text": [
      "\n",
      "Feature Extraction: 100%|██████████| 300/300 [00:03<00:00, 77.15it/s]"
     ]
    },
    {
     "name": "stdout",
     "output_type": "stream",
     "text": [
      "It is ok!\n"
     ]
    },
    {
     "name": "stderr",
     "output_type": "stream",
     "text": [
      "\n",
      "Feature Extraction: 100%|██████████| 300/300 [00:03<00:00, 88.67it/s]\n"
     ]
    },
    {
     "name": "stdout",
     "output_type": "stream",
     "text": [
      "It is ok!\n"
     ]
    },
    {
     "name": "stderr",
     "output_type": "stream",
     "text": [
      "Feature Extraction: 100%|██████████| 300/300 [00:04<00:00, 70.82it/s]"
     ]
    },
    {
     "name": "stdout",
     "output_type": "stream",
     "text": [
      "1 loop, best of 3: 3.56 s per loop\n"
     ]
    },
    {
     "name": "stderr",
     "output_type": "stream",
     "text": [
      "\n"
     ]
    }
   ],
   "source": [
    "%timeit Y = extract_features(master_df.ix[0:(win*3*100-1)], default_fc_parameters=extraction_settings, column_id='id', column_sort=\"time\", column_kind=\"kind\", column_value=\"value\");"
   ]
  },
  {
   "cell_type": "code",
   "execution_count": 108,
   "metadata": {
    "collapsed": false,
    "scrolled": true
   },
   "outputs": [
    {
     "name": "stdout",
     "output_type": "stream",
     "text": [
      "It is ok!\n"
     ]
    },
    {
     "name": "stderr",
     "output_type": "stream",
     "text": [
      "Feature Extraction: 100%|██████████| 300/300 [00:04<00:00, 73.31it/s]\n"
     ]
    },
    {
     "name": "stdout",
     "output_type": "stream",
     "text": [
      "CPU times: user 277 ms, sys: 120 ms, total: 397 ms\n",
      "Wall time: 4.66 s\n"
     ]
    }
   ],
   "source": [
    "%time Y = extract_features(master_df.ix[0:(win*3*100-1)], default_fc_parameters=extraction_settings, column_id='id', column_sort=\"time\", column_kind=\"kind\", column_value=\"value\");"
   ]
  },
  {
   "cell_type": "code",
   "execution_count": 109,
   "metadata": {
    "collapsed": true
   },
   "outputs": [],
   "source": [
    "##%prun Y = extract_features(master_df.ix[0:(win*3*100-1)], default_fc_parameters=extraction_settings, column_id='id', column_sort=\"time\", column_kind=\"kind\", column_value=\"value\");"
   ]
  },
  {
   "cell_type": "code",
   "execution_count": 110,
   "metadata": {
    "collapsed": false
   },
   "outputs": [
    {
     "data": {
      "text/plain": [
       "(7200, 183)"
      ]
     },
     "execution_count": 110,
     "metadata": {},
     "output_type": "execute_result"
    }
   ],
   "source": [
    "impute(X)\n",
    "X.shape"
   ]
  },
  {
   "cell_type": "code",
   "execution_count": 111,
   "metadata": {
    "collapsed": false
   },
   "outputs": [],
   "source": [
    "for n in X.columns:\n",
    "    std = np.std(X[n])\n",
    "    X[n] = (X[n]-np.mean(X[n]))/std if std>0 else X[n]-np.mean(X[n])"
   ]
  },
  {
   "cell_type": "code",
   "execution_count": 112,
   "metadata": {
    "collapsed": true
   },
   "outputs": [],
   "source": [
    "X_train_tmp, X_test, y_train_tmp, y_test = train_test_split(X, y, test_size=.2)\n",
    "X_train, X_val, y_train, y_val = train_test_split(X_train_tmp, y_train_tmp, test_size=.125)"
   ]
  },
  {
   "cell_type": "code",
   "execution_count": 113,
   "metadata": {
    "collapsed": false
   },
   "outputs": [
    {
     "name": "stdout",
     "output_type": "stream",
     "text": [
      "Loop 0, accuracy=0.943750\n",
      "Loop 1, accuracy=0.932639\n",
      "Loop 2, accuracy=0.936806\n",
      "Loop 3, accuracy=0.954861\n",
      "Loop 4, accuracy=0.941667\n",
      "Loop 5, accuracy=0.936111\n",
      "Loop 6, accuracy=0.949306\n",
      "Loop 7, accuracy=0.945833\n",
      "Loop 8, accuracy=0.950000\n",
      "Loop 9, accuracy=0.940278\n",
      "Loop 10, accuracy=0.945833\n",
      "Loop 11, accuracy=0.943056\n",
      "Loop 12, accuracy=0.952083\n",
      "Loop 13, accuracy=0.936806\n",
      "Loop 14, accuracy=0.940278\n",
      "Loop 15, accuracy=0.940278\n",
      "Loop 16, accuracy=0.940972\n",
      "Loop 17, accuracy=0.943750\n",
      "Loop 18, accuracy=0.946528\n",
      "Loop 19, accuracy=0.945833\n",
      "Mean accuracy is 0.943333\n"
     ]
    }
   ],
   "source": [
    "mean = 0\n",
    "for i in xrange(0, 20):\n",
    "    X_train_tmp, X_test, y_train_tmp, y_test = train_test_split(X, y, test_size=.2)\n",
    "    X_train, X_val, y_train, y_val = train_test_split(X_train_tmp, y_train_tmp, test_size=.125)\n",
    "    eval_set = [(X_val, y_val)]\n",
    "    cl = XGBClassifier(max_depth=5, n_estimators=200, objective='multi:softmax', reg_lambda=2)\n",
    "    cl.fit(X_train, y_train, eval_metric='mlogloss', eval_set=eval_set, early_stopping_rounds=30, verbose=False)\n",
    "    score = accuracy_score(y_test, cl.predict(X_test))\n",
    "    print('Loop %d, accuracy=%f' % (i, score))\n",
    "    mean += score\n",
    "print('Mean accuracy is %f' % (mean/20))"
   ]
  },
  {
   "cell_type": "markdown",
   "metadata": {},
   "source": [
    "# 整体模型"
   ]
  },
  {
   "cell_type": "code",
   "execution_count": 114,
   "metadata": {
    "collapsed": false
   },
   "outputs": [
    {
     "name": "stdout",
     "output_type": "stream",
     "text": [
      "Accuracy of test data is 0.945833\n",
      "             precision    recall  f1-score   support\n",
      "\n",
      "          0       0.88      0.92      0.90       232\n",
      "          1       0.93      0.91      0.92       253\n",
      "          2       1.00      0.98      0.99       242\n",
      "          3       1.00      0.99      0.99       229\n",
      "          4       0.90      0.90      0.90       245\n",
      "          5       0.98      0.99      0.98       239\n",
      "\n",
      "avg / total       0.95      0.95      0.95      1440\n",
      "\n",
      "preds     0    1    2    3    4    5\n",
      "actual                              \n",
      "0       213   13    0    1   15    1\n",
      "1         5  229    1    1    9    1\n",
      "2         0    0  237    0    0    1\n",
      "3         0    1    0  226    0    0\n",
      "4        13    9    1    1  221    0\n",
      "5         1    1    3    0    0  236\n"
     ]
    }
   ],
   "source": [
    "eval_set = [(X_val, y_val)]\n",
    "cl = XGBClassifier(max_depth=5, n_estimators=200, objective='multi:softmax', reg_lambda=2)\n",
    "cl.fit(X_train, y_train, eval_metric='mlogloss', eval_set=eval_set, early_stopping_rounds=30, verbose=False)\n",
    "score = accuracy_score(y_test, cl.predict(X_test))\n",
    "print('Accuracy of test data is %f' %score)\n",
    "print(classification_report(y_test, cl.predict(X_test)))\n",
    "print (pd.crosstab(cl.predict(X_test), y_test, rownames=['actual'], colnames=['preds']))"
   ]
  },
  {
   "cell_type": "code",
   "execution_count": 115,
   "metadata": {
    "collapsed": false
   },
   "outputs": [
    {
     "name": "stdout",
     "output_type": "stream",
     "text": [
      "100 loops, best of 3: 6.37 ms per loop\n"
     ]
    }
   ],
   "source": [
    "%timeit cl.predict(X_test.iloc[0:99])"
   ]
  },
  {
   "cell_type": "code",
   "execution_count": 116,
   "metadata": {
    "collapsed": false
   },
   "outputs": [
    {
     "name": "stdout",
     "output_type": "stream",
     "text": [
      "Accuracy of test data is 0.911806\n",
      "             precision    recall  f1-score   support\n",
      "\n",
      "          0       0.78      0.87      0.82       232\n",
      "          1       0.89      0.87      0.88       253\n",
      "          2       0.99      0.95      0.97       242\n",
      "          3       0.99      0.98      0.98       229\n",
      "          4       0.89      0.82      0.85       245\n",
      "          5       0.95      0.99      0.97       239\n",
      "\n",
      "avg / total       0.91      0.91      0.91      1440\n",
      "\n",
      "preds     0    1    2    3    4    5\n",
      "actual                              \n",
      "0       202   22    2    1   31    1\n",
      "1        11  220    3    2   12    0\n",
      "2         0    2  230    0    0    1\n",
      "3         0    2    0  225    1    0\n",
      "4        15    6    1    1  200    1\n",
      "5         4    1    6    0    1  236\n"
     ]
    }
   ],
   "source": [
    "cl1 = RandomForestClassifier()\n",
    "cl1.fit(X_train, y_train)\n",
    "score1 = accuracy_score(y_test, cl1.predict(X_test))\n",
    "print('Accuracy of test data is %f' %score1)\n",
    "print(classification_report(y_test, cl1.predict(X_test)))\n",
    "print (pd.crosstab(cl1.predict(X_test), y_test, rownames=['actual'], colnames=['preds']))"
   ]
  },
  {
   "cell_type": "code",
   "execution_count": 117,
   "metadata": {
    "collapsed": false
   },
   "outputs": [
    {
     "name": "stdout",
     "output_type": "stream",
     "text": [
      "1000 loops, best of 3: 1.07 ms per loop\n"
     ]
    }
   ],
   "source": [
    "%timeit cl1.predict(X_test.iloc[0:99])"
   ]
  },
  {
   "cell_type": "code",
   "execution_count": 118,
   "metadata": {
    "collapsed": false
   },
   "outputs": [
    {
     "name": "stdout",
     "output_type": "stream",
     "text": [
      "Accuracy of test data is 0.840278\n",
      "             precision    recall  f1-score   support\n",
      "\n",
      "          0       0.70      0.72      0.71       232\n",
      "          1       0.75      0.72      0.74       253\n",
      "          2       0.95      0.96      0.95       242\n",
      "          3       0.98      0.96      0.97       229\n",
      "          4       0.75      0.76      0.76       245\n",
      "          5       0.92      0.93      0.92       239\n",
      "\n",
      "avg / total       0.84      0.84      0.84      1440\n",
      "\n",
      "preds     0    1    2    3    4    5\n",
      "actual                              \n",
      "0       168   32    2    2   32    4\n",
      "1        28  182    2    5   22    3\n",
      "2         1    4  232    0    2    5\n",
      "3         1    3    0  219    1    0\n",
      "4        27   26    0    3  187    5\n",
      "5         7    6    6    0    1  222\n"
     ]
    }
   ],
   "source": [
    "cl2 = DecisionTreeClassifier()\n",
    "cl2.fit(X_train, y_train)\n",
    "score2 = accuracy_score(y_test, cl2.predict(X_test))\n",
    "print('Accuracy of test data is %f' %score2)\n",
    "print(classification_report(y_test, cl2.predict(X_test)))\n",
    "print (pd.crosstab(cl2.predict(X_test), y_test, rownames=['actual'], colnames=['preds']))"
   ]
  },
  {
   "cell_type": "code",
   "execution_count": 119,
   "metadata": {
    "collapsed": false
   },
   "outputs": [
    {
     "name": "stdout",
     "output_type": "stream",
     "text": [
      "1000 loops, best of 3: 219 µs per loop\n"
     ]
    }
   ],
   "source": [
    "%timeit cl2.predict(X_test.iloc[0:99])"
   ]
  },
  {
   "cell_type": "code",
   "execution_count": 120,
   "metadata": {
    "collapsed": false
   },
   "outputs": [
    {
     "name": "stdout",
     "output_type": "stream",
     "text": [
      "Accuracy of test data is 0.865972\n",
      "             precision    recall  f1-score   support\n",
      "\n",
      "          0       0.74      0.84      0.79       232\n",
      "          1       0.85      0.72      0.78       253\n",
      "          2       0.98      0.96      0.97       242\n",
      "          3       0.93      0.97      0.95       229\n",
      "          4       0.75      0.76      0.75       245\n",
      "          5       0.97      0.96      0.97       239\n",
      "\n",
      "avg / total       0.87      0.87      0.87      1440\n",
      "\n",
      "preds     0    1    2    3    4    5\n",
      "actual                              \n",
      "0       196   32    1    3   28    6\n",
      "1         8  182    0    1   23    1\n",
      "2         1    2  232    0    1    1\n",
      "3         2    5    3  222    7    0\n",
      "4        25   32    1    3  185    1\n",
      "5         0    0    5    0    1  230\n"
     ]
    }
   ],
   "source": [
    "cl3 = neighbors.KNeighborsClassifier()  \n",
    "cl3.fit(X_train, y_train)\n",
    "score3 = accuracy_score(y_test, cl3.predict(X_test))\n",
    "print('Accuracy of test data is %f' %score3)\n",
    "print(classification_report(y_test, cl3.predict(X_test)))\n",
    "print (pd.crosstab(cl3.predict(X_test), y_test, rownames=['actual'], colnames=['preds']))"
   ]
  }
 ],
 "metadata": {
  "anaconda-cloud": {},
  "kernelspec": {
   "display_name": "Python [default]",
   "language": "python",
   "name": "python2"
  },
  "language_info": {
   "codemirror_mode": {
    "name": "ipython",
    "version": 2
   },
   "file_extension": ".py",
   "mimetype": "text/x-python",
   "name": "python",
   "nbconvert_exporter": "python",
   "pygments_lexer": "ipython2",
   "version": "2.7.12"
  }
 },
 "nbformat": 4,
 "nbformat_minor": 1
}
