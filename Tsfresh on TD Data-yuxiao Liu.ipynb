{
 "cells": [
  {
   "cell_type": "markdown",
   "metadata": {
    "deletable": true,
    "editable": true
   },
   "source": [
    "# TSFRESH Activity Recognition on TD Data"
   ]
  },
  {
   "cell_type": "code",
   "execution_count": 1,
   "metadata": {
    "collapsed": false,
    "deletable": true,
    "editable": true,
    "scrolled": true
   },
   "outputs": [],
   "source": [
    "%matplotlib inline\n",
    "import matplotlib.pylab as plt\n",
    "import matplotlib\n",
    "from tsfresh.examples.har_dataset import download_har_dataset, load_har_dataset, load_har_classes\n",
    "# import seaborn as sns\n",
    "from tsfresh import extract_features, extract_relevant_features, select_features\n",
    "from tsfresh.utilities.dataframe_functions import impute\n",
    "from tsfresh.feature_extraction import ComprehensiveFCParameters, EfficientFCParameters, MinimalFCParameters\n",
    "from sklearn.tree import DecisionTreeClassifier\n",
    "from sklearn.cross_validation import train_test_split\n",
    "from sklearn.metrics import classification_report\n",
    "from pandas import DataFrame\n",
    "import pandas as pd\n",
    "import numpy as np\n",
    "import os\n",
    "import math\n",
    "\n",
    "import logging"
   ]
  },
  {
   "cell_type": "code",
   "execution_count": 2,
   "metadata": {
    "collapsed": true
   },
   "outputs": [],
   "source": [
    "# We set the logger to Error level\n",
    "# This is not recommend for normal use as you can oversee important Warning messages\n",
    "logging.basicConfig(level=logging.ERROR)"
   ]
  },
  {
   "cell_type": "markdown",
   "metadata": {},
   "source": [
    "## Data Preprocessing for tsfresh\n",
    "for tsfresh指通过为了tsfresh能提取特征，需要做些格式处理。\n",
    "tsfresh能接受的pandas.DataFrame有三种，这里使用了Stack DataFrame形式，格式详情可以见[Data Formats](http://tsfresh.readthedocs.io/en/latest/text/data_formats.html)\n",
    "下面，首先定义一些常量和函数："
   ]
  },
  {
   "cell_type": "code",
   "execution_count": 3,
   "metadata": {
    "collapsed": true
   },
   "outputs": [],
   "source": [
    "# 六种出行方式\n",
    "travel=[\"bus\", \"car\", \"running\", \"stationary\", \"subway\", \"walking\"]\n",
    "# 六个传感器数据\n",
    "sensor=[\"azimath\", \"pitch\", \"roll\", \"north\", \"east\", \"up\"]\n",
    "# 一些常量\n",
    "filenum=6\n",
    "sensornum=6\n",
    "#窗口大小\n",
    "win=50\n",
    "#使用的样本数量(一个窗口的数据是一个样本)，建议设置陈6的倍数\n",
    "use_num=600"
   ]
  },
  {
   "cell_type": "code",
   "execution_count": 4,
   "metadata": {
    "collapsed": true
   },
   "outputs": [],
   "source": [
    "#根据Win，生成DataFrame格式中的Time列\n",
    "def getTimeColumn(win):\n",
    "    time=np.arange(win)\n",
    "    for idx in range(1, sensornum):\n",
    "        timetmp=np.arange(win)\n",
    "        time=np.concatenate((time, timetmp), axis=0)\n",
    "    time.shape=(len(time),1)\n",
    "    return time\n",
    "\n",
    "#根据Win和数据，生成DataFrame格式中的kind和value列\n",
    "def getKindValueColumn(sd, win):\n",
    "    for i in range(sensornum):\n",
    "        kind=i*np.ones((win, 1),dtype=int)\n",
    "        sensorcols=sd[i]\n",
    "        sensorcols.shape=(win, 1)\n",
    "        sdata=np.column_stack((kind, sensorcols))\n",
    "        if i==0:\n",
    "            sensorframe=sdata\n",
    "        else:\n",
    "            sensorframe=np.row_stack((sensorframe, sdata))\n",
    "    return sensorframe\n",
    "\n",
    "def getIdColumn(num, win):\n",
    "    for i in range(num):\n",
    "        if i==0:\n",
    "            idary=0*np.ones((sensornum*win, 1))\n",
    "        else:\n",
    "            idary=np.row_stack((idary, i*np.ones((sensornum*win, 1))))\n",
    "    return idary\n",
    "\n",
    "def getDataLabelColumn(dataary,label, num, win):\n",
    "    for i in range(filenum):\n",
    "        if i==0:\n",
    "            y=label[travel[i]][:num]\n",
    "            data=dataary[travel[i]][:num*win*sensornum]\n",
    "        else:\n",
    "            y=np.row_stack((y, label[travel[i]][:num]))\n",
    "            data=np.row_stack((data, dataary[travel[i]][:num*win*sensornum]))\n",
    "    y.shape=(len(y),)\n",
    "    y=pd.Series(y)\n",
    "    return data, y\n"
   ]
  },
  {
   "cell_type": "code",
   "execution_count": 5,
   "metadata": {
    "collapsed": false
   },
   "outputs": [],
   "source": [
    "#读取所有数据，结果是字典，分别存储六种运动的传感器读数矩阵，每个矩阵的三列分别是time, kind, value\n",
    "def loadData(win):\n",
    "    labeldict={}\n",
    "    datadict={}\n",
    "    files = os.listdir('/home/hadoop/data')\n",
    "    for i in range(0, filenum):\n",
    "        with open('/home/hadoop/data/%s' % files[i], 'r') as f:\n",
    "            sensordata=np.loadtxt(f, delimiter=\",\")\n",
    "            for j in range(0, math.ceil(len(sensordata)/win)):\n",
    "                sd=sensordata[win*j:win*(j+1),:]\n",
    "                sd=sd.transpose()\n",
    "                \n",
    "                time=getTimeColumn(win)\n",
    "                kindvalue=getKindValueColumn(sd, win)\n",
    "                travary=np.column_stack((time, kindvalue ))\n",
    "                \n",
    "                if j == 0:\n",
    "                    dataarray=travary\n",
    "                else:\n",
    "                    dataarray=np.concatenate((dataarray, travary), axis=0)  \n",
    "\n",
    "            labeldict[travel[i]]=i*np.ones((math.ceil(len(sensordata)/win), 1), dtype=int)\n",
    "            datadict[travel[i]]=dataarray\n",
    "            print(files[i]+\" loaded!\")\n",
    "            \n",
    "    return datadict, labeldict\n",
    "\n",
    "#从所有数据dataary和其标签label中，选出总数为num的样本，每个类别选num/sensornum个样本。\n",
    "def genTrainSample(dataary, label, num, win):\n",
    "    idary=getIdColumn(num, win)\n",
    "    labelnum=int(num/sensornum) ;\n",
    "    data, y=getDataLabelColumn(dataary, label, labelnum, win)\n",
    "    data=np.column_stack((idary, data))\n",
    "    dataframe = DataFrame(data, columns=['id', 'time', 'kind', 'value'])\n",
    "    return dataframe, y"
   ]
  },
  {
   "cell_type": "markdown",
   "metadata": {
    "deletable": true,
    "editable": true
   },
   "source": [
    "## Load and visualize data\n",
    "读取6个文件中的数据，先存在一个dict里面，然后根据tsfresh的格式要求转化陈pandas.DataFrame形式。"
   ]
  },
  {
   "cell_type": "code",
   "execution_count": null,
   "metadata": {
    "collapsed": false,
    "deletable": true,
    "editable": true
   },
   "outputs": [],
   "source": [
    "%pdb\n",
    "data, label = loadData(win)"
   ]
  },
  {
   "cell_type": "code",
   "execution_count": 7,
   "metadata": {
    "collapsed": false
   },
   "outputs": [
    {
     "name": "stdout",
     "output_type": "stream",
     "text": [
      "(729900, 3)\n",
      "(2433, 1)\n"
     ]
    }
   ],
   "source": [
    "print(data[\"bus\"].shape)        #data[\"bus]矩阵三列分别是time, kind, value\n",
    "print(label[\"bus\"].shape)       #只有一列，因为sensornum*win条读数才是一个样本，所以label的行数是data的1/(sensornum*win)"
   ]
  },
  {
   "cell_type": "code",
   "execution_count": 8,
   "metadata": {
    "collapsed": false
   },
   "outputs": [
    {
     "name": "stdout",
     "output_type": "stream",
     "text": [
      "(180000, 4)\n",
      "<class 'pandas.core.series.Series'>\n",
      "(600,)\n"
     ]
    }
   ],
   "source": [
    "#取出use_num个样本，并将data转化成tsfresh需要的pandas.DataFrame类型，存储为df；将label转化为特征过滤需要的pandas.Series类型，存储为y\n",
    "df, y=genTrainSample(data, label, use_num, win)    \n",
    "\n",
    "print(df.shape)\n",
    "print(type(y))\n",
    "print(y.shape)"
   ]
  },
  {
   "cell_type": "code",
   "execution_count": 9,
   "metadata": {
    "collapsed": false
   },
   "outputs": [],
   "source": [
    "#画出第idx个样本六个传感器的数据\n",
    "def plotSample(data, kind, idx, win):\n",
    "    fig = matplotlib.pyplot.gcf()\n",
    "    fig.set_size_inches(18.5, 10.5)\n",
    "    data=data[kind]\n",
    "    for i in range(sensornum):\n",
    "        plt.subplot(3,2,i+1)\n",
    "        plt.title(sensor[i] + ' readings')\n",
    "        begin=idx*win*sensornum + win*i\n",
    "        end=begin+win-1\n",
    "        plt.plot(data[begin:end, 2])\n",
    "    plt.show()"
   ]
  },
  {
   "cell_type": "code",
   "execution_count": 10,
   "metadata": {
    "collapsed": false,
    "deletable": true,
    "editable": true
   },
   "outputs": [
    {
     "data": {
      "image/png": "[encoded data removed]",
      "text/plain": [
       "<matplotlib.figure.Figure at 0x7f94a9667410>"
      ]
     },
     "metadata": {},
     "output_type": "display_data"
    }
   ],
   "source": [
    "#展示bus数据，第idx条数据的传感器读数，注意这里的纵轴范围还没有统一，不能直接跨样本对比\n",
    "kind=\"bus\"; idx=0\n",
    "plotSample(data, kind, idx, win)"
   ]
  },
  {
   "cell_type": "markdown",
   "metadata": {
    "deletable": true,
    "editable": true
   },
   "source": [
    "## Extract Features"
   ]
  },
  {
   "cell_type": "code",
   "execution_count": 11,
   "metadata": {
    "collapsed": false
   },
   "outputs": [
    {
     "name": "stdout",
     "output_type": "stream",
     "text": [
      "(180000, 4)\n",
      "           id  time  kind      value\n",
      "0         0.0   0.0   0.0   1.202669\n",
      "1         0.0   1.0   0.0   1.200916\n",
      "2         0.0   2.0   0.0   1.191972\n",
      "3         0.0   3.0   0.0   1.186100\n",
      "4         0.0   4.0   0.0   1.181217\n",
      "5         0.0   5.0   0.0   1.191511\n",
      "6         0.0   6.0   0.0   1.197771\n",
      "7         0.0   7.0   0.0   1.205506\n",
      "8         0.0   8.0   0.0   1.201536\n",
      "9         0.0   9.0   0.0   1.206752\n",
      "10        0.0  10.0   0.0   1.189720\n",
      "11        0.0  11.0   0.0   1.188346\n",
      "12        0.0  12.0   0.0   1.182130\n",
      "13        0.0  13.0   0.0   1.191688\n",
      "14        0.0  14.0   0.0   1.189974\n",
      "15        0.0  15.0   0.0   1.203741\n",
      "16        0.0  16.0   0.0   1.204384\n",
      "17        0.0  17.0   0.0   1.202886\n",
      "18        0.0  18.0   0.0   1.189893\n",
      "19        0.0  19.0   0.0   1.186932\n",
      "20        0.0  20.0   0.0   1.184310\n",
      "21        0.0  21.0   0.0   1.179736\n",
      "22        0.0  22.0   0.0   1.178087\n",
      "23        0.0  23.0   0.0   1.178802\n",
      "24        0.0  24.0   0.0   1.164416\n",
      "25        0.0  25.0   0.0   1.168749\n",
      "26        0.0  26.0   0.0   1.167735\n",
      "27        0.0  27.0   0.0   1.170264\n",
      "28        0.0  28.0   0.0   1.174926\n",
      "29        0.0  29.0   0.0   1.190670\n",
      "...       ...   ...   ...        ...\n",
      "179970  599.0  20.0   5.0   2.421436\n",
      "179971  599.0  21.0   5.0   2.807383\n",
      "179972  599.0  22.0   5.0   3.354070\n",
      "179973  599.0  23.0   5.0   5.946856\n",
      "179974  599.0  24.0   5.0   4.589533\n",
      "179975  599.0  25.0   5.0   4.320420\n",
      "179976  599.0  26.0   5.0   5.598176\n",
      "179977  599.0  27.0   5.0   6.774885\n",
      "179978  599.0  28.0   5.0   7.605174\n",
      "179979  599.0  29.0   5.0   8.712867\n",
      "179980  599.0  30.0   5.0   9.520476\n",
      "179981  599.0  31.0   5.0  10.006044\n",
      "179982  599.0  32.0   5.0  10.261085\n",
      "179983  599.0  33.0   5.0  11.284548\n",
      "179984  599.0  34.0   5.0  11.090803\n",
      "179985  599.0  35.0   5.0  11.403045\n",
      "179986  599.0  36.0   5.0  11.908760\n",
      "179987  599.0  37.0   5.0  12.716991\n",
      "179988  599.0  38.0   5.0  13.862455\n",
      "179989  599.0  39.0   5.0  14.433486\n",
      "179990  599.0  40.0   5.0  14.790060\n",
      "179991  599.0  41.0   5.0  14.971925\n",
      "179992  599.0  42.0   5.0  14.805296\n",
      "179993  599.0  43.0   5.0  14.124926\n",
      "179994  599.0  44.0   5.0  13.446023\n",
      "179995  599.0  45.0   5.0  12.781500\n",
      "179996  599.0  46.0   5.0  12.052107\n",
      "179997  599.0  47.0   5.0  11.347051\n",
      "179998  599.0  48.0   5.0  10.729447\n",
      "179999  599.0  49.0   5.0  10.202834\n",
      "\n",
      "[180000 rows x 4 columns]\n"
     ]
    }
   ],
   "source": [
    "master_df = df\n",
    "\n",
    "print(master_df.shape)\n",
    "print(master_df)"
   ]
  },
  {
   "cell_type": "code",
   "execution_count": 12,
   "metadata": {
    "collapsed": true
   },
   "outputs": [],
   "source": [
    "# extraction_settings = ComprehensiveFCParameters()\n",
    "extraction_settings = EfficientFCParameters()\n",
    "# extraction_settings = MinimalFCParameters()"
   ]
  },
  {
   "cell_type": "code",
   "execution_count": 13,
   "metadata": {
    "collapsed": false,
    "deletable": true,
    "editable": true
   },
   "outputs": [
    {
     "name": "stderr",
     "output_type": "stream",
     "text": [
      "Feature Extraction: 100%|██████████| 6/6 [04:23<00:00, 41.68s/it]"
     ]
    },
    {
     "name": "stdout",
     "output_type": "stream",
     "text": [
      "CPU times: user 168 ms, sys: 58.4 ms, total: 226 ms\n",
      "Wall time: 4min 23s\n"
     ]
    },
    {
     "name": "stderr",
     "output_type": "stream",
     "text": [
      "\n"
     ]
    }
   ],
   "source": [
    "%time X = extract_features(master_df, default_fc_parameters=extraction_settings, column_id='id', column_sort=\"time\", column_kind=\"kind\", column_value=\"value\");\n",
    "# %time X = extract_features(master_df, column_id='id', column_sort=\"time\", column_kind=\"kind\", column_value=\"value\");"
   ]
  },
  {
   "cell_type": "code",
   "execution_count": 14,
   "metadata": {
    "collapsed": false,
    "deletable": true,
    "editable": true
   },
   "outputs": [
    {
     "data": {
      "text/plain": [
       "(600, 1614)"
      ]
     },
     "execution_count": 14,
     "metadata": {},
     "output_type": "execute_result"
    }
   ],
   "source": [
    "# in total we have transformed the sensor data into 222 features\n",
    "impute(X)\n",
    "X.shape"
   ]
  },
  {
   "cell_type": "code",
   "execution_count": 15,
   "metadata": {
    "collapsed": false
   },
   "outputs": [
    {
     "data": {
      "text/plain": [
       "Index([u'1.0__mean_abs_change_quantiles__qh_0.4__ql_0.8',\n",
       "       u'1.0__mean_abs_change_quantiles__qh_0.4__ql_0.2',\n",
       "       u'1.0__mean_abs_change_quantiles__qh_0.4__ql_0.0',\n",
       "       u'1.0__mean_abs_change_quantiles__qh_0.4__ql_0.6',\n",
       "       u'1.0__mean_abs_change_quantiles__qh_0.4__ql_0.4',\n",
       "                u'1.0__large_standard_deviation__r_0.15',\n",
       "                         u'1.0__value_count__value_-inf',\n",
       "                          u'1.0__autocorrelation__lag_6',\n",
       "                       u'1.0__longest_strike_below_mean',\n",
       "        u'1.0__time_reversal_asymmetry_statistic__lag_1',\n",
       "       ...\n",
       "                        u'4.0__fft_coefficient__coeff_0',\n",
       "                        u'4.0__fft_coefficient__coeff_1',\n",
       "                        u'4.0__fft_coefficient__coeff_2',\n",
       "                        u'4.0__fft_coefficient__coeff_3',\n",
       "                        u'4.0__fft_coefficient__coeff_4',\n",
       "                        u'4.0__fft_coefficient__coeff_5',\n",
       "                        u'4.0__fft_coefficient__coeff_6',\n",
       "                        u'4.0__fft_coefficient__coeff_7',\n",
       "                        u'4.0__fft_coefficient__coeff_8',\n",
       "                        u'4.0__fft_coefficient__coeff_9'],\n",
       "      dtype='object', length=1614)"
      ]
     },
     "execution_count": 15,
     "metadata": {},
     "output_type": "execute_result"
    }
   ],
   "source": [
    "X.columns"
   ]
  },
  {
   "cell_type": "markdown",
   "metadata": {
    "collapsed": true,
    "deletable": true,
    "editable": true
   },
   "source": [
    "## Train and evaluate classifier"
   ]
  },
  {
   "cell_type": "code",
   "execution_count": 16,
   "metadata": {
    "collapsed": false,
    "deletable": true,
    "editable": true
   },
   "outputs": [],
   "source": [
    "X_train, X_test, y_train, y_test = train_test_split(X, y, test_size=.2)"
   ]
  },
  {
   "cell_type": "code",
   "execution_count": 17,
   "metadata": {
    "collapsed": false,
    "deletable": true,
    "editable": true,
    "scrolled": true
   },
   "outputs": [
    {
     "name": "stdout",
     "output_type": "stream",
     "text": [
      "             precision    recall  f1-score   support\n",
      "\n",
      "          0       1.00      1.00      1.00        17\n",
      "          1       0.90      0.90      0.90        21\n",
      "          2       1.00      1.00      1.00        22\n",
      "          3       1.00      1.00      1.00        22\n",
      "          4       0.87      0.87      0.87        15\n",
      "          5       1.00      1.00      1.00        23\n",
      "\n",
      "avg / total       0.97      0.97      0.97       120\n",
      "\n"
     ]
    }
   ],
   "source": [
    "cl = DecisionTreeClassifier()\n",
    "cl.fit(X_train, y_train)\n",
    "print(classification_report(y_test, cl.predict(X_test)))"
   ]
  },
  {
   "cell_type": "markdown",
   "metadata": {},
   "source": [
    "# Multiclass feature selection"
   ]
  },
  {
   "cell_type": "markdown",
   "metadata": {},
   "source": [
    "+ 若extraction_settings=EfficientFCParameters()\n",
    "计算的是所有特征中计算速度较快，time cost较小的特征，考虑所有传感器序列，共得到1614个特征。\n",
    "+ 若extraction_settings=MinimalFCParameters()\n",
    "只计算最少的特征，共得到48个"
   ]
  },
  {
   "cell_type": "markdown",
   "metadata": {},
   "source": [
    "考虑使用tsfresh的select_features来筛选，但是该函数只对二分类或者回归任务有作用。对于这个6分类问题，需要将其转化成6个二分类问题，然后对每个问题进行特征选择。"
   ]
  },
  {
   "cell_type": "code",
   "execution_count": 18,
   "metadata": {
    "collapsed": false
   },
   "outputs": [
    {
     "name": "stdout",
     "output_type": "stream",
     "text": [
      "Number of relevant features for class 0: 447/1614\n",
      "Number of relevant features for class 1: 416/1614\n",
      "Number of relevant features for class 2: 578/1614\n",
      "Number of relevant features for class 3: 669/1614\n",
      "Number of relevant features for class 4: 420/1614\n",
      "Number of relevant features for class 5: 555/1614\n"
     ]
    }
   ],
   "source": [
    "relevant_features = set()\n",
    "\n",
    "for label in y.unique():\n",
    "    y_train_binary = y_train == label\n",
    "    X_train_filtered = select_features(X_train, y_train_binary)\n",
    "    print(\"Number of relevant features for class {}: {}/{}\".format(label, X_train_filtered.shape[1], X_train.shape[1]))\n",
    "    relevant_features = relevant_features.union(set(X_train_filtered.columns))"
   ]
  },
  {
   "cell_type": "code",
   "execution_count": 19,
   "metadata": {
    "collapsed": false
   },
   "outputs": [
    {
     "data": {
      "text/plain": [
       "878"
      ]
     },
     "execution_count": 19,
     "metadata": {},
     "output_type": "execute_result"
    }
   ],
   "source": [
    "len(relevant_features)"
   ]
  },
  {
   "cell_type": "markdown",
   "metadata": {},
   "source": [
    "于是特征数量从1614降到了878"
   ]
  },
  {
   "cell_type": "code",
   "execution_count": 20,
   "metadata": {
    "collapsed": false
   },
   "outputs": [
    {
     "name": "stdout",
     "output_type": "stream",
     "text": [
      "             precision    recall  f1-score   support\n",
      "\n",
      "          0       0.89      1.00      0.94        17\n",
      "          1       0.91      0.95      0.93        21\n",
      "          2       0.95      0.95      0.95        22\n",
      "          3       1.00      1.00      1.00        22\n",
      "          4       1.00      0.80      0.89        15\n",
      "          5       0.96      0.96      0.96        23\n",
      "\n",
      "avg / total       0.95      0.95      0.95       120\n",
      "\n"
     ]
    }
   ],
   "source": [
    "cl = DecisionTreeClassifier()\n",
    "cl.fit(X_train, y_train)\n",
    "print(classification_report(y_test, cl.predict(X_test)))"
   ]
  },
  {
   "cell_type": "markdown",
   "metadata": {},
   "source": [
    "测试精度也有一定降低"
   ]
  },
  {
   "cell_type": "markdown",
   "metadata": {
    "deletable": true,
    "editable": true
   },
   "source": [
    "## Compare against naive classification accuracy"
   ]
  },
  {
   "cell_type": "markdown",
   "metadata": {},
   "source": [
    "### Data Preprocessing for Native method\n",
    "Native method指不提取特征，直接用所有传感器读数进行训练"
   ]
  },
  {
   "cell_type": "code",
   "execution_count": 21,
   "metadata": {
    "collapsed": true
   },
   "outputs": [],
   "source": [
    "def loadNative(win):\n",
    "    labeldict={}\n",
    "    datadict={}\n",
    "    files = os.listdir('/home/hadoop/data')\n",
    "    for i in range(0, filenum):\n",
    "        with open('/home/hadoop/data/%s' % files[i], 'r') as f:\n",
    "            sensordata=np.loadtxt(f, delimiter=\",\")\n",
    "            for j in range(0, math.ceil(len(sensordata)/win)):\n",
    "                sd=sensordata[win*j:win*(j+1),:]\n",
    "                sd=sd.transpose()\n",
    "                \n",
    "                sdary=sd[0]\n",
    "                for idx in range(1, sensornum):\n",
    "                    sdary=np.concatenate((sdary, sd[idx]), axis=0)\n",
    "                sdary.shape=(len(sdary), 1)\n",
    "                if j == 0:\n",
    "                    dataarray=sdary\n",
    "                else:\n",
    "                    dataarray=np.concatenate((dataarray, sdary), axis=1)\n",
    "            \n",
    "            dataarray=np.transpose(dataarray)\n",
    "            labeldict[travel[i]]=i*np.ones((math.ceil(len(sensordata)/win), 1), dtype=int)\n",
    "            datadict[travel[i]]=dataarray\n",
    "            print(files[i]+\" loaded!\")\n",
    "    print(\"Finished!\") \n",
    "    return datadict, labeldict\n",
    "\n",
    "def genNativeSample(dataary, label, num, win): \n",
    "    num=int(num/sensornum)\n",
    "    for i in range(filenum):\n",
    "        if i==0:\n",
    "#             idary=0*np.ones((num, 1))\n",
    "            y=label[travel[i]][:num]\n",
    "            data=dataary[travel[i]][:num]\n",
    "        else:\n",
    "            y=np.row_stack((y, label[travel[i]][:num]))\n",
    "            data=np.row_stack((data, dataary[travel[i]][:num]))\n",
    "#             idary=np.row_stack((idary, i*np.ones((num, 1))))\n",
    "#     data=np.column_stack((idary, data))\n",
    "    dataframe = DataFrame(data)\n",
    "    y.shape=(len(y),)\n",
    "    y=pd.Series(y)\n",
    "    return dataframe, y"
   ]
  },
  {
   "cell_type": "code",
   "execution_count": 22,
   "metadata": {
    "collapsed": false
   },
   "outputs": [
    {
     "name": "stdout",
     "output_type": "stream",
     "text": [
      "bus_data_set_101 loaded!\n",
      "car_data_set_103 loaded!\n",
      "running_data_set_8 loaded!\n",
      "stationary_data_set_3 loaded!\n",
      "subway_data_set_102 loaded!\n",
      "walking_data_set_7 loaded!\n",
      "Finished!\n"
     ]
    }
   ],
   "source": [
    "data_1, label_1 = loadNative(win)"
   ]
  },
  {
   "cell_type": "code",
   "execution_count": 23,
   "metadata": {
    "collapsed": false
   },
   "outputs": [
    {
     "name": "stdout",
     "output_type": "stream",
     "text": [
      "[[  1.202669   1.200916   1.191972 ...,   9.192549   9.123791   9.205205]\n",
      " [  1.174252   1.181372   1.184168 ...,   9.815362   9.744626  10.007574]\n",
      " [  1.192499   1.185541   1.197649 ...,   9.266212   9.298781   9.558616]\n",
      " ..., \n",
      " [  0.962858   0.902889   0.902889 ...,  10.14386   10.15975   10.047433]\n",
      " [  1.078792   1.078792   1.047231 ...,   9.749497   9.74547    9.935755]\n",
      " [  1.045144   1.067814   1.0148   ...,   9.885616   9.996784  10.21252 ]]\n"
     ]
    }
   ],
   "source": [
    "# print(data_1[\"bus\"].shape)\n",
    "print(data_1[\"bus\"])"
   ]
  },
  {
   "cell_type": "code",
   "execution_count": 24,
   "metadata": {
    "collapsed": false
   },
   "outputs": [],
   "source": [
    "X_1, y=genNativeSample(data_1, label_1, use_num, win)"
   ]
  },
  {
   "cell_type": "code",
   "execution_count": 25,
   "metadata": {
    "collapsed": false,
    "deletable": true,
    "editable": true
   },
   "outputs": [
    {
     "data": {
      "text/plain": [
       "(600, 300)"
      ]
     },
     "execution_count": 25,
     "metadata": {},
     "output_type": "execute_result"
    }
   ],
   "source": [
    "X_1.shape"
   ]
  },
  {
   "cell_type": "code",
   "execution_count": 26,
   "metadata": {
    "collapsed": false,
    "deletable": true,
    "editable": true
   },
   "outputs": [],
   "source": [
    "X_train, X_test, y_train, y_test = train_test_split(X_1, y, test_size=.2)\n",
    "\n",
    "# print(X_train.head())\n",
    "# print(X_test.head())\n",
    "# print(y_train.head())\n",
    "# print(y_test.head())"
   ]
  },
  {
   "cell_type": "code",
   "execution_count": 27,
   "metadata": {
    "collapsed": false,
    "deletable": true,
    "editable": true
   },
   "outputs": [
    {
     "name": "stdout",
     "output_type": "stream",
     "text": [
      "             precision    recall  f1-score   support\n",
      "\n",
      "          0       0.94      1.00      0.97        15\n",
      "          1       0.96      0.92      0.94        24\n",
      "          2       0.95      0.77      0.85        26\n",
      "          3       0.92      1.00      0.96        24\n",
      "          4       0.72      1.00      0.84        13\n",
      "          5       0.94      0.83      0.88        18\n",
      "\n",
      "avg / total       0.92      0.91      0.91       120\n",
      "\n"
     ]
    }
   ],
   "source": [
    "cl = DecisionTreeClassifier()\n",
    "cl.fit(X_train, y_train)\n",
    "\n",
    "# print(cl.predict(X_train))\n",
    "# print(cl.predict(X_test))\n",
    "print(classification_report(y_test, cl.predict(X_test)))"
   ]
  },
  {
   "cell_type": "markdown",
   "metadata": {},
   "source": []
  }
 ],
 "metadata": {
  "kernelspec": {
   "display_name": "Python [default]",
   "language": "python",
   "name": "python2"
  },
  "language_info": {
   "codemirror_mode": {
    "name": "ipython",
    "version": 2
   },
   "file_extension": ".py",
   "mimetype": "text/x-python",
   "name": "python",
   "nbconvert_exporter": "python",
   "pygments_lexer": "ipython2",
   "version": "2.7.12"
  }
 },
 "nbformat": 4,
 "nbformat_minor": 1
}
