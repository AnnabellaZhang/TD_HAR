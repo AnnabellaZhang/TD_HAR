{
 "cells": [
  {
   "cell_type": "markdown",
   "metadata": {
    "deletable": true,
    "editable": true
   },
   "source": [
    "# TSFRESH Activity Recognition on WISDM Data"
   ]
  },
  {
   "cell_type": "code",
   "execution_count": 20,
   "metadata": {
    "collapsed": false,
    "deletable": true,
    "editable": true,
    "scrolled": true
   },
   "outputs": [],
   "source": [
    "%matplotlib inline\n",
    "import matplotlib.pylab as plt\n",
    "import matplotlib\n",
    "from tsfresh.examples.har_dataset import download_har_dataset, load_har_dataset, load_har_classes\n",
    "# import seaborn as sns\n",
    "from tsfresh import extract_features, extract_relevant_features, select_features\n",
    "from tsfresh.utilities.dataframe_functions import impute\n",
    "from tsfresh.feature_extraction import ComprehensiveFCParameters, EfficientFCParameters, MinimalFCParameters\n",
    "from sklearn.tree import DecisionTreeClassifier\n",
    "from sklearn.cross_validation import train_test_split\n",
    "from sklearn.metrics import classification_report\n",
    "from pandas import DataFrame\n",
    "import pandas as pd\n",
    "import numpy as np\n",
    "import os\n",
    "import math\n",
    "\n",
    "import logging"
   ]
  },
  {
   "cell_type": "code",
   "execution_count": 21,
   "metadata": {
    "collapsed": true
   },
   "outputs": [],
   "source": [
    "# We set the logger to Error level\n",
    "# This is not recommend for normal use as you can oversee important Warning messages\n",
    "logging.basicConfig(level=logging.ERROR)"
   ]
  },
  {
   "cell_type": "markdown",
   "metadata": {},
   "source": [
    "## Data Preprocessing for tsfresh\n",
    "for tsfresh指通过为了tsfresh能提取特征，需要做些格式处理。\n",
    "tsfresh能接受的pandas.DataFrame有三种，这里使用了Stack DataFrame形式，格式详情可以见[Data Formats](http://tsfresh.readthedocs.io/en/latest/text/data_formats.html)\n",
    "下面，首先定义一些常量和函数："
   ]
  },
  {
   "cell_type": "code",
   "execution_count": 22,
   "metadata": {
    "collapsed": false
   },
   "outputs": [],
   "source": [
    "# 六种行为\n",
    "activity=[\"Walking\", \"Sitting\", \"Jogging\", \"Standing\", \"LyingDown\", \"Stairs\"]\n",
    "# 六个传感器数据\n",
    "fields=[\"user\", \"activity\", \"timestamp\", \"x-accel\", \"y-accel\", \"z-accel\"]\n",
    "sensor=[\"x-accel\", \"y-accel\", \"z-accel\"]\n",
    "type(fields)\n",
    "# 一些常量\n",
    "file_name='WISDM_at_v2.0_my.txt'\n",
    "sensornum=3\n",
    "#窗口大小和步长\n",
    "win_size=60\n",
    "step_size=30\n",
    "#使用的样本数量(一个窗口的数据是一个样本)，建议设置陈6的倍数\n",
    "use_num=600\n",
    "datatmp=np.array"
   ]
  },
  {
   "cell_type": "code",
   "execution_count": 23,
   "metadata": {
    "collapsed": false
   },
   "outputs": [],
   "source": [
    "#根据Win，生成DataFrame格式中的Time列\n",
    "def getTimeColumn(win):\n",
    "    time=np.arange(win)\n",
    "    for idx in range(1, sensornum):\n",
    "        timetmp=np.arange(win)\n",
    "        time=np.concatenate((time, timetmp), axis=0)\n",
    "    time.shape=(len(time),1)\n",
    "    return time\n",
    "\n",
    "#根据Win和数据，生成DataFrame格式中的kind和value列\n",
    "def getKindValueColumn(sd, win):\n",
    "    for i in range(sensornum):\n",
    "        kind=i*np.ones((win, 1),dtype=int)\n",
    "        sensorcols=sd[i]\n",
    "        #print(\"size of sensorcol is %d\" %sensorcols.size)\n",
    "        sensorcols.shape=(win, 1)\n",
    "        sdata=np.column_stack((kind, sensorcols))\n",
    "        if i==0:\n",
    "            sensorframe=sdata\n",
    "        else:\n",
    "            sensorframe=np.row_stack((sensorframe, sdata))\n",
    "    return sensorframe\n",
    "\n",
    "def getIdColumn(num, win):\n",
    "    for i in range(num):\n",
    "        if i==0:\n",
    "            idarry=0*np.ones((sensornum*win, 1))\n",
    "        else:\n",
    "            idarry=np.row_stack((idarry, i*np.ones((sensornum*win, 1))))\n",
    "    return idarry\n",
    "\n",
    "def getDataLabelColumn(dataary,label, num, win):\n",
    "    for i in range(len(activity)):\n",
    "        if i==0:\n",
    "            y=label[activity[i]][:num]\n",
    "            data=dataary[activity[i]][:num*win*sensornum]\n",
    "        else:\n",
    "            y=np.row_stack((y, label[activity[i]][:num]))\n",
    "            data=np.row_stack((data, dataary[activity[i]][:num*win*sensornum]))\n",
    "    y.shape=(len(y),)\n",
    "    y=pd.Series(y)\n",
    "    return data, y\n",
    "\n",
    "def getSampleOneUser(win, sensordata, step):\n",
    "    global datatmp\n",
    "    \n",
    "    dataLen = len(sensordata)\n",
    "    j = 0\n",
    "    step_num = 0\n",
    "    while j < dataLen - win:\n",
    "        sd=sensordata[j:j+win,:]\n",
    "        sd=sd.transpose()\n",
    "        time=getTimeColumn(win)\n",
    "        kindvalue=getKindValueColumn(sd, win)\n",
    "        travary=np.column_stack((time, kindvalue))                \n",
    "        if j == 0:\n",
    "            datatmp=travary\n",
    "        else:\n",
    "            datatmp=np.concatenate((datatmp, travary), axis=0)\n",
    "        j += step\n",
    "        step_num +=1\n",
    "    return datatmp, step_num\n",
    "\n",
    "def getSampleOneActivity(win, df, act, step):\n",
    "    label_user=np.array([])\n",
    "    dataarray=np.array([])\n",
    "    users=pd.Series(df.user).value_counts().reset_index()\n",
    "    userlist=list(np.array(users[\"index\"]))\n",
    "    for i in range(pd.Series(df.user).value_counts().size):#提取测试者一种行为数据的所有采样\n",
    "        sensordata=df[df.user==userlist[i]][df.activity==activity[act]].iloc[:,3:].values\n",
    "        if sensordata.size>win*sensornum:\n",
    "            data, step_num = getSampleOneUser(win, sensordata, step)\n",
    "            label_act = act*np.ones((step_num, 1), dtype=int)\n",
    "            if label_act.size>0 and data.size>0:\n",
    "                if label_user.size == 0:\n",
    "                    label_user=label_act\n",
    "                    dataarray = data\n",
    "                else:\n",
    "                    label_user=np.concatenate((label_user, label_act), axis=0)\n",
    "                    dataarray=np.concatenate((dataarray, data), axis=0)\n",
    "    return label_user,dataarray\n",
    "        "
   ]
  },
  {
   "cell_type": "code",
   "execution_count": 24,
   "metadata": {
    "collapsed": false
   },
   "outputs": [],
   "source": [
    "#读取所有数据，结果是字典，分别存储六种运动的传感器读数矩阵，每个矩阵的三列分别是time, kind, value\n",
    "def loadData(win, df, step):\n",
    "    labeldict={}\n",
    "    datadict={}\n",
    "    for i in range(len(activity)): #收集每种行为数据\n",
    "        label_user,dataarray = getSampleOneActivity(win,df,i,step)\n",
    "        if label_user.size>0 and dataarray.size>0:\n",
    "            labeldict[activity[i]]=label_user\n",
    "            datadict[activity[i]]=dataarray\n",
    "        #print(\"user:%d\" % userlist[i] + \" loaded!\")\n",
    "    print(\"Done!\")\n",
    "    return datadict, labeldict\n",
    "\n",
    "#从所有数据dataary和其标签label中，选出总数为num的样本，每个类别选num/sensornum个样本。\n",
    "def genTrainSample(dataary, label, num, win):\n",
    "    idary=getIdColumn(num, win)\n",
    "    labelnum=int(num/len(activity)) ;\n",
    "    data, y=getDataLabelColumn(dataary, label, labelnum, win)\n",
    "    print(idary.shape)\n",
    "    print(data.shape)\n",
    "    data=np.column_stack((idary, data))\n",
    "    dataframe = DataFrame(data, columns=['id', 'time', 'kind', 'value'])\n",
    "    return dataframe, y"
   ]
  },
  {
   "cell_type": "markdown",
   "metadata": {
    "deletable": true,
    "editable": true
   },
   "source": [
    "## Load and visualize data\n",
    "读取6个文件中的数据，先存在一个dict里面，然后根据tsfresh的格式要求转化陈pandas.DataFrame形式。"
   ]
  },
  {
   "cell_type": "code",
   "execution_count": 25,
   "metadata": {
    "collapsed": false,
    "deletable": true,
    "editable": true
   },
   "outputs": [
    {
     "name": "stderr",
     "output_type": "stream",
     "text": [
      "/home/hadoop/anaconda2/lib/python2.7/site-packages/ipykernel/__main__.py:70: UserWarning: Boolean Series key will be reindexed to match DataFrame index.\n"
     ]
    },
    {
     "name": "stdout",
     "output_type": "stream",
     "text": [
      "Done!\n"
     ]
    },
    {
     "data": {
      "text/html": [
       "<div>\n",
       "<table border=\"1\" class=\"dataframe\">\n",
       "  <thead>\n",
       "    <tr style=\"text-align: right;\">\n",
       "      <th></th>\n",
       "      <th>index</th>\n",
       "      <th>activity</th>\n",
       "    </tr>\n",
       "  </thead>\n",
       "  <tbody>\n",
       "    <tr>\n",
       "      <th>0</th>\n",
       "      <td>Walking</td>\n",
       "      <td>1255923</td>\n",
       "    </tr>\n",
       "    <tr>\n",
       "      <th>1</th>\n",
       "      <td>Sitting</td>\n",
       "      <td>663706</td>\n",
       "    </tr>\n",
       "    <tr>\n",
       "      <th>2</th>\n",
       "      <td>Jogging</td>\n",
       "      <td>438871</td>\n",
       "    </tr>\n",
       "    <tr>\n",
       "      <th>3</th>\n",
       "      <td>Standing</td>\n",
       "      <td>288873</td>\n",
       "    </tr>\n",
       "    <tr>\n",
       "      <th>4</th>\n",
       "      <td>LyingDown</td>\n",
       "      <td>275967</td>\n",
       "    </tr>\n",
       "    <tr>\n",
       "      <th>5</th>\n",
       "      <td>Stairs</td>\n",
       "      <td>57425</td>\n",
       "    </tr>\n",
       "  </tbody>\n",
       "</table>\n",
       "</div>"
      ],
      "text/plain": [
       "       index  activity\n",
       "0    Walking   1255923\n",
       "1    Sitting    663706\n",
       "2    Jogging    438871\n",
       "3   Standing    288873\n",
       "4  LyingDown    275967\n",
       "5     Stairs     57425"
      ]
     },
     "execution_count": 25,
     "metadata": {},
     "output_type": "execute_result"
    }
   ],
   "source": [
    "df=pd.read_csv('/home/hadoop/data/WISDM_ar_v2.0_my.txt', header=None, names=fields,skip_blank_lines=True)\n",
    "a=pd.Series(df.activity).value_counts().reset_index()\n",
    "\n",
    "data, label = loadData(win_size, df, step_size)\n",
    "a"
   ]
  },
  {
   "cell_type": "code",
   "execution_count": 26,
   "metadata": {
    "collapsed": false,
    "scrolled": false
   },
   "outputs": [
    {
     "name": "stdout",
     "output_type": "stream",
     "text": [
      "0    41569\n",
      "dtype: int64\n",
      "1    21985\n",
      "dtype: int64\n",
      "2    14548\n",
      "dtype: int64\n",
      "3    9511\n",
      "dtype: int64\n",
      "4    9133\n",
      "dtype: int64\n",
      "5    1884\n",
      "dtype: int64\n"
     ]
    }
   ],
   "source": [
    "#print(data[0].shape)        #data[\"bus]矩阵三列分别是time, kind, value\n",
    "#print(label[0].shape)       #只有一列，因为sensornum*win条读数才是一个样本，所以label的行数是data的1/(sensornum*win)\n",
    "print(pd.Series(label[activity[0]].reshape(label[activity[0]].size,)).value_counts())\n",
    "print(pd.Series(label[activity[1]].reshape(label[activity[1]].size,)).value_counts())\n",
    "print(pd.Series(label[activity[2]].reshape(label[activity[2]].size,)).value_counts())\n",
    "print(pd.Series(label[activity[3]].reshape(label[activity[3]].size,)).value_counts())\n",
    "print(pd.Series(label[activity[4]].reshape(label[activity[4]].size,)).value_counts())\n",
    "print(pd.Series(label[activity[5]].reshape(label[activity[5]].size,)).value_counts())\n"
   ]
  },
  {
   "cell_type": "code",
   "execution_count": 27,
   "metadata": {
    "collapsed": false
   },
   "outputs": [
    {
     "name": "stdout",
     "output_type": "stream",
     "text": [
      "(108000, 1)\n",
      "(108000, 3)\n"
     ]
    }
   ],
   "source": [
    "#取出use_num个样本，并将data转化成tsfresh需要的pandas.DataFrame类型，存储为df；将label转化为特征过滤需要的pandas.Series类型，存储为y\n",
    "df, y=genTrainSample(data, label, use_num, win_size)    \n"
   ]
  },
  {
   "cell_type": "code",
   "execution_count": null,
   "metadata": {
    "collapsed": false
   },
   "outputs": [],
   "source": [
    "df.shape\n",
    "y.shape"
   ]
  },
  {
   "cell_type": "code",
   "execution_count": null,
   "metadata": {
    "collapsed": false
   },
   "outputs": [],
   "source": [
    "#画出第idx个样本3个传感器的数据\n",
    "def plotSample(data, kind, idx, win):\n",
    "    fig = matplotlib.pyplot.gcf()\n",
    "    fig.set_size_inches(18.5, 10.5)\n",
    "    data=data[kind]\n",
    "    for i in range(sensornum):\n",
    "        plt.subplot(3,2,i+1)\n",
    "        plt.title(sensor[i] + ' readings')\n",
    "        begin=idx*win*sensornum + win*i\n",
    "        end=begin+win-1\n",
    "        plt.plot(data[begin:end, 2])\n",
    "    plt.show()"
   ]
  },
  {
   "cell_type": "code",
   "execution_count": null,
   "metadata": {
    "collapsed": false,
    "deletable": true,
    "editable": true
   },
   "outputs": [],
   "source": [
    "#展示bus数据，第idx条数据的传感器读数，注意这里的纵轴范围还没有统一，不能直接跨样本对比\n",
    "kind=\"Walking\"; idx=0\n",
    "plotSample(data, kind, idx, win)"
   ]
  },
  {
   "cell_type": "markdown",
   "metadata": {
    "deletable": true,
    "editable": true
   },
   "source": [
    "## Extract Features"
   ]
  },
  {
   "cell_type": "code",
   "execution_count": null,
   "metadata": {
    "collapsed": false
   },
   "outputs": [],
   "source": [
    "master_df = df\n",
    "\n",
    "print(master_df.shape)\n",
    "print(master_df)"
   ]
  },
  {
   "cell_type": "code",
   "execution_count": null,
   "metadata": {
    "collapsed": false
   },
   "outputs": [],
   "source": [
    "extraction_settings = ComprehensiveFCParameters()\n",
    "#extraction_settings = EfficientFCParameters()\n",
    "#extraction_settings = MinimalFCParameters()\n",
    "extraction_settings"
   ]
  },
  {
   "cell_type": "code",
   "execution_count": null,
   "metadata": {
    "collapsed": false,
    "deletable": true,
    "editable": true
   },
   "outputs": [],
   "source": [
    "%time X = extract_features(master_df, default_fc_parameters=extraction_settings, column_id='id', column_sort=\"time\", column_kind=\"kind\", column_value=\"value\");\n",
    "# %time X = extract_features(master_df, column_id='id', column_sort=\"time\", column_kind=\"kind\", column_value=\"value\");"
   ]
  },
  {
   "cell_type": "code",
   "execution_count": null,
   "metadata": {
    "collapsed": false,
    "deletable": true,
    "editable": true
   },
   "outputs": [],
   "source": [
    "# in total we have transformed the sensor data into 222 features\n",
    "impute(X)\n",
    "X.shape"
   ]
  },
  {
   "cell_type": "code",
   "execution_count": null,
   "metadata": {
    "collapsed": false
   },
   "outputs": [],
   "source": [
    "X.head()"
   ]
  },
  {
   "cell_type": "code",
   "execution_count": null,
   "metadata": {
    "collapsed": false
   },
   "outputs": [],
   "source": [
    "X.tail()"
   ]
  },
  {
   "cell_type": "code",
   "execution_count": null,
   "metadata": {
    "collapsed": false
   },
   "outputs": [],
   "source": [
    "y.value_counts()"
   ]
  },
  {
   "cell_type": "markdown",
   "metadata": {
    "collapsed": true,
    "deletable": true,
    "editable": true
   },
   "source": [
    "## Train and evaluate classifier"
   ]
  },
  {
   "cell_type": "code",
   "execution_count": null,
   "metadata": {
    "collapsed": false,
    "deletable": true,
    "editable": true
   },
   "outputs": [],
   "source": [
    "from sklearn.preprocessing import StandardScaler\n",
    "\n",
    "X_train, X_test, y_train, y_test = train_test_split(X, y, test_size=.2)\n",
    "ss=StandardScaler()\n",
    "X_train_ss=ss.fit_transform(X_train)\n",
    "X_test_ss=ss.transform(X_test)\n",
    "\n",
    "test=DataFrame(X_train_ss)\n",
    "test[test.isnull().values==True]"
   ]
  },
  {
   "cell_type": "code",
   "execution_count": null,
   "metadata": {
    "collapsed": false,
    "deletable": true,
    "editable": true,
    "scrolled": true
   },
   "outputs": [],
   "source": [
    "cl = DecisionTreeClassifier()\n",
    "cl.fit(X_train_ss, y_train)\n",
    "print(classification_report(y_test, cl.predict(X_test_ss)))"
   ]
  },
  {
   "cell_type": "markdown",
   "metadata": {},
   "source": [
    "# Multiclass feature selection"
   ]
  },
  {
   "cell_type": "markdown",
   "metadata": {},
   "source": [
    "+ 若extraction_settings=EfficientFCParameters()\n",
    "计算的是所有特征中计算速度较快，time cost较小的特征，考虑所有传感器序列，共得到1614个特征。\n",
    "+ 若extraction_settings=MinimalFCParameters()\n",
    "只计算最少的特征，共得到48个"
   ]
  },
  {
   "cell_type": "markdown",
   "metadata": {},
   "source": [
    "考虑使用tsfresh的select_features来筛选，但是该函数只对二分类或者回归任务有作用。对于这个6分类问题，需要将其转化成6个二分类问题，然后对每个问题进行特征选择。"
   ]
  },
  {
   "cell_type": "code",
   "execution_count": null,
   "metadata": {
    "collapsed": false
   },
   "outputs": [],
   "source": [
    "relevant_features = set()\n",
    "for label in y.unique():\n",
    "    y_train_binary = y_train == label\n",
    "    X_train_filtered = select_features(DataFrame(X_train), y_train_binary)\n",
    "    print(\"Number of relevant features for class {}: {}/{}\".format(label, X_train_filtered.shape[1], X_train.shape[1]))\n",
    "    relevant_features = relevant_features.union(set(X_train_filtered.columns))"
   ]
  },
  {
   "cell_type": "code",
   "execution_count": null,
   "metadata": {
    "collapsed": false
   },
   "outputs": [],
   "source": [
    "len(relevant_features)"
   ]
  },
  {
   "cell_type": "markdown",
   "metadata": {},
   "source": [
    "于是特征数量从807降到了469"
   ]
  },
  {
   "cell_type": "code",
   "execution_count": null,
   "metadata": {
    "collapsed": false
   },
   "outputs": [],
   "source": [
    "cl = DecisionTreeClassifier()\n",
    "cl.fit(X_train_ss, y_train)\n",
    "print(classification_report(y_test, cl.predict(X_test_ss)))"
   ]
  },
  {
   "cell_type": "markdown",
   "metadata": {},
   "source": [
    "测试精度也有一定降低"
   ]
  },
  {
   "cell_type": "markdown",
   "metadata": {
    "deletable": true,
    "editable": true
   },
   "source": [
    "## Compare against naive classification accuracy"
   ]
  },
  {
   "cell_type": "markdown",
   "metadata": {},
   "source": [
    "### Data Preprocessing for Native method\n",
    "Native method指不提取特征，直接用所有传感器读数进行训练"
   ]
  },
  {
   "cell_type": "code",
   "execution_count": null,
   "metadata": {
    "collapsed": true
   },
   "outputs": [],
   "source": [
    "def loadNative(win):\n",
    "    labeldict={}\n",
    "    datadict={}\n",
    "    files = os.listdir('/home/hadoop/data')\n",
    "    for i in range(0, filenum):\n",
    "        with open('/home/hadoop/data/%s' % files[i], 'r') as f:\n",
    "            sensordata=np.loadtxt(f, delimiter=\",\")\n",
    "            for j in range(0, math.ceil(len(sensordata)/win)):\n",
    "                sd=sensordata[win*j:win*(j+1),:]\n",
    "                sd=sd.transpose()\n",
    "                \n",
    "                sdary=sd[0]\n",
    "                for idx in range(1, sensornum):\n",
    "                    sdary=np.concatenate((sdary, sd[idx]), axis=0)\n",
    "                sdary.shape=(len(sdary), 1)\n",
    "                if j == 0:\n",
    "                    dataarray=sdary\n",
    "                else:\n",
    "                    dataarray=np.concatenate((dataarray, sdary), axis=1)\n",
    "            \n",
    "            dataarray=np.transpose(dataarray)\n",
    "            labeldict[travel[i]]=i*np.ones((math.ceil(len(sensordata)/win), 1), dtype=int)\n",
    "            datadict[travel[i]]=dataarray\n",
    "            print(files[i]+\" loaded!\")\n",
    "    print(\"Finished!\") \n",
    "    return datadict, labeldict\n",
    "\n",
    "def genNativeSample(dataary, label, num, win): \n",
    "    num=int(num/sensornum)\n",
    "    for i in range(filenum):\n",
    "        if i==0:\n",
    "#             idary=0*np.ones((num, 1))\n",
    "            y=label[travel[i]][:num]\n",
    "            data=dataary[travel[i]][:num]\n",
    "        else:\n",
    "            y=np.row_stack((y, label[travel[i]][:num]))\n",
    "            data=np.row_stack((data, dataary[travel[i]][:num]))\n",
    "#             idary=np.row_stack((idary, i*np.ones((num, 1))))\n",
    "#     data=np.column_stack((idary, data))\n",
    "    dataframe = DataFrame(data)\n",
    "    y.shape=(len(y),)\n",
    "    y=pd.Series(y)\n",
    "    return dataframe, y"
   ]
  },
  {
   "cell_type": "code",
   "execution_count": null,
   "metadata": {
    "collapsed": false
   },
   "outputs": [],
   "source": [
    "data_1, label_1 = loadNative(win)"
   ]
  },
  {
   "cell_type": "code",
   "execution_count": null,
   "metadata": {
    "collapsed": false
   },
   "outputs": [],
   "source": [
    "# print(data_1[\"bus\"].shape)\n",
    "print(data_1[\"bus\"])"
   ]
  },
  {
   "cell_type": "code",
   "execution_count": null,
   "metadata": {
    "collapsed": false
   },
   "outputs": [],
   "source": [
    "X_1, y=genNativeSample(data_1, label_1, use_num, win)"
   ]
  },
  {
   "cell_type": "code",
   "execution_count": null,
   "metadata": {
    "collapsed": false,
    "deletable": true,
    "editable": true
   },
   "outputs": [],
   "source": [
    "X_1.shape"
   ]
  },
  {
   "cell_type": "code",
   "execution_count": null,
   "metadata": {
    "collapsed": false,
    "deletable": true,
    "editable": true
   },
   "outputs": [],
   "source": [
    "X_train, X_test, y_train, y_test = train_test_split(X_1, y, test_size=.2)\n",
    "\n",
    "# print(X_train.head())\n",
    "# print(X_test.head())\n",
    "# print(y_train.head())\n",
    "# print(y_test.head())"
   ]
  },
  {
   "cell_type": "code",
   "execution_count": null,
   "metadata": {
    "collapsed": false,
    "deletable": true,
    "editable": true
   },
   "outputs": [],
   "source": [
    "cl = DecisionTreeClassifier()\n",
    "cl.fit(X_train, y_train)\n",
    "\n",
    "# print(cl.predict(X_train))\n",
    "# print(cl.predict(X_test))\n",
    "print(classification_report(y_test, cl.predict(X_test)))"
   ]
  },
  {
   "cell_type": "markdown",
   "metadata": {},
   "source": []
  },
  {
   "cell_type": "code",
   "execution_count": null,
   "metadata": {
    "collapsed": true
   },
   "outputs": [],
   "source": []
  },
  {
   "cell_type": "code",
   "execution_count": null,
   "metadata": {
    "collapsed": true
   },
   "outputs": [],
   "source": []
  }
 ],
 "metadata": {
  "anaconda-cloud": {},
  "kernelspec": {
   "display_name": "Python [default]",
   "language": "python",
   "name": "python2"
  },
  "language_info": {
   "codemirror_mode": {
    "name": "ipython",
    "version": 2
   },
   "file_extension": ".py",
   "mimetype": "text/x-python",
   "name": "python",
   "nbconvert_exporter": "python",
   "pygments_lexer": "ipython2",
   "version": "2.7.12"
  }
 },
 "nbformat": 4,
 "nbformat_minor": 1
}
