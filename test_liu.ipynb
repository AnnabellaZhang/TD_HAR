{
 "cells": [
  {
   "cell_type": "code",
   "execution_count": 1,
   "metadata": {
    "collapsed": false
   },
   "outputs": [
    {
     "name": "stdout",
     "output_type": "stream",
     "text": [
      "['bus_data_set_101', 'car_data_set_103', 'running_data_set_8', 'stationary_data_set_3', 'subway_data_set_102', 'walking_data_set_7', 'UCI HAR Dataset', 'WISDM_at_v2.0_raw.txt', 'WISDM_at_v2.0_raw_about.txt']\n"
     ]
    }
   ],
   "source": [
    "import os\n",
    "\n",
    "files = os.listdir('/home/hadoop/data')\n",
    "print(files)"
   ]
  },
  {
   "cell_type": "code",
   "execution_count": 2,
   "metadata": {
    "collapsed": false
   },
   "outputs": [
    {
     "name": "stdout",
     "output_type": "stream",
     "text": [
      "121677\n",
      "1.202669,-0.351937,0.035280,0.152070,0.369052,9.003349\r\n",
      "\n",
      "121677\n",
      "3.069149,0.114553,1.585204,-9.039667,-3.546870,-0.451787\r\n",
      "\n",
      "121677\n",
      "-3.048524,-1.065210,2.763950,2.772460,-2.679439,4.170926\r\n",
      "\n",
      "121677\n",
      "0.999235,0.031599,-0.017526,0.001641,-0.002772,9.883511\r\n",
      "\n",
      "121677\n",
      "-1.594316,-0.463053,0.054529,-1.678791,0.069098,9.138274\r\n",
      "\n",
      "121677\n",
      "-1.171808,-0.499385,0.061058,0.733591,-2.833911,9.661728\r\n",
      "\n"
     ]
    }
   ],
   "source": [
    "import os\n",
    "\n",
    "files = os.listdir('/home/hadoop/data')\n",
    "files = os.listdir('/home/hadoop/data')\n",
    "for i in range(0, 6):\n",
    "    with open('/home/hadoop/data/%s' % files[i], 'r') as f:\n",
    "        data = f.readlines()\n",
    "        print(len(data))\n",
    "        print(data[0])"
   ]
  },
  {
   "cell_type": "code",
   "execution_count": null,
   "metadata": {
    "collapsed": true
   },
   "outputs": [],
   "source": []
  }
 ],
 "metadata": {
  "anaconda-cloud": {},
  "kernelspec": {
   "display_name": "Python [default]",
   "language": "python",
   "name": "python2"
  },
  "language_info": {
   "codemirror_mode": {
    "name": "ipython",
    "version": 2
   },
   "file_extension": ".py",
   "mimetype": "text/x-python",
   "name": "python",
   "nbconvert_exporter": "python",
   "pygments_lexer": "ipython2",
   "version": "2.7.12"
  }
 },
 "nbformat": 4,
 "nbformat_minor": 1
}
